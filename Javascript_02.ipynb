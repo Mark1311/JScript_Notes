{
 "cells": [
  {
   "cell_type": "markdown",
   "id": "23ecf3a8",
   "metadata": {},
   "source": [
    "# What is the difference between null and undefined?"
   ]
  },
  {
   "cell_type": "markdown",
   "id": "7703f1c0",
   "metadata": {},
   "source": [
    "#### Null:\n",
    "\n",
    "* Null ek intentional value hoti hai, jo dikhata hai ki kisi variable ki value khaali hai.\n",
    "\n",
    "* Ye developer ke dwara manually assign hoti hai.\n",
    "\n",
    "* Null ek object type hota hai."
   ]
  },
  {
   "cell_type": "code",
   "execution_count": null,
   "id": "af752554",
   "metadata": {
    "vscode": {
     "languageId": "javascript"
    }
   },
   "outputs": [],
   "source": [
    "let x = null;\n",
    "console.log(x); // null"
   ]
  },
  {
   "cell_type": "markdown",
   "id": "52d64bf1",
   "metadata": {},
   "source": [
    "#### Undefined:\n",
    "\n",
    "* Undefined ka matlab hai ki variable declare toh kiya gaya hai, lekin usme koi value assign nahi hui.\n",
    "\n",
    "* Ye JavaScript ke dwara automatically diya jata hai agar variable ki value na ho.\n",
    "\n",
    "* Undefined ek undefined type hota hai.\n",
    "\n"
   ]
  },
  {
   "cell_type": "code",
   "execution_count": null,
   "id": "29bc7994",
   "metadata": {
    "vscode": {
     "languageId": "javascript"
    }
   },
   "outputs": [],
   "source": [
    "let y;\n",
    "console.log(y); // undefined"
   ]
  },
  {
   "cell_type": "markdown",
   "id": "9b1d48f4",
   "metadata": {},
   "source": [
    "#### Key Difference:\n",
    "Null: \"Khaali value\", jo developer assign karta hai.\n",
    "\n",
    "Undefined: \"Value nahi hai\", jo JavaScript assign karta hai."
   ]
  },
  {
   "cell_type": "code",
   "execution_count": null,
   "id": "ad5e6cc6",
   "metadata": {
    "vscode": {
     "languageId": "javascript"
    }
   },
   "outputs": [],
   "source": [
    "let a = null;       // Developer ne khaali kiya\n",
    "let b;              // Value assign nahi hui\n",
    "console.log(a);     // null\n",
    "console.log(b);     // undefined"
   ]
  },
  {
   "cell_type": "markdown",
   "id": "9279e5e9",
   "metadata": {},
   "source": [
    "# What is the event loop in JavaScript?"
   ]
  },
  {
   "cell_type": "markdown",
   "id": "7e3ca1ee",
   "metadata": {},
   "source": [
    "JavaScript ek single-threaded language hai, iska matlab ek waqt me sirf ek hi kaam execute kar sakti hai. Event loop is cheez ko manage karta hai ki kab synchronous code run kare aur kab asynchronous code ko handle kare.\n",
    "\n"
   ]
  },
  {
   "cell_type": "markdown",
   "id": "c603320d",
   "metadata": {},
   "source": [
    "### Event Loop Kaise Kaam Karta Hai?\n",
    "#### Call Stack:\n",
    "\n",
    "Synchronous code (jaise functions) yahan execute hote hain.\n",
    "\n",
    "Agar koi function execute hota hai, toh wo stack me push hota hai, aur jab wo complete hota hai toh stack se pop ho jata hai.\n",
    "\n",
    "#### Web APIs:\n",
    "\n",
    "JavaScript ke asynchronous kaam (jaise setTimeout, HTTP requests, DOM events) browser APIs ya Node.js APIs ke through handle hote hain.\n",
    "\n",
    "Jab ye kaam complete hota hai, toh result Callback Queue me bhej diya jata hai.\n",
    "\n",
    "#### Callback Queue:\n",
    "\n",
    "Asynchronous tasks (jaise setTimeout ka callback) queue me wait karte hain jab tak call stack khaali nahi ho jata.\n",
    "\n",
    "#### Event Loop:\n",
    "\n",
    "Event loop continuously check karta hai:\n",
    "\n",
    "Kya call stack khaali hai?\n",
    "\n",
    "Agar haan, toh callback queue se kaam uthake call stack me execute kar deta hai."
   ]
  },
  {
   "cell_type": "code",
   "execution_count": null,
   "id": "ce1efd08",
   "metadata": {
    "vscode": {
     "languageId": "javascript"
    }
   },
   "outputs": [],
   "source": [
    "console.log(\"Start\");\n",
    "\n",
    "setTimeout(() => {\n",
    "  console.log(\"Inside setTimeout\");\n",
    "}, 1000);\n",
    "\n",
    "console.log(\"End\");"
   ]
  },
  {
   "cell_type": "markdown",
   "id": "b4244ae2",
   "metadata": {},
   "source": [
    "* \"Start\" console pe print hoga (synchronous), kyunki ye call stack me turant execute hota hai.\n",
    "\n",
    "* setTimeout browser API ko call karega, aur iska callback (1 second ke baad) callback queue me bheja jayega.\n",
    "\n",
    "* \"End\" console pe print hoga (synchronous).\n",
    "\n",
    "* Event loop check karega ki call stack khaali hai, tab callback queue se \"Inside setTimeout\" ka callback uthake execute karega."
   ]
  },
  {
   "cell_type": "markdown",
   "id": "009a5f6b",
   "metadata": {},
   "source": [
    "# What are ES6 features, and how do they differ from ES5?"
   ]
  },
  {
   "cell_type": "markdown",
   "id": "5314fcc4",
   "metadata": {},
   "source": [
    "### ES6 Features (Naye Updates):\n",
    "\n",
    "1. Block-Scoped Variables (let aur const)\n",
    "* let aur const block-level scoping dete hain.\n",
    "* let: Mutable (change ho sakta hai).\n",
    "* const: Immutable (fix value, change nahi hota).\n",
    "* ES5: Sirf var tha, jo function-level scoped hota hai.\n",
    "\n",
    "2. Arrow Functions\n",
    "* Ek concise aur chhoti syntax functions likhne ke liye.\n",
    "* this ka context automatically bind hota hai.\n",
    "* ES5: Normal function syntax use hota tha.\n",
    "\n",
    "3. Template Literals\n",
    "* Strings ke liye backticks (`) use karte hain.\n",
    "* Multi-line strings aur interpolation easy ho jata hai.\n",
    "* ES5: String concatenate karte the.\n",
    "\n",
    "4. Default Parameters\n",
    "* Function ke parameters ke liye default value set kar sakte hain.\n",
    "* ES5: Manually default set karte the.\n",
    "\n",
    "5. Destructuring Assignment\n",
    "* Arrays aur objects ke values ko alag-alag variables me assign karte hain.\n",
    "* ES5: Properties manually access karte the.\n",
    "\n",
    "6. Spread aur Rest Operators (...)\n",
    "* Spread: Array ya object expand karta hai.\n",
    "* Rest: Remaining elements ko ek array me collect karta hai.\n",
    "\n",
    "7. Modules (import aur export)\n",
    "* Code ko alag-alag modules me todte hain.\n",
    "* ES5: CommonJS ka require use karte the.\n",
    "\n",
    "8. Classes\n",
    "* Objects aur inheritance ke liye ek clean syntax.\n",
    "* ES5: Prototype-based inheritance."
   ]
  },
  {
   "cell_type": "markdown",
   "id": "7e447fac",
   "metadata": {},
   "source": []
  },
  {
   "cell_type": "markdown",
   "id": "ed6b5f0b",
   "metadata": {},
   "source": [
    "| Feature            | ES5                    | ES6                                |\n",
    "| ------------------ | ---------------------- | ---------------------------------- |\n",
    "| **Variables**      | `var`                  | `let` aur `const`                  |\n",
    "| **Functions**      | Normal function syntax | Arrow functions aur default params |\n",
    "| **Strings**        | Concatenation with `+` | Template literals                  |\n",
    "| **Modules**        | CommonJS (`require`)   | Native `import/export`             |\n",
    "| **Async Code**     | Callback functions     | Promises aur `async/await`         |\n",
    "| **Classes**        | Prototype-based        | Class syntax                       |\n",
    "| **New Structures** | Objects, Arrays        | Map, Set                           |\n"
   ]
  },
  {
   "cell_type": "markdown",
   "id": "9519b06b",
   "metadata": {},
   "source": [
    "# What are limitations of arrow functions in javascript ?\n"
   ]
  },
  {
   "cell_type": "markdown",
   "id": "7980ffd3",
   "metadata": {},
   "source": [
    "1. Fixed this Binding:\n",
    "\n",
    "Arrow functions ka this hamesha apne surrounding (lexical) context se bind hota hai. Iska matlab hai ki ye this dynamically bind nahi hota, jo kuch scenarios me problematic ho sakta hai, jaise objects ke methods ya event handlers me.\n",
    "\n",
    "2. No arguments Object:\n",
    "\n",
    "Arrow functions me arguments object nahi hota. Agar aapko dynamic arguments handle karne hain, to arrow functions use nahi kar sakte.\n",
    "\n",
    "3. Constructor ke Liye Nahi:\n",
    "\n",
    "Arrow functions ko constructors ke roop me use nahi kiya ja sakta, kyunki inke paas prototype nahi hota. Isliye, agar aapko object instantiate karna ho, to normal function ya ES6 class ka use zaroori hai.\n",
    "\n",
    "4. Event Handlers me Issues:\n",
    "\n",
    "Event handlers me this ka reference element ke bajaye parent scope ko point karta hai, jo galat behavior de sakta hai. Agar this ka reference DOM element ke liye chahiye, to arrow functions use nahi karne chahiye.\n",
    "\n",
    "5. Complex Logic me Kam Readable:\n",
    "\n",
    "Arrow functions concise syntax ke liye bane hain, lekin agar function ka logic complex ho, to ye readability ko reduce kar sakte hain. Aise cases me traditional function better choice hota hai.\n",
    "\n",
    "6. Line Break Restrictions:\n",
    "\n",
    "Arrow functions syntax me line breaks directly allowed nahi hote, jo kabhi-kabhi syntax error create kar sakte hain."
   ]
  },
  {
   "cell_type": "markdown",
   "id": "2edca3f6",
   "metadata": {},
   "source": [
    "# How do Modules work in JS?\n"
   ]
  },
  {
   "cell_type": "markdown",
   "id": "94c2b41d",
   "metadata": {},
   "source": [
    "#### Named Exports and Imports"
   ]
  },
  {
   "cell_type": "code",
   "execution_count": null,
   "id": "564f5b8e",
   "metadata": {
    "vscode": {
     "languageId": "javascript"
    }
   },
   "outputs": [],
   "source": [
    "// Exporting Module (math.js):\n",
    "\n",
    "// Named exports\n",
    "export const add = (a, b) => a + b;\n",
    "export const multiply = (a, b) => a * b;"
   ]
  },
  {
   "cell_type": "code",
   "execution_count": null,
   "id": "0db1c2ca",
   "metadata": {
    "vscode": {
     "languageId": "javascript"
    }
   },
   "outputs": [],
   "source": [
    "// Importing Module (app.js):\n",
    "\n",
    "// Named imports\n",
    "import { add, multiply } from './math.js';\n",
    "\n",
    "console.log(add(5, 3));       // Output: 8\n",
    "console.log(multiply(5, 3));  // Output: 15"
   ]
  },
  {
   "cell_type": "markdown",
   "id": "b78fe9da",
   "metadata": {},
   "source": [
    "####  Default Export and Import"
   ]
  },
  {
   "cell_type": "code",
   "execution_count": null,
   "id": "cd840a8b",
   "metadata": {
    "vscode": {
     "languageId": "javascript"
    }
   },
   "outputs": [],
   "source": [
    "// Exporting Module (greet.js):\n",
    "\n",
    "\n",
    "// Default export\n",
    "export default function greet(name) {\n",
    "  return `Hello, ${name}!`;\n",
    "}\n",
    "\n",
    "// Importing Module (app.js):\n",
    "\n",
    "// Default import\n",
    "import greet from './greet.js';\n",
    "\n",
    "console.log(greet('John')); // Output: Hello, John!"
   ]
  },
  {
   "cell_type": "markdown",
   "id": "71df9262",
   "metadata": {},
   "source": [
    "#### Combined Export and Import"
   ]
  },
  {
   "cell_type": "code",
   "execution_count": null,
   "id": "73ba7664",
   "metadata": {
    "vscode": {
     "languageId": "javascript"
    }
   },
   "outputs": [],
   "source": [
    "// Exporting Module (math.js):\n",
    "\n",
    "\n",
    "// Named and default exports together\n",
    "export const subtract = (a, b) => a - b;\n",
    "\n",
    "export default function divide(a, b) {\n",
    "  return a / b;\n",
    "}\n",
    "// Importing Module (app.js):\n",
    "\n",
    "\n",
    "// Import default and named exports together\n",
    "import divide, { subtract } from './math.js';\n",
    "\n",
    "console.log(divide(10, 2));   // Output: 5\n",
    "console.log(subtract(10, 2)); // Output: 8"
   ]
  },
  {
   "cell_type": "markdown",
   "id": "5883dee4",
   "metadata": {},
   "source": [
    "####  Dynamic Imports (Lazy Loading)\n",
    "Dynamic imports runtime par module ko load karte hain, jo performance ko optimize karta hai."
   ]
  },
  {
   "cell_type": "code",
   "execution_count": null,
   "id": "ad740921",
   "metadata": {
    "vscode": {
     "languageId": "javascript"
    }
   },
   "outputs": [],
   "source": [
    "setTimeout(async () => {\n",
    "  const { add } = await import('./math.js');\n",
    "  console.log(add(10, 20)); // Output: 30\n",
    "}, 2000);\n"
   ]
  },
  {
   "cell_type": "markdown",
   "id": "ae9b7dd4",
   "metadata": {},
   "source": [
    "# What is call by value vs call by reference?\n"
   ]
  },
  {
   "cell_type": "markdown",
   "id": "505613ac",
   "metadata": {},
   "source": [
    "#### Call by Value\n",
    "1. Definition:\n",
    "* Jab variable ki actual value ko ek copy ke roop me function me pass kiya jata hai, to ise call by value kehte hain.\n",
    "* Function ke andar ki changes original variable ko affect nahi karte.\n",
    "\n",
    "2. Primitive Types:\n",
    "* JavaScript me primitive types (e.g., number, string, boolean) call by value ke saath pass hote hain.\n",
    "\n",
    "3. Example:\n",
    "* Ek nayi copy banti hai, aur agar function ke andar changes hote hain, to wo sirf copy me hoti hai.\n",
    "* Original variable ki value intact rehti hai."
   ]
  },
  {
   "cell_type": "code",
   "execution_count": null,
   "id": "0aae40c9",
   "metadata": {
    "vscode": {
     "languageId": "javascript"
    }
   },
   "outputs": [],
   "source": [
    "let x = 10;\n",
    "\n",
    "function modifyValue(y) {\n",
    "  y = 20; // Changes y (copy), not x\n",
    "}\n",
    "\n",
    "modifyValue(x);\n",
    "console.log(x); // Output: 10\n"
   ]
  },
  {
   "cell_type": "markdown",
   "id": "b4cdf8e4",
   "metadata": {},
   "source": [
    "#### Call by Reference\n",
    "\n",
    "1. Definition:\n",
    "* Jab variable ka memory reference pass hota hai, to ise call by reference kehte hain.\n",
    "* Function ke andar ki changes directly original variable ko affect karte hain.\n",
    "\n",
    "2. Non-Primitive Types:\n",
    "* Objects aur arrays jaise non-primitive types call by reference ke saath pass hote hain.\n",
    "\n",
    "3. Example:\n",
    "* Function me reference pass hota hai, jo original data ka location point karta hai.\n",
    "* Isliye, agar function ke andar changes hote hain, to wo original variable ko impact karte hain."
   ]
  },
  {
   "cell_type": "code",
   "execution_count": null,
   "id": "ce596628",
   "metadata": {
    "vscode": {
     "languageId": "javascript"
    }
   },
   "outputs": [],
   "source": [
    "let obj = { name: \"John\" };\n",
    "\n",
    "function modifyReference(o) {\n",
    "  o.name = \"Jane\"; // Directly modifies the original object\n",
    "}\n",
    "\n",
    "modifyReference(obj);\n",
    "console.log(obj.name); // Output: Jane\n"
   ]
  },
  {
   "cell_type": "markdown",
   "id": "6bf59e68",
   "metadata": {},
   "source": [
    "| Aspect                 | Call by Value                          | Call by Reference                           |\n",
    "| ---------------------- | -------------------------------------- | ------------------------------------------- |\n",
    "| **Definition**         | Value ki ek copy pass hoti hai.        | Memory location (reference) pass hota hai.  |\n",
    "| **Data Type**          | Primitive types (number, string, etc.) | Non-primitive types (objects, arrays)       |\n",
    "| **Effect on Original** | Original variable unaffected.          | Original variable directly modify hota hai. |\n",
    "| **Use Case**           | Immutable data.                        | Mutable data.                               |\n"
   ]
  },
  {
   "cell_type": "markdown",
   "id": "373d20ea",
   "metadata": {},
   "source": [
    "# How does the bind(), call(), and apply() methods work in JavaScript?"
   ]
  },
  {
   "cell_type": "markdown",
   "id": "04b32153",
   "metadata": {},
   "source": [
    "#### bind() Method\n",
    "1. Definition:\n",
    "* bind() ek nayi function copy return karta hai jo specific this context aur arguments ke sath bindi hoti hai.\n",
    "\n",
    "2. Key Features:\n",
    "* Function immediately execute nahi hota.\n",
    "* Sirf ek nayi function instance banata hai jo later execute ki ja sakti hai."
   ]
  },
  {
   "cell_type": "code",
   "execution_count": null,
   "id": "fc3bd2a8",
   "metadata": {
    "vscode": {
     "languageId": "javascript"
    }
   },
   "outputs": [],
   "source": [
    "const obj = { name: \"John\" };\n",
    "function greet(greeting) {\n",
    "  return `${greeting}, ${this.name}`;\n",
    "}\n",
    "\n",
    "const boundGreet = greet.bind(obj, \"Hello\");\n",
    "console.log(boundGreet()); // Output: Hello, John"
   ]
  },
  {
   "cell_type": "markdown",
   "id": "55414dcc",
   "metadata": {},
   "source": [
    "#### call() Method\n",
    "\n",
    "1. Definition:\n",
    "* call() ek function ko immediately execute karta hai aur uska this context set karta hai.\n",
    "\n",
    "2. Key Features:\n",
    "\n",
    "* this ko specific object me set karta hai.\n",
    "* Arguments ko comma-separated pass karte hain."
   ]
  },
  {
   "cell_type": "code",
   "execution_count": null,
   "id": "8e7cba00",
   "metadata": {
    "vscode": {
     "languageId": "javascript"
    }
   },
   "outputs": [],
   "source": [
    "const obj = { name: \"John\" };\n",
    "function greet(greeting) {\n",
    "  return `${greeting}, ${this.name}`;\n",
    "}\n",
    "\n",
    "console.log(greet.call(obj, \"Hi\")); // Output: Hi, John"
   ]
  },
  {
   "cell_type": "markdown",
   "id": "9e08d207",
   "metadata": {},
   "source": [
    "#### apply() Method\n",
    "\n",
    "1. Definition:\n",
    "* apply() bhi call() ki tarah kaam karta hai, lekin arguments ko array ke form me pass karta hai.\n",
    "\n",
    "2. Key Features:\n",
    "* this ko specific object me set karta hai.\n",
    "* Arguments ek array ya array-like object (e.g., arguments) ke roop me pass hote hain."
   ]
  },
  {
   "cell_type": "code",
   "execution_count": null,
   "id": "5a60c48e",
   "metadata": {
    "vscode": {
     "languageId": "javascript"
    }
   },
   "outputs": [],
   "source": [
    "const obj = { name: \"John\" };\n",
    "function greet(greeting, punctuation) {\n",
    "  return `${greeting}, ${this.name}${punctuation}`;\n",
    "}\n",
    "\n",
    "console.log(greet.apply(obj, [\"Hey\", \"!\"])); // Output: Hey, John!"
   ]
  },
  {
   "cell_type": "markdown",
   "id": "469cb270",
   "metadata": {},
   "source": [
    "| Method    | Returns          | Executes Function | Arguments Pass Format          | Use Case                                 |\n",
    "| --------- | ---------------- | ----------------- | ------------------------------ | ---------------------------------------- |\n",
    "| `bind()`  | New function     | No                | Individually                   | Predefine context for future execution   |\n",
    "| `call()`  | Undefined/Result | Yes               | Individually (comma-separated) | Immediate execution with custom context  |\n",
    "| `apply()` | Undefined/Result | Yes               | Array                          | Immediate execution with array arguments |\n"
   ]
  },
  {
   "cell_type": "markdown",
   "id": "222ab417",
   "metadata": {},
   "source": [
    "* bind(): Function ko later execute karne ke liye ek naya version create karta hai with predefined this.\n",
    "\n",
    "* call(): Function ko immediately execute karta hai, arguments ko comma-separated form me accept karta hai.\n",
    "\n",
    "* apply(): Function ko immediately execute karta hai, arguments ko array form me accept karta hai.\n",
    "\n"
   ]
  },
  {
   "cell_type": "markdown",
   "id": "ffc7b424",
   "metadata": {},
   "source": [
    "### Real Example of This Three Functions?"
   ]
  },
  {
   "cell_type": "markdown",
   "id": "13421d00",
   "metadata": {},
   "source": [
    "Maan lijiye humare paas ek \"order management system\" hai jisme customers ke orders ka record hai. Hume ek function banani hai jo customer ke naam ke sath order ki details ko display kare, aur hum iska this context dynamically change karte hain using bind(), call(), aur apply()."
   ]
  },
  {
   "cell_type": "code",
   "execution_count": null,
   "id": "55f20871",
   "metadata": {
    "vscode": {
     "languageId": "javascript"
    }
   },
   "outputs": [],
   "source": [
    "// Ek customer ka object\n",
    "const customer = {\n",
    "  name: \"Rahul\",\n",
    "};\n",
    "\n",
    "// Order function (context ko dynamically set karenge)\n",
    "function displayOrderDetails(product, price) {\n",
    "  return `${this.name} ne ${product} ko ₹${price} me order kiya.`;\n",
    "}"
   ]
  },
  {
   "cell_type": "code",
   "execution_count": null,
   "id": "5902c4e1",
   "metadata": {
    "vscode": {
     "languageId": "javascript"
    }
   },
   "outputs": [],
   "source": [
    "// Using bind()\n",
    "\n",
    "const rahulOrder = displayOrderDetails.bind(customer, \"Laptop\", 50000); // Bind context and arguments\n",
    "\n",
    "console.log(rahulOrder()); // Output: Rahul ne Laptop ko ₹50000 me order kiya."
   ]
  },
  {
   "cell_type": "code",
   "execution_count": null,
   "id": "4ff1d508",
   "metadata": {
    "vscode": {
     "languageId": "javascript"
    }
   },
   "outputs": [],
   "source": [
    "// Using Call()\n",
    "\n",
    "console.log(displayOrderDetails.call(customer, \"Mobile\", 20000)); \n",
    "// Output: Rahul ne Mobile ko ₹20000 me order kiya."
   ]
  },
  {
   "cell_type": "code",
   "execution_count": null,
   "id": "90f08a29",
   "metadata": {
    "vscode": {
     "languageId": "javascript"
    }
   },
   "outputs": [],
   "source": [
    "// Using Apply()\n",
    "\n",
    "console.log(displayOrderDetails.apply(customer, [\"Tablet\", 15000]));\n",
    "// Output: Rahul ne Tablet ko ₹15000 me order kiya."
   ]
  },
  {
   "cell_type": "markdown",
   "id": "68906d7b",
   "metadata": {},
   "source": [
    "| Method    | Use Case                                        | Result                                     |\n",
    "| --------- | ----------------------------------------------- | ------------------------------------------ |\n",
    "| `bind()`  | Future use ke liye predefined function banaya   | `Rahul ne Laptop ko ₹50000 me order kiya.` |\n",
    "| `call()`  | Turant execution aur arguments comma-separated  | `Rahul ne Mobile ko ₹20000 me order kiya.` |\n",
    "| `apply()` | Turant execution aur arguments array ke roop me | `Rahul ne Tablet ko ₹15000 me order kiya.` |\n"
   ]
  },
  {
   "cell_type": "markdown",
   "id": "0411e377",
   "metadata": {},
   "source": [
    "# Different ways to create object in javascript ?"
   ]
  },
  {
   "cell_type": "code",
   "execution_count": null,
   "id": "aa18bd93",
   "metadata": {
    "vscode": {
     "languageId": "javascript"
    }
   },
   "outputs": [],
   "source": [
    "// Object Literal\n",
    "\n",
    "const obj = { name: \"Rahul\", age: 25 };\n",
    "\n",
    "// Using new Object()\n",
    "\n",
    "const obj = new Object();\n",
    "obj.name = \"Rahul\";\n",
    "obj.age = 25;\n",
    "\n",
    "// Using Constructor Function\n",
    "\n",
    "function Person(name, age) {\n",
    "  this.name = name;\n",
    "  this.age = age;\n",
    "}\n",
    "const obj = new Person(\"Rahul\", 25);\n",
    "\n",
    "\n",
    "// Using ES6 Classes\n",
    "\n",
    "class Person {\n",
    "  constructor(name, age) {\n",
    "    this.name = name;\n",
    "    this.age = age;\n",
    "  }\n",
    "}\n",
    "const obj = new Person(\"Rahul\", 25);\n",
    "\n",
    "\n",
    "// Using Object.create()\n",
    "\n",
    "const prototypeObj = { greet: function() { return \"Hello!\"; } };\n",
    "const obj = Object.create(prototypeObj);\n",
    "obj.name = \"Rahul\";\n",
    "\n",
    "// Using Factory Function\n",
    "\n",
    "function createPerson(name, age) {\n",
    "  return { name, age };\n",
    "}\n",
    "const obj = createPerson(\"Rahul\", 25);\n",
    "\n",
    "\n",
    "//  JSON.parse()\n",
    "\n",
    "const obj = JSON.parse('{\"name\": \"Rahul\", \"age\": 25}');\n",
    "\n",
    "// Using Object.assign()\n",
    "\n",
    "const obj1 = { name: \"Rahul\" };\n",
    "const obj2 = { age: 25 };\n",
    "const obj = Object.assign({}, obj1, obj2);\n",
    "\n",
    "// Singleton Pattern\n",
    "\n",
    "const obj = new (function() {\n",
    "  this.name = \"Rahul\";\n",
    "  this.age = 25;\n",
    "})();\n",
    "\n",
    "\n",
    "// Using ES6 Spread Operator\n",
    "\n",
    "const obj1 = { name: \"Rahul\", age: 25 };\n",
    "const obj = { ...obj1, city: \"Delhi\" };"
   ]
  },
  {
   "cell_type": "markdown",
   "id": "934f045e",
   "metadata": {},
   "source": [
    "| Method                   | Description                          | Example                         |\n",
    "| ------------------------ | ------------------------------------ | ------------------------------- |\n",
    "| **Object Literal**       | Most common and simple               | `{ name: \"Rahul\" }`             |\n",
    "| **`new Object()`**       | Built-in constructor                 | `new Object()`                  |\n",
    "| **Constructor Function** | Custom function to create objects    | `function Person()`             |\n",
    "| **ES6 Classes**          | Modern syntax for objects            | `class Person {}`               |\n",
    "| **`Object.create()`**    | Prototype-based object creation      | `Object.create(prototypeObj)`   |\n",
    "| **Factory Function**     | Function that returns a new object   | `createPerson(name, age)`       |\n",
    "| **JSON.parse()**         | Convert JSON string to object        | `JSON.parse('{...}')`           |\n",
    "| **`Object.assign()`**    | Merge or copy properties             | `Object.assign({}, obj1, obj2)` |\n",
    "| **Singleton Pattern**    | Unique global object                 | `new (function(){...})`         |\n",
    "| **Spread Operator**      | Copy properties into a new object    | `{ ...obj1, city: \"Delhi\" }`    |\n",
    "| **Static Method**        | Create objects via a reusable method | `class with create()`           |\n",
    "| **`Object.freeze()`**    | Immutable objects                    | `Object.freeze({...})`          |\n"
   ]
  },
  {
   "cell_type": "markdown",
   "id": "a29c9a2d",
   "metadata": {},
   "source": [
    "# IIFE (Immediately Invoked Function Expression) kya hai?\n"
   ]
  },
  {
   "cell_type": "markdown",
   "id": "d710da17",
   "metadata": {},
   "source": [
    "\n",
    "IIFE ka matlab hai Immediately Invoked Function Expression. Yeh ek aisa JavaScript function hai jo declare hote hi turant execute hota hai.\n",
    "\n",
    "IIFE ka primary purpose hai data encapsulation aur global namespace ko pollute hone se bachana."
   ]
  },
  {
   "cell_type": "code",
   "execution_count": null,
   "id": "c326b9b4",
   "metadata": {
    "vscode": {
     "languageId": "javascript"
    }
   },
   "outputs": [],
   "source": [
    "// 1st Way\n",
    "\n",
    "(function() {\n",
    "  // Code yaha likha jata hai\n",
    "})();\n",
    "\n",
    "\n",
    "// 2nd Way\n",
    "\n",
    "(() => {\n",
    "  // Arrow function version\n",
    "})();\n"
   ]
  },
  {
   "cell_type": "code",
   "execution_count": null,
   "id": "463cb63f",
   "metadata": {
    "vscode": {
     "languageId": "javascript"
    }
   },
   "outputs": [],
   "source": [
    "(function() {\n",
    "  console.log(\"IIFE executed!\");\n",
    "})();\n"
   ]
  },
  {
   "cell_type": "code",
   "execution_count": null,
   "id": "1ca5915b",
   "metadata": {
    "vscode": {
     "languageId": "javascript"
    }
   },
   "outputs": [],
   "source": [
    "(function(name) {\n",
    "  console.log(`Hello, ${name}!`);\n",
    "})(\"Rahul\");\n"
   ]
  },
  {
   "cell_type": "markdown",
   "id": "4e7afe49",
   "metadata": {},
   "source": [
    "# CORS (Cross-Origin Resource Sharing) in JavaScript"
   ]
  },
  {
   "cell_type": "markdown",
   "id": "7af75924",
   "metadata": {},
   "source": [
    "CORS ek security feature hai jo browser ko control deta hai ki ek website ke resources (data) ko doosri website ke saath share kiya ja sake ya nahi. Yeh server aur browser ke beech ek policy enforce karta hai jo unauthorized access ko rokta hai.\n",
    "\n",
    "#### CORS Kya Hai?\n",
    "* Default Behavior: Web browsers security ke liye Same-Origin Policy lagate hain. Iska matlab hai ki ek web page sirf usi origin ke resources ko access kar sakta hai jisse wo load hua hai.\n",
    "* CORS Same-Origin Policy ka exception hai jo allow karta hai ek origin se doosre origin ke resources ko access karna (agar server ne permission di ho)."
   ]
  },
  {
   "cell_type": "markdown",
   "id": "c8305a9c",
   "metadata": {},
   "source": [
    "# What is difference between find vs findIndex ?\n"
   ]
  },
  {
   "cell_type": "markdown",
   "id": "d98ff1f1",
   "metadata": {},
   "source": [
    "| Feature          | `find()`                   | `findIndex()`                   |\n",
    "| ---------------- | -------------------------- | ------------------------------- |\n",
    "| **Return Value** | First matching **element** | First matching **index**        |\n",
    "| **No Match**     | Returns `undefined`        | Returns `-1`                    |\n",
    "| **Use Case**     | Element ko fetch karna     | Element ka index fetch karna    |\n",
    "| **Modification** | Sirf value fetch karta hai | Position modify karne me useful |\n"
   ]
  },
  {
   "cell_type": "code",
   "execution_count": null,
   "id": "1dd3f92a",
   "metadata": {
    "vscode": {
     "languageId": "javascript"
    }
   },
   "outputs": [],
   "source": [
    "const numbers = [10, 20, 30, 40, 50];\n",
    "\n",
    "// Using find()\n",
    "const foundValue = numbers.find(num => num > 25);\n",
    "console.log(foundValue); // Output: 30\n",
    "\n",
    "// Using findIndex()\n",
    "const foundIndex = numbers.findIndex(num => num > 25);\n",
    "console.log(foundIndex); // Output: 2"
   ]
  },
  {
   "cell_type": "markdown",
   "id": "53834d82",
   "metadata": {},
   "source": [
    "# What are cookies"
   ]
  },
  {
   "cell_type": "markdown",
   "id": "38ac077c",
   "metadata": {},
   "source": [
    "Cookies ek chhoti si text file hoti hai jo browser ke through user ke device par store ki jaati hai. Iska primary purpose user ke data ko store karna aur server aur client ke beech ka communication better banana hota hai.\n",
    "\n",
    "#### Cookies Ka Kaam\n",
    "1. User Information Store Karna:\n",
    "\n",
    "Jaise ki login credentials, preferences, aur shopping cart data.\n",
    "\n",
    "2. Session Management:\n",
    "\n",
    "Session-based tracking ke liye cookies ka use hota hai, jisse ek user ke multiple requests ko identify kiya ja sake.\n",
    "\n",
    "3. Tracking and Analytics:\n",
    "\n",
    "User ke browsing behavior ko track karne ke liye (e.g., advertisements).\n",
    "\n",
    "4. Personalized Experience:\n",
    "\n",
    "User preferences store karke website ko customized banane ke liye."
   ]
  },
  {
   "cell_type": "code",
   "execution_count": null,
   "id": "3faa687e",
   "metadata": {
    "vscode": {
     "languageId": "javascript"
    }
   },
   "outputs": [],
   "source": [
    "// Set Cookie\n",
    "document.cookie = \"username=Rahul; expires=Fri, 31 Dec 2025 12:00:00 UTC; path=/\";\n",
    "\n",
    "// Get cookie\n",
    "console.log(document.cookie); // Output: username=Rahul\n",
    "\n",
    "// Delete cookie\n",
    "document.cookie = \"username=Rahul; expires=Thu, 01 Jan 1970 00:00:00 UTC; path=/\";"
   ]
  },
  {
   "cell_type": "markdown",
   "id": "db1241a9",
   "metadata": {},
   "source": [
    "# What is the difference between Pure and Impure functions?"
   ]
  },
  {
   "cell_type": "markdown",
   "id": "490b14a3",
   "metadata": {},
   "source": [
    "#### 1. Pure Function\n",
    "Definition\n",
    "* Pure function woh hota hai jo:\n",
    "\n",
    "* Same input par hamesha same output deta hai (deterministic behavior).\n",
    "\n",
    "* Koi side effect nahi create karta (kisi external variable ya state ko modify nahi karta).\n",
    "\n",
    "Key Features\n",
    "* Immutable data ko handle karta hai.\n",
    "\n",
    "* Kisi external value ya state par depend nahi karta.\n",
    "\n",
    "* Debugging aur testing ke liye reliable hota hai."
   ]
  },
  {
   "cell_type": "code",
   "execution_count": null,
   "id": "1f6bf3be",
   "metadata": {
    "vscode": {
     "languageId": "javascript"
    }
   },
   "outputs": [],
   "source": [
    "function add(a, b) {\n",
    "  return a + b; // Input ke basis par predictable output\n",
    "}\n",
    "\n",
    "console.log(add(2, 3)); // Output: 5\n",
    "console.log(add(2, 3)); // Output: 5 (Same input, same output)"
   ]
  },
  {
   "cell_type": "markdown",
   "id": "2c4a7697",
   "metadata": {},
   "source": [
    "#### 2. Impure Function\n",
    "\n",
    "Definition\n",
    "* Impure function woh hota hai jo:\n",
    "* Different output de sakta hai same input ke liye.\n",
    "* Side effects create karta hai (external state ko modify karta hai ya uspar depend karta hai).\n",
    "\n",
    "Key Features\n",
    "* External variables ko modify karta hai.\n",
    "* External state ke basis par output change ho sakta hai.\n",
    "* Debugging aur testing mushkil hoti hai."
   ]
  },
  {
   "cell_type": "code",
   "execution_count": null,
   "id": "44f9a16a",
   "metadata": {
    "vscode": {
     "languageId": "javascript"
    }
   },
   "outputs": [],
   "source": [
    "let count = 0;\n",
    "\n",
    "function increment() {\n",
    "  count++; // External variable modify karta hai\n",
    "  return count;\n",
    "}\n",
    "\n",
    "console.log(increment()); // Output: 1\n",
    "console.log(increment()); // Output: 2 (Same function, different output)"
   ]
  },
  {
   "cell_type": "markdown",
   "id": "0b2c1b39",
   "metadata": {},
   "source": [
    "| Aspect                | **Pure Function**                                | **Impure Function**                                  |\n",
    "| --------------------- | ------------------------------------------------ | ---------------------------------------------------- |\n",
    "| **Deterministic**     | Same input → Same output                         | Same input → Different output possible               |\n",
    "| **Side Effects**      | No side effects                                  | External variables ko modify kar sakta hai           |\n",
    "| **Dependency**        | Sirf function ke parameters par depend karta hai | External state ya variables par depend kar sakta hai |\n",
    "| **Debugging/Testing** | Easy to debug aur test                           | Hard to debug aur test                               |\n",
    "| **Example**           | `return a + b`                                   | Modifies external variable (`count++`)               |\n"
   ]
  },
  {
   "cell_type": "markdown",
   "id": "40f597aa",
   "metadata": {},
   "source": [
    "# What is temporal dead zone"
   ]
  },
  {
   "cell_type": "markdown",
   "id": "f50d2262",
   "metadata": {},
   "source": [
    "1. Temporal Dead Zone (TDZ) in JavaScript\n",
    "Temporal Dead Zone (TDZ) ek term hai jo let, const, aur class declarations ke behavior ke sath related hai. TDZ wo time period hai jab variable declare to ho gaya hai, lekin usse use karne ki koshish karne par error aata hai kyunki wo abhi \"initialized\" nahi hua hota.\n",
    "\n",
    "2 .TDZ Kab Hota Hai?\n",
    "* Jab JavaScript code ko execute karta hai (hoisting ke time), tab variables aur functions memory me allocate ho jate hain.\n",
    "* let aur const hoist to hote hain, lekin unhe tab tak initialize nahi kiya jata jab tak unki declaration line execute nahi hoti.\n",
    "* TDZ wahi phase hai jab variable hoist ho chuka hai lekin initialize nahi hua hai."
   ]
  },
  {
   "cell_type": "code",
   "execution_count": null,
   "id": "9a13996b",
   "metadata": {
    "vscode": {
     "languageId": "javascript"
    }
   },
   "outputs": [],
   "source": [
    "console.log(x); // ReferenceError: Cannot access 'x' before initialization\n",
    "let x = 10;"
   ]
  },
  {
   "cell_type": "markdown",
   "id": "2374c16d",
   "metadata": {},
   "source": [
    "* Yaha x ka declaration memory me ho gaya hai, lekin initialize nahi hua hai jab tak let x = 10; execute nahi hota.\n",
    "* Isliye, TDZ ke dauran x ko access karne ki koshish karna error throw karega."
   ]
  },
  {
   "cell_type": "code",
   "execution_count": null,
   "id": "44713359",
   "metadata": {
    "vscode": {
     "languageId": "javascript"
    }
   },
   "outputs": [],
   "source": [
    "// TDZ Behavior with let and const\n",
    "\n",
    "{\n",
    "  console.log(a); // ReferenceError\n",
    "  let a = 5;\n",
    "}\n",
    "\n",
    "\n",
    "{\n",
    "  console.log(b); // ReferenceError\n",
    "  const b = 10;\n",
    "}\n",
    "\n",
    "\n",
    "// Difference with var\n",
    "// var variables hoist hote hain aur immediately initialize ho jate hain with undefined, isliye unme TDZ nahi hota.\n",
    "\n",
    "console.log(c); // Output: undefined\n",
    "var c = 15;\n"
   ]
  },
  {
   "cell_type": "markdown",
   "id": "040e6c5e",
   "metadata": {},
   "source": [
    "Temporal Dead Zone (TDZ) ek JavaScript mechanism hai jo developers ko predictable aur error-free code likhne me help karta hai. TDZ ke wajah se let aur const safer aur more reliable hote hain, jo bugs ko prevent karte hain jo var ke saath ho sakti thi."
   ]
  },
  {
   "cell_type": "markdown",
   "id": "2c919584",
   "metadata": {},
   "source": [
    "# What are DRY, KISS, YAGNI, SOLID Principles?"
   ]
  },
  {
   "cell_type": "markdown",
   "id": "318fe5c2",
   "metadata": {},
   "source": [
    "| **Principle** | **Full Form**                | **Purpose**                                                                                   | **Key Focus**                                          |\n",
    "| ------------- | ---------------------------- | --------------------------------------------------------------------------------------------- | ------------------------------------------------------ |\n",
    "| **DRY**       | Don't Repeat Yourself        | Avoid duplication in code. Centralize reusable logic in one place to enhance maintainability. | Code reusability and maintainability.                  |\n",
    "| **KISS**      | Keep It Simple, Stupid       | Write simple and straightforward code, avoiding unnecessary complexity.                       | Code simplicity and clarity.                           |\n",
    "| **YAGNI**     | You Aren't Gonna Need It     | Do not implement features or functionality until it’s absolutely necessary.                   | Avoid unnecessary features and premature optimization. |\n",
    "| **SOLID**     | Acronym for 5 OOP principles | Improve code scalability and maintainability in object-oriented programming.                  | Follow SRP, OCP, LSP, ISP, and DIP.                    |\n"
   ]
  },
  {
   "cell_type": "markdown",
   "id": "9ae0a3b4",
   "metadata": {},
   "source": [
    "### Detailed Breakdown of SOLID Principles\n",
    "\n",
    "| **Letter** | **Full Form**                         | **Explanation**                                                                                 | **Key Focus**                                        |\n",
    "| ---------- | ------------------------------------- | ----------------------------------------------------------------------------------------------- | ---------------------------------------------------- |\n",
    "| **S**      | Single Responsibility Principle (SRP) | A class or function should have only one responsibility or purpose.                             | Focused design with one clear functionality.         |\n",
    "| **O**      | Open/Closed Principle (OCP)           | Code should be open for extension but closed for modification.                                  | Extend functionality without altering existing code. |\n",
    "| **L**      | Liskov Substitution Principle (LSP)   | Subclasses should be replaceable with their base class without altering the program's behavior. | Maintain correct inheritance and behavior.           |\n",
    "| **I**      | Interface Segregation Principle (ISP) | Classes should not be forced to implement methods they do not use.                              | Design interfaces specific to client needs.          |\n",
    "| **D**      | Dependency Inversion Principle (DIP)  | High-level modules should not depend on low-level modules but on abstractions.                  | Decouple high-level and low-level logic.             |\n"
   ]
  },
  {
   "cell_type": "markdown",
   "id": "afc06841",
   "metadata": {},
   "source": [
    "# What is event delegation in JavaScript?"
   ]
  },
  {
   "cell_type": "markdown",
   "id": "ecede250",
   "metadata": {},
   "source": [
    "Event Delegation ek technique hai jisme hum ek parent element par event listener attach karte hain, aur uske child elements par hone wale events ko handle karte hain.\n",
    "\n",
    "Ye concept event bubbling ka use karta hai, jisme event sabse niche ke element (target element) se bubble hokar uske ancestors tak propagate hota hai."
   ]
  },
  {
   "cell_type": "code",
   "execution_count": null,
   "id": "c6e12969",
   "metadata": {
    "vscode": {
     "languageId": "javascript"
    }
   },
   "outputs": [],
   "source": [
    "// Example With Event Delegation\n",
    "\n",
    "document.getElementById(\"parent\").addEventListener(\"click\", (event) => {\n",
    "  if (event.target.tagName === \"BUTTON\") {\n",
    "    console.log(`${event.target.textContent} clicked`);\n",
    "  }\n",
    "});"
   ]
  },
  {
   "cell_type": "code",
   "execution_count": null,
   "id": "c40abdb3",
   "metadata": {
    "vscode": {
     "languageId": "html"
    }
   },
   "outputs": [],
   "source": [
    "<div id=\"parent\">\n",
    "  <button id=\"button1\">Button 1</button>\n",
    "  <button id=\"button2\">Button 2</button>\n",
    "</div>"
   ]
  },
  {
   "cell_type": "markdown",
   "id": "5539a7c3",
   "metadata": {},
   "source": [
    "Explanation:\n",
    "* Parent element (#parent) par event listener lagaya gaya hai.\n",
    "* event.target ka use karke identify kiya gaya ki kaunsa button click hua.\n",
    "* Agar dynamically naya button add karenge, wo bhi handle ho jayega."
   ]
  },
  {
   "cell_type": "markdown",
   "id": "42758c55",
   "metadata": {},
   "source": [
    "# What is event bubbling"
   ]
  },
  {
   "cell_type": "markdown",
   "id": "85020e5c",
   "metadata": {},
   "source": [
    "1. Event Bubbling in JavaScript\n",
    "* Event Bubbling ek concept hai JavaScript me jo tab hota hai jab ek DOM element par event trigger hota hai aur wo event parent elements tak propagate karta hai.\n",
    "\n",
    "2. Kaise Kaam Karta Hai?\n",
    "* Jab ek child element par event trigger hota hai (e.g., click), to wo sabse pehle child element par handle hota hai.\n",
    "* Uske baad wo parent element, phir uske ancestor elements tak propagate hota hai.\n",
    "* Ye process document element tak ja sakta hai, jab tak propagation ko explicitly stop na kiya jaye."
   ]
  },
  {
   "cell_type": "code",
   "execution_count": null,
   "id": "f0f79870",
   "metadata": {
    "vscode": {
     "languageId": "html"
    }
   },
   "outputs": [],
   "source": [
    "<div id=\"parent\" style=\"padding: 20px; background-color: lightblue;\">\n",
    "  Parent\n",
    "  <div id=\"child\" style=\"padding: 20px; background-color: lightgreen;\">\n",
    "    Child\n",
    "  </div>\n",
    "</div>"
   ]
  },
  {
   "cell_type": "code",
   "execution_count": null,
   "id": "e99c6771",
   "metadata": {
    "vscode": {
     "languageId": "javascript"
    }
   },
   "outputs": [],
   "source": [
    "document.getElementById(\"parent\").addEventListener(\"click\", () => {\n",
    "  console.log(\"Parent clicked\");\n",
    "});\n",
    "\n",
    "document.getElementById(\"child\").addEventListener(\"click\", () => {\n",
    "  console.log(\"Child clicked\");\n",
    "});\n",
    "\n",
    "\n",
    "// OUTPUT\n",
    "// Child clicked\n",
    "// Parent clicked\n"
   ]
  },
  {
   "cell_type": "markdown",
   "id": "b1065e73",
   "metadata": {},
   "source": [
    "##### Stop Event Bubbling\n",
    "Agar aapko event bubbling ko rokhna hai, to aap event.stopPropagation() method ka use kar sakte ho.\n",
    "\n"
   ]
  },
  {
   "cell_type": "code",
   "execution_count": null,
   "id": "633ce367",
   "metadata": {
    "vscode": {
     "languageId": "javascript"
    }
   },
   "outputs": [],
   "source": [
    "document.getElementById(\"parent\").addEventListener(\"click\", () => {\n",
    "  console.log(\"Parent clicked\");\n",
    "});\n",
    "\n",
    "document.getElementById(\"child\").addEventListener(\"click\", (event) => {\n",
    "  event.stopPropagation(); // Stop event bubbling\n",
    "  console.log(\"Child clicked\");\n",
    "});\n",
    "\n",
    "// Output\n",
    "// Child clicked"
   ]
  },
  {
   "cell_type": "markdown",
   "id": "5f8a3777",
   "metadata": {},
   "source": [
    "1. Advantages of Event Bubbling\n",
    "* Single Event Listener:\n",
    "\n",
    "Parent element par ek hi listener lagakar multiple child elements ke events handle karna.\n",
    "\n",
    "* Better Performance:\n",
    "\n",
    "Har child element ke liye alag listener lagane ki zarurat nahi hoti.\n",
    "\n",
    "* Dynamic Elements:\n",
    "\n",
    "Aise child elements ko handle karna jo runtime par DOM me add hote hain.\n",
    "\n",
    "2. Disadvantages of Event Bubbling\n",
    "* Unintended Behavior:\n",
    "\n",
    "Agar bubbling control nahi kiya gaya, to irrelevant elements par bhi events trigger ho sakte hain.\n",
    "\n",
    "* Stop Propagation Logic:\n",
    "\n",
    "Har event ke liye propagation stop karne ka logic likhna padta hai."
   ]
  },
  {
   "cell_type": "markdown",
   "id": "7852d815",
   "metadata": {},
   "source": [
    "| **Aspect**           | **Event Bubbling**                            | **Event Capturing**                                           |\n",
    "| -------------------- | --------------------------------------------- | ------------------------------------------------------------- |\n",
    "| **Order**            | Event child se parent tak propagate hota hai. | Event parent se child tak propagate hota hai.                 |\n",
    "| **Default Behavior** | JavaScript me default behavior hai.           | Event listener explicitly capturing mode me lagana padta hai. |\n",
    "| **Use Case**         | Most common scenarios me use hota hai.        | Rarely use hota hai, especially in nested elements.           |\n"
   ]
  },
  {
   "cell_type": "markdown",
   "id": "eda2a908",
   "metadata": {},
   "source": [
    "# What is event capturing"
   ]
  },
  {
   "cell_type": "markdown",
   "id": "92742202",
   "metadata": {},
   "source": [
    "Event Capturing (jo trickling phase ke naam se bhi jana jata hai) ek DOM event propagation mechanism hai. Isme event sabse pehle parent element se start hota hai aur step-by-step child element tak propagate karta hai.\n",
    "\n",
    "#### Event Capturing Kaise Kaam Karta Hai?\n",
    "Jab ek event trigger hota hai (e.g., click), to wo pehle outermost parent element par fire hota hai.\n",
    "\n",
    "Uske baad wo progressively inner elements (child elements) par propagate karta hai.\n",
    "\n",
    "Ye propagation ke process ko capturing phase kehte hain"
   ]
  },
  {
   "cell_type": "markdown",
   "id": "58e492c2",
   "metadata": {},
   "source": [
    "Event Capturing Ka Syntax:-\n",
    "\n",
    "Capturing phase ke liye, addEventListener method ka third argument true set karte hain."
   ]
  },
  {
   "cell_type": "code",
   "execution_count": null,
   "id": "ea206ef9",
   "metadata": {
    "vscode": {
     "languageId": "javascript"
    }
   },
   "outputs": [],
   "source": [
    "element.addEventListener(\"event\", callback, true);"
   ]
  },
  {
   "cell_type": "code",
   "execution_count": null,
   "id": "afa7935b",
   "metadata": {
    "vscode": {
     "languageId": "html"
    }
   },
   "outputs": [],
   "source": [
    "<div id=\"parent\" style=\"padding: 20px; background-color: lightblue;\">\n",
    "  Parent\n",
    "  <div id=\"child\" style=\"padding: 20px; background-color: lightgreen;\">\n",
    "    Child\n",
    "  </div>\n",
    "</div>"
   ]
  },
  {
   "cell_type": "code",
   "execution_count": null,
   "id": "15003cd4",
   "metadata": {
    "vscode": {
     "languageId": "javascript"
    }
   },
   "outputs": [],
   "source": [
    "document.getElementById(\"parent\").addEventListener(\n",
    "  \"click\",\n",
    "  () => {\n",
    "    console.log(\"Parent clicked\");\n",
    "  },\n",
    "  true // Enabling capturing phase\n",
    ");\n",
    "\n",
    "document.getElementById(\"child\").addEventListener(\n",
    "  \"click\",\n",
    "  () => {\n",
    "    console.log(\"Child clicked\");\n",
    "  },\n",
    "  true // Enabling capturing phase\n",
    ");\n",
    "\n",
    "// Output\n",
    "// Parent clicked\n",
    "// Child clicked"
   ]
  },
  {
   "cell_type": "markdown",
   "id": "36b3c002",
   "metadata": {},
   "source": [
    "| **Aspect**        | **Event Capturing**                           | **Event Bubbling**                            |\n",
    "| ----------------- | --------------------------------------------- | --------------------------------------------- |\n",
    "| **Order**         | Event parent se child tak propagate hota hai. | Event child se parent tak propagate hota hai. |\n",
    "| **How to Enable** | `addEventListener` me third argument `true`.  | Default behavior, third argument `false`.     |\n",
    "| **Use Case**      | Rarely used, specific scenarios me.           | Commonly used in most cases.                  |\n"
   ]
  },
  {
   "cell_type": "markdown",
   "id": "d2d46fcf",
   "metadata": {},
   "source": [
    "# What is the difference between async and defer attributes on <​script> tags?\n"
   ]
  },
  {
   "cell_type": "markdown",
   "id": "8d4d92ea",
   "metadata": {},
   "source": [
    "1. Default Behavior (Without async or defer)\n",
    "\n",
    "* Agar script tag me async aur defer attributes nahi diye gaye:\n",
    "\n",
    "* Browser JavaScript ko download aur execute karta hai immediately.\n",
    "\n",
    "* Is process ke dauraan HTML parsing temporarily block ho jata hai."
   ]
  },
  {
   "cell_type": "markdown",
   "id": "2ef91fcf",
   "metadata": {},
   "source": [
    "2. async Attribute\n",
    "* Behavior:\n",
    "\n",
    "JavaScript ko asynchronously download karta hai, lekin uska execution immediate hota hai (jese hi script download ho jaye).\n",
    "\n",
    "HTML parsing ko block karta hai jab script execute hoti hai.\n",
    "\n",
    "Execution Order:\n",
    "Scripts ka execution download completion ke order par hota hai, HTML ke parsing se pehle.\n",
    "\n"
   ]
  },
  {
   "cell_type": "markdown",
   "id": "3d8045c9",
   "metadata": {},
   "source": [
    "3. defer Attribute\n",
    "* Behavior:\n",
    "\n",
    "JavaScript ko asynchronously download karta hai, lekin uska execution tab tak delay hota hai jab tak HTML parsing complete na ho jaye.\n",
    "\n",
    "* Execution Order:\n",
    "\n",
    "Scripts document me appear hone ke order me execute hote hain (irrespective of download completion time)."
   ]
  },
  {
   "cell_type": "markdown",
   "id": "3e40b525",
   "metadata": {},
   "source": [
    "| **Aspect**           | **`async`**                                 | **`defer`**                                                      |\n",
    "| -------------------- | ------------------------------------------- | ---------------------------------------------------------------- |\n",
    "| **Download**         | Asynchronously (HTML parsing ke sath)       | Asynchronously (HTML parsing ke sath)                            |\n",
    "| **Execution Timing** | Download hote hi execute hota hai.          | HTML parsing complete hone ke baad execute hota hai.             |\n",
    "| **Execution Order**  | Download completion ke order me.            | Document me script ke order ke hisaab se.                        |\n",
    "| **HTML Parsing**     | Block hoti hai jab script execute hota hai. | Block nahi hoti, parsing complete hone ke baad execute hota hai. |\n",
    "| **Use Case**         | Independent scripts (e.g., ads, analytics). | Scripts dependent on HTML structure (e.g., DOM manipulation).    |\n"
   ]
  },
  {
   "cell_type": "markdown",
   "id": "06cbfaad",
   "metadata": {},
   "source": [
    "#### Best Practices for Using async and defer\n",
    "1. Use async for Non-Critical Scripts:\n",
    "\n",
    "* Analytics scripts, third-party widgets, or ads scripts ke liye best hai jo DOM ya doosre scripts par depend nahi karte.\n",
    "\n",
    "2. Use defer for Critical Scripts:\n",
    "\n",
    "* DOM manipulation ya HTML ke structure ke sath interact karne wale scripts ke liye defer use karein.\n",
    "\n",
    "3. Avoid Blocking Scripts Without async or defer:\n",
    "\n",
    "* By default, <script> tag HTML parsing ko block kar deta hai, jo page load performance ko slow kar sakta hai.\n",
    "\n"
   ]
  },
  {
   "cell_type": "markdown",
   "id": "2ed1ac8b",
   "metadata": {},
   "source": [
    "# What is the main difference between Local Storage and Session storage"
   ]
  },
  {
   "cell_type": "markdown",
   "id": "1f531347",
   "metadata": {},
   "source": [
    "| **Aspect**        | **Local Storage**                                                           | **Session Storage**                                                            |\n",
    "| ----------------- | --------------------------------------------------------------------------- | ------------------------------------------------------------------------------ |\n",
    "| **Data Lifetime** | Data **permanent** hota hai (tab tak jab tak manually delete na kiya jaye). | Data **temporary** hota hai aur browser tab close hone par delete ho jata hai. |\n",
    "| **Scope**         | Across all tabs aur windows available hota hai (same origin).               | Sirf ek specific tab ke liye accessible hota hai.                              |\n",
    "| **Storage Limit** | Approximately **5MB** (per origin).                                         | Approximately **5MB** (per origin).                                            |\n",
    "| **Persistence**   | Data tab tak rehta hai jab tak user ya code usse remove na kare.            | Data sirf tab session ke duration tak rehta hai.                               |\n",
    "| **Use Case**      | Long-term storage, e.g., user preferences, tokens.                          | Temporary data, e.g., form data during session.                                |\n",
    "| **API**           | Accessible via `localStorage` object.                                       | Accessible via `sessionStorage` object.                                        |\n"
   ]
  },
  {
   "cell_type": "code",
   "execution_count": null,
   "id": "5d9dab8b",
   "metadata": {
    "vscode": {
     "languageId": "javascript"
    }
   },
   "outputs": [],
   "source": [
    "// 1. Local Storage\n",
    "\n",
    "// Set data\n",
    "localStorage.setItem(\"username\", \"John\");\n",
    "\n",
    "// Get data\n",
    "console.log(localStorage.getItem(\"username\")); // Output: \"John\"\n",
    "\n",
    "// Remove data\n",
    "localStorage.removeItem(\"username\");\n",
    "\n",
    "// Clear all data\n",
    "localStorage.clear();\n"
   ]
  },
  {
   "cell_type": "code",
   "execution_count": null,
   "id": "66463cea",
   "metadata": {
    "vscode": {
     "languageId": "javascript"
    }
   },
   "outputs": [],
   "source": [
    "// Session Storage\n",
    "\n",
    "// Set data\n",
    "localStorage.setItem(\"username\", \"John\");\n",
    "\n",
    "// Get data\n",
    "console.log(localStorage.getItem(\"username\")); // Output: \"John\"\n",
    "\n",
    "// Remove data\n",
    "localStorage.removeItem(\"username\");\n",
    "\n",
    "// Clear all data\n",
    "localStorage.clear();"
   ]
  },
  {
   "cell_type": "markdown",
   "id": "165e5151",
   "metadata": {},
   "source": [
    "| **Property**         | **Local Storage**                                                 | **Session Storage**                                          |\n",
    "| -------------------- | ----------------------------------------------------------------- | ------------------------------------------------------------ |\n",
    "| **When to Use**      | Long-term data storage needs (e.g., user settings, JWT tokens).   | Temporary data for single session (e.g., cart info for tab). |\n",
    "| **Data Sharing**     | Same data can be shared between tabs.                             | Data is unique to each tab.                                  |\n",
    "| **Automatic Expiry** | No (manually delete karna padta hai).                             | Yes (tab close hone par delete ho jata hai).                 |\n",
    "| **Security**         | Easily accessible via JavaScript (not secure for sensitive info). | Same vulnerability but less risk due to session lifespan.    |\n"
   ]
  },
  {
   "cell_type": "markdown",
   "id": "10417f6a",
   "metadata": {},
   "source": [
    "# Is javascript a dynamically typed language or a statically typed language "
   ]
  },
  {
   "cell_type": "markdown",
   "id": "88af0a32",
   "metadata": {},
   "source": [
    "| **Aspect**           | **Dynamically Typed (JavaScript)**                | **Statically Typed (Java, C++)**                       |\n",
    "| -------------------- | ------------------------------------------------- | ------------------------------------------------------ |\n",
    "| **Type Declaration** | Explicitly declare karna zaruri nahi hota.        | Types compile time pe explicitly declare karte hain.   |\n",
    "| **Type Checking**    | Runtime ke dauraan hota hai.                      | Compile time pe hota hai.                              |\n",
    "| **Flexibility**      | High (variables ka type change ho sakta hai).     | Low (variables ka type fix hota hai).                  |\n",
    "| **Error Detection**  | Type-related errors runtime par detect hote hain. | Type-related errors compile time par detect hote hain. |\n"
   ]
  },
  {
   "cell_type": "markdown",
   "id": "79074970",
   "metadata": {},
   "source": [
    "# Slice vs Splice in javascript ?"
   ]
  },
  {
   "cell_type": "markdown",
   "id": "b19498ed",
   "metadata": {},
   "source": [
    "slice() Method\n",
    "\n",
    "* slice() ek non-destructive method hai jo ek array ka shallow copy banata hai, bina original array ko modify kiye."
   ]
  },
  {
   "cell_type": "code",
   "execution_count": null,
   "id": "6fcf9c88",
   "metadata": {
    "vscode": {
     "languageId": "javascript"
    }
   },
   "outputs": [],
   "source": [
    "let arr = [1, 2, 3, 4, 5];\n",
    "\n",
    "// Extract elements from index 1 to 3 (3 is exclusive)\n",
    "let sliced = arr.slice(1, 3);\n",
    "console.log(sliced); // Output: [2, 3]\n",
    "console.log(arr);    // Original array: [1, 2, 3, 4, 5]"
   ]
  },
  {
   "cell_type": "markdown",
   "id": "069406f5",
   "metadata": {},
   "source": [
    "splice() Method\n",
    "* splice() ek destructive method hai jo array ko directly modify karta hai. Ye elements ko remove kar sakta hai, add kar sakta hai, ya replace kar sakta hai."
   ]
  },
  {
   "cell_type": "code",
   "execution_count": null,
   "id": "31c19597",
   "metadata": {
    "vscode": {
     "languageId": "javascript"
    }
   },
   "outputs": [],
   "source": [
    "// Remove\n",
    "\n",
    "let arr = [1, 2, 3, 4, 5];\n",
    "\n",
    "// Remove 2 elements starting from index 1\n",
    "arr.splice(1, 2);\n",
    "console.log(arr); // Output: [1, 4, 5]\n",
    "\n",
    "\n",
    "// Adding\n",
    "\n",
    "let arr = [1, 4, 5];\n",
    "\n",
    "// Add elements at index 1\n",
    "arr.splice(1, 0, 2, 3);\n",
    "console.log(arr); // Output: [1, 2, 3, 4, 5]\n",
    "\n",
    "\n",
    "// Replacing\n",
    "\n",
    "let arr = [1, 4, 5];\n",
    "\n",
    "// Add elements at index 1\n",
    "arr.splice(1, 0, 2, 3);\n",
    "console.log(arr); // Output: [1, 2, 3, 4, 5]\n"
   ]
  },
  {
   "cell_type": "markdown",
   "id": "95af4c1f",
   "metadata": {},
   "source": [
    "| **Aspect**         | **`slice()`**                                        | **`splice()`**                                    |\n",
    "| ------------------ | ---------------------------------------------------- | ------------------------------------------------- |\n",
    "| **Purpose**        | Ek array ka shallow copy banata hai.                 | Array ke elements ko modify karta hai.            |\n",
    "| **Original Array** | Original array ko safe rakhta hai (non-destructive). | Original array ko modify karta hai (destructive). |\n",
    "| **Return Value**   | Nayi array return karta hai.                         | Removed elements ki array return karta hai.       |\n",
    "| **Operations**     | Sirf elements extract karta hai.                     | Remove, add, aur replace kar sakta hai.           |\n",
    "| **Syntax**         | `array.slice(start, end)`                            | `array.splice(start, deleteCount, item1, ...)`    |\n"
   ]
  },
  {
   "cell_type": "markdown",
   "id": "5d10098b",
   "metadata": {},
   "source": [
    "# What is meant by debouncing and throttling"
   ]
  },
  {
   "cell_type": "markdown",
   "id": "74889c8c",
   "metadata": {},
   "source": [
    "Debouncing aur Throttling dono hi techniques hain jo performance optimization ke liye use hoti hain, particularly jab koi function frequent events (e.g., scroll, resize, keypress) ke response me repeatedly call hota hai.\n",
    "\n",
    "1. Debouncing\n",
    "\n",
    "* Debouncing ek technique hai jo ensure karti hai ki ek function tabhi execute ho, jab event ke frequent triggers ke beech ek specific time delay complete ho jaye.\n",
    "\n",
    "Key Points:\n",
    "\n",
    "* Function ko delay ke baad execute karta hai.\n",
    "\n",
    "* Agar event fir se trigger hota hai, to timer reset ho jata hai.\n",
    "\n",
    "* Useful for events jo frequent aur fast hote hain, jaise resize, keypress, ya input.\n",
    "\n",
    "Example Use Case:\n",
    "\n",
    "* Search Bar Suggestions: Jab user search input type karta hai, to API ko unnecessary frequent calls avoid karne ke liye debounce use hota hai."
   ]
  },
  {
   "cell_type": "code",
   "execution_count": null,
   "id": "8058618d",
   "metadata": {
    "vscode": {
     "languageId": "javascript"
    }
   },
   "outputs": [],
   "source": [
    "function debounce(func, delay) {\n",
    "  let timer;\n",
    "  return function (...args) {\n",
    "    clearTimeout(timer); // Reset the timer\n",
    "    timer = setTimeout(() => {\n",
    "      func.apply(this, args); // Execute the function after delay\n",
    "    }, delay);\n",
    "  };\n",
    "}\n",
    "\n",
    "// Usage\n",
    "const searchInput = document.getElementById(\"search\");\n",
    "searchInput.addEventListener(\n",
    "  \"keyup\",\n",
    "  debounce((event) => {\n",
    "    console.log(\"API Call for search:\", event.target.value);\n",
    "  }, 300)\n",
    ");"
   ]
  },
  {
   "cell_type": "markdown",
   "id": "5582e89d",
   "metadata": {},
   "source": [
    "2. Throttling\n",
    "\n",
    "* Throttling ek technique hai jo ensure karti hai ki ek function ek fixed interval ke andar sirf ek baar execute ho, chahe event kitni baar bhi trigger ho.\n",
    "\n",
    "Key Points:\n",
    "\n",
    "* Function ko fixed time interval ke andar execute hone ki permission deta hai.\n",
    "\n",
    "* Useful for events jo continuously trigger hote hain, jaise scroll, mousemove.\n",
    "\n",
    "Example Use Case:\n",
    "* Infinite Scroll: Jab user continuously scroll karta hai, to content load karne ke liye throttling use hota hai.\n",
    "\n"
   ]
  },
  {
   "cell_type": "code",
   "execution_count": null,
   "id": "f327983a",
   "metadata": {
    "vscode": {
     "languageId": "javascript"
    }
   },
   "outputs": [],
   "source": [
    "function throttle(func, limit) {\n",
    "  let lastFunc;\n",
    "  let lastRan;\n",
    "  return function (...args) {\n",
    "    const now = Date.now();\n",
    "    if (!lastRan) {\n",
    "      func.apply(this, args); // Execute immediately for the first time\n",
    "      lastRan = now;\n",
    "    } else {\n",
    "      clearTimeout(lastFunc);\n",
    "      lastFunc = setTimeout(() => {\n",
    "        if (now - lastRan >= limit) {\n",
    "          func.apply(this, args); // Execute if enough time has passed\n",
    "          lastRan = now;\n",
    "        }\n",
    "      }, limit - (now - lastRan));\n",
    "    }\n",
    "  };\n",
    "}\n",
    "\n",
    "// Usage\n",
    "const scrollHandler = () => {\n",
    "  console.log(\"Scroll event triggered\");\n",
    "};\n",
    "\n",
    "window.addEventListener(\"scroll\", throttle(scrollHandler, 200));"
   ]
  },
  {
   "cell_type": "markdown",
   "id": "18a5a71c",
   "metadata": {},
   "source": [
    "| **Aspect**    | **Debouncing**                                                        | **Throttling**                                             |\n",
    "| ------------- | --------------------------------------------------------------------- | ---------------------------------------------------------- |\n",
    "| **Execution** | Function tabhi execute hota hai jab event triggers ke beech delay ho. | Function fixed interval ke andar ek baar execute hota hai. |\n",
    "| **Purpose**   | Frequent event calls ko reduce karna.                                 | Continuous event calls ko control karna.                   |\n",
    "| **Delay**     | Dynamic delay ke baad execute hota hai.                               | Fixed interval ke hisaab se execute hota hai.              |\n",
    "| **Use Cases** | Search bar, form validation, window resizing.                         | Scroll events, drag-and-drop, mouse movement.              |\n"
   ]
  }
 ],
 "metadata": {
  "kernelspec": {
   "display_name": "Python 3",
   "language": "python",
   "name": "python3"
  },
  "language_info": {
   "codemirror_mode": {
    "name": "ipython",
    "version": 3
   },
   "file_extension": ".py",
   "mimetype": "text/x-python",
   "name": "python",
   "nbconvert_exporter": "python",
   "pygments_lexer": "ipython3",
   "version": "3.12.6"
  }
 },
 "nbformat": 4,
 "nbformat_minor": 5
}
