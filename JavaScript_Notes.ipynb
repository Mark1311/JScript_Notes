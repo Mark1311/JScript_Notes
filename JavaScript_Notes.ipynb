{
 "cells": [
  {
   "cell_type": "markdown",
   "id": "af649d7f-0423-4b91-90c9-450b6d76b03c",
   "metadata": {},
   "source": [
    "# JavaScript"
   ]
  },
  {
   "cell_type": "markdown",
   "id": "098b2251-dc35-4eed-a2c6-5f17de6fbd18",
   "metadata": {},
   "source": [
    "### strict mode"
   ]
  },
  {
   "cell_type": "markdown",
   "id": "7c7528f3-fad1-4a4c-a309-2ff4c727adc7",
   "metadata": {},
   "source": [
    "Strict mode ek tarah ka coding mode hota hai jo JavaScript me kuch errors ko zyada strict bana deta hai, jisse code safe aur predictable ban jata hai. Agar aap \"strict mode\" use karte hain, to kuch cheezein jo pehle JavaScript me allowed thi, unhe ab error dikha kar rok diya jata hai.\n",
    "Ye ek tarah se code ko secure aur error-free banane me madad karta hai."
   ]
  },
  {
   "cell_type": "markdown",
   "id": "74e63f53-4818-4184-9b8c-92537daae640",
   "metadata": {},
   "source": [
    "# declarations "
   ]
  },
  {
   "cell_type": "markdown",
   "id": "6fb2d15b-7dbf-49b7-93c2-f65675a9cfe0",
   "metadata": {},
   "source": [
    "JavaScript mein declarations ka matlab hai kisi variable, function, ya class ko declare karna, yani usko define karna taake aap usko baad mein use kar sakein.\n",
    "\n",
    "In short, declaration ka matlab hai kisi cheez ko define karna, taake aap usko baad mein use kar sakein."
   ]
  },
  {
   "cell_type": "code",
   "execution_count": null,
   "id": "90ce3e70-523f-407f-8ff6-c9633bb83386",
   "metadata": {
    "vscode": {
     "languageId": "javascript"
    }
   },
   "outputs": [],
   "source": [
    "let name = \"Bittu\"\n",
    "const Lname = \"Kumar\"\n",
    "\n",
    "// #Another Type:-\n",
    "\n",
    "let age;\n",
    "const Name;"
   ]
  },
  {
   "cell_type": "markdown",
   "id": "2a624e13-0f85-4ebf-931b-541c79e3b294",
   "metadata": {},
   "source": [
    "# Initialization "
   ]
  },
  {
   "cell_type": "markdown",
   "id": "db2ff1d2-a247-4a4b-942f-384c99ed5be4",
   "metadata": {},
   "source": [
    "JavaScript me initialization ka matlab hota hai kisi variable ko value assign karna. Jab aap ek variable declare karte hain, usse initial value dena \"initialization\" kehlata hai.\n",
    "\n",
    "Direct initialization: Jaise upar wale example me kiya gaya.\n",
    "Later initialization: Jab aap variable ko declare karte hain, par usse baad me value assign karte hain."
   ]
  },
  {
   "cell_type": "code",
   "execution_count": null,
   "id": "38eff0cd-af13-4396-8290-cb5993d05e8b",
   "metadata": {
    "vscode": {
     "languageId": "javascript"
    }
   },
   "outputs": [],
   "source": [
    "let y;   // Variable declare kiya\n",
    "y = 5;   // Variable 'y' ko value assign ki"
   ]
  },
  {
   "cell_type": "markdown",
   "id": "ba89d2bd-02cc-4d3a-b11c-e3748ad4e069",
   "metadata": {},
   "source": [
    "# Re-declarations"
   ]
  },
  {
   "cell_type": "markdown",
   "id": "e52f61f5-0429-44bf-acbd-3e855c82fc33",
   "metadata": {},
   "source": [
    "JavaScript mein re-declaration ka matlab hota hai kisi variable ko phir se declare karna ussi scope ke andar. JavaScript mein variables ko var, let, ya const se declare kiya jata hai. Har ek ka apna behavior re-declaration ke case mein hota hai."
   ]
  },
  {
   "cell_type": "markdown",
   "id": "2b80d2d4-9ae5-44dd-9227-b14a170df9ac",
   "metadata": {},
   "source": [
    "### var ke saath re-declaration:\n",
    "var se declare kiye gaye variables ko ek hi scope mein multiple baar declare kiya ja sakta hai. Matlab, agar aap same variable ko dobara declare karte hain, to koi error nahi aayega."
   ]
  },
  {
   "cell_type": "code",
   "execution_count": null,
   "id": "54b19dff-28e3-459f-a38b-3621a8a43fa5",
   "metadata": {
    "vscode": {
     "languageId": "javascript"
    }
   },
   "outputs": [],
   "source": [
    "var x = 10;\n",
    "var x = 20;  // No error\n",
    "console.log(x);  // Output: 20"
   ]
  },
  {
   "cell_type": "markdown",
   "id": "d9320c09-3bfd-417e-8b1e-6ace972a1217",
   "metadata": {},
   "source": [
    "### let ke saath re-declaration:\n",
    "let se declare kiye gaye variables ko same scope mein dobara declare nahi kiya ja sakta. Agar aap aise try karenge, to JavaScript error dega."
   ]
  },
  {
   "cell_type": "code",
   "execution_count": null,
   "id": "2264131d-e032-44b4-bf1e-95741af86c3d",
   "metadata": {
    "vscode": {
     "languageId": "javascript"
    }
   },
   "outputs": [],
   "source": [
    "let y = 30;\n",
    "let y = 40;  // Error: Identifier 'y' has already been declared"
   ]
  },
  {
   "cell_type": "markdown",
   "id": "43547a25-0c5c-4f8f-b80d-c2353df5f9ab",
   "metadata": {},
   "source": [
    "### const ke saath re-declaration:\n",
    "const se declare kiye gaye variables ko bhi same scope mein dobara declare nahi kiya ja sakta. Agar aap aise try karenge, to bhi error milega."
   ]
  },
  {
   "cell_type": "code",
   "execution_count": null,
   "id": "88223159-099a-4c42-9ed6-56c8e6756d4e",
   "metadata": {
    "vscode": {
     "languageId": "javascript"
    }
   },
   "outputs": [],
   "source": [
    "const z = 50;\n",
    "const z = 60;  // Error: Identifier 'z' has already been declared"
   ]
  },
  {
   "cell_type": "markdown",
   "id": "29a69af6-067b-4115-a9c6-714f78be51be",
   "metadata": {},
   "source": [
    "var: Same scope mein dobara declare kiya ja sakta hai.\n",
    "let aur const: Same scope mein dobara declare nahi kiya ja sakta, aur error dega."
   ]
  },
  {
   "cell_type": "markdown",
   "id": "34abebf0-5a5e-4028-b77c-129143734bc7",
   "metadata": {},
   "source": [
    "# Re-assignment"
   ]
  },
  {
   "cell_type": "markdown",
   "id": "21567379-82f8-411b-ae9d-c56883d934bb",
   "metadata": {},
   "source": [
    "JavaScript me \"re-assignment\" ka matlab hota hai kisi variable ko dubara se naye value se assign karna. Matlab, agar aapne pehle ek value kisi variable ko di thi, to aap usi variable ko phir se kisi naye value se assign kar sakte ho."
   ]
  },
  {
   "cell_type": "code",
   "execution_count": null,
   "id": "0c747647-2dc3-4a6d-9b28-f5c4ddddefcf",
   "metadata": {
    "vscode": {
     "languageId": "javascript"
    }
   },
   "outputs": [],
   "source": [
    "let x = 5;    // pehle x ki value 5 hai\n",
    "x = 10;        // ab x ki value ko 10 se re-assign kiya gaya hai\n",
    "console.log(x); // Output: 10"
   ]
  },
  {
   "cell_type": "code",
   "execution_count": null,
   "id": "b564dd74-67bc-42be-9d18-553622940cb4",
   "metadata": {
    "vscode": {
     "languageId": "javascript"
    }
   },
   "outputs": [],
   "source": [
    "const y = 20;\n",
    "y = 30;   // Error: Assignment to constant variable."
   ]
  },
  {
   "cell_type": "raw",
   "id": "9fc27a36-e6dc-4cbc-8a00-ff8a77ae0e3f",
   "metadata": {},
   "source": [
    "Let = Re-Assing Allow\n",
    "var = Re-Assing Allow\n",
    "const = Re-Assing Not Allow"
   ]
  },
  {
   "cell_type": "markdown",
   "id": "4b890b37-21f3-443c-84fe-0de37f7e595d",
   "metadata": {},
   "source": [
    "# Hosting"
   ]
  },
  {
   "cell_type": "markdown",
   "id": "a5dee45e-c92d-4f53-aea6-300161817ba5",
   "metadata": {},
   "source": [
    "JavaScript mein hosting ek mechanism hai jisme JavaScript ke variables aur functions ko unke code execution se pehle memory mein allocate kiya jata hai. Matlab, JavaScript ka engine code ko execute karne se pehle variables aur functions ko \"hoist\" (upar le jaata) kar leta hai."
   ]
  },
  {
   "cell_type": "markdown",
   "id": "8b566aa1-c64a-4b26-950e-a007b7a0374f",
   "metadata": {},
   "source": [
    "JavaScript mein variable hoisting ek concept hai jisme variables aur functions ko unke actual position ke upar, code ke starting mein move kar diya jata hai, jab JavaScript engine code ko execute karta hai.\n",
    "\n",
    "Hoisting kaise kaam karta hai:\n",
    "Jab JavaScript ka code execute hota hai, toh engine pehle variable declarations aur function declarations ko top pe le jaata hai, lekin unki values ko as it is rakhta hai.\n",
    "\n",
    "Hoisting mein var aur function declarations hoisted hote hain, lekin let, const aur class declarations hoist nahi hote (ya phir unka behavior alag hota hai)."
   ]
  },
  {
   "cell_type": "code",
   "execution_count": null,
   "id": "4b0ec0b1-82cd-4ec1-bbcc-5661db89eeec",
   "metadata": {
    "vscode": {
     "languageId": "javascript"
    }
   },
   "outputs": [],
   "source": [
    "//   Var ke sath Hoisting\n",
    "console.log(a); // undefined\n",
    "var a = 5;\n",
    "console.log(a); // 5"
   ]
  },
  {
   "cell_type": "markdown",
   "id": "bf7cd069-cddd-45fd-bda2-9acd4de29f34",
   "metadata": {},
   "source": [
    "Pehle line mein, a ko reference kiya gaya, lekin uske baad hi value assign ki gayi thi.\n",
    "    \n",
    "Hoisting ke time pe JavaScript engine var a ko top pe le jata hai, lekin value assign nahi hoti, isliye pehli baar a ki value undefined hoti hai."
   ]
  },
  {
   "cell_type": "code",
   "execution_count": null,
   "id": "81fa016e-c66c-4ac3-828a-eae380aae0db",
   "metadata": {
    "vscode": {
     "languageId": "javascript"
    }
   },
   "outputs": [],
   "source": [
    "//  Let and Const ke sath HOisting\n",
    "\n",
    "console.log(b); // ReferenceError: Cannot access 'b' before initialization\n",
    "let b = 10;"
   ]
  },
  {
   "cell_type": "markdown",
   "id": "0ca8bdf9-479c-483d-a112-f54b1e6eee9b",
   "metadata": {},
   "source": [
    "### Variables: \n",
    "Jab aap ek variable declare karte hain var, let, ya const se, to JavaScript us variable ko memory mein top pe declare kar leta hai. Lekin, agar aap us variable ko initialize karte hain, to uska value allocation uske declaration ke baad hota hai."
   ]
  },
  {
   "cell_type": "raw",
   "id": "9f9f8318-5dd7-4ed7-a145-ad125a693333",
   "metadata": {},
   "source": [
    "Undefinde is take the memory but not define is not take memory."
   ]
  },
  {
   "cell_type": "markdown",
   "id": "bb5ae384-b249-4ea3-87c3-9329b94d2248",
   "metadata": {},
   "source": [
    "# Functional Hosting"
   ]
  },
  {
   "cell_type": "markdown",
   "id": "1d6f2812-1b30-401a-bbdd-7ea18338404e",
   "metadata": {},
   "source": [
    "Agar aap function ko declare karte hain, toh poora function body hosting ke dauran upar move kar jata hai, isliye aap function ko declare hone se pehle bhi call kar sakte hain."
   ]
  },
  {
   "cell_type": "code",
   "execution_count": null,
   "id": "9af2f1bb-2507-4592-885a-fd12246734d4",
   "metadata": {
    "vscode": {
     "languageId": "javascript"
    }
   },
   "outputs": [],
   "source": [
    "//  Function Declaration:\n",
    "\n",
    "myFunction();  // \"Hello\"\n",
    "\n",
    "function myFunction() {\n",
    "  console.log(\"Hello\");\n",
    "}"
   ]
  },
  {
   "cell_type": "code",
   "execution_count": null,
   "id": "90983cc5-4d09-4c9c-b2c4-139a55fb1262",
   "metadata": {
    "vscode": {
     "languageId": "javascript"
    }
   },
   "outputs": [],
   "source": [
    "//  Function Expression:\n",
    "\n",
    "myFunc();  // TypeError: myFunc is not a function\n",
    "\n",
    "var myFunc = function() {\n",
    "  console.log(\"Hello!\");\n",
    "};"
   ]
  },
  {
   "cell_type": "markdown",
   "id": "bb4890a4-6884-4389-a538-9d872ca5d635",
   "metadata": {},
   "source": [
    "Yahan myFunc() ko call karte waqt error aayegi, kyunki function expression ka myFunc variable undefined hoga jab tak uski initialization line tak code nahi pahunchega. Yani function expression mein hosting sirf variable declaration ka hota hai, function definition ka nahi."
   ]
  },
  {
   "cell_type": "markdown",
   "id": "c4f1dcdc-0893-4361-b02c-9b64a0b321d0",
   "metadata": {},
   "source": [
    "Summery:---> Functional hosting ka matlab hai function declarations ka apne scope mein top par move ho jana, jisse aap function ko usse  pehle call kar sakte hain. Lekin function expressions mein yeh behavior nahi hota, aur unhein call karne ke liye unki definition tak code ko pahuncha zaroori hota hai."
   ]
  },
  {
   "cell_type": "markdown",
   "id": "bf9befa6-975c-4dd1-830f-0a178b43ddf3",
   "metadata": {},
   "source": [
    "#### Functional Hosting Ka Kaise Kaam Karta Hai?\n",
    "Jab aap function declaration likhte hain, JavaScript engine us function ke definition ko hosting karta hai. Iska matlab hai ki aap function ko declare hone se pehle bhi call kar sakte hain"
   ]
  },
  {
   "cell_type": "markdown",
   "id": "b2361a55-2c3f-429e-af04-37efb7128c93",
   "metadata": {},
   "source": [
    "# Nested Terrnery Operaters/Functions"
   ]
  },
  {
   "cell_type": "code",
   "execution_count": null,
   "id": "32c3d2f8-3534-48ab-8a5f-13eefbcd7137",
   "metadata": {
    "vscode": {
     "languageId": "javascript"
    }
   },
   "outputs": [],
   "source": [
    "let marks = 60;\n",
    "let result = (marks > 80) ? (marks > 90 ? \"excell\" : \"Good\") : \"Avg\";\n",
    "console.log(result)"
   ]
  },
  {
   "cell_type": "markdown",
   "id": "3e041544-e552-46ab-ab8d-a1179f67c0e3",
   "metadata": {},
   "source": [
    "# Pre/Post Increment/Decrement"
   ]
  },
  {
   "cell_type": "code",
   "execution_count": null,
   "id": "1f093ecf-9ff5-492c-afad-b3258b9d3229",
   "metadata": {
    "vscode": {
     "languageId": "javascript"
    }
   },
   "outputs": [],
   "source": [
    "let a = 2\n",
    "b = a++\n",
    "console.log(a) => 3\n",
    "console.log(b) => 2"
   ]
  },
  {
   "cell_type": "code",
   "execution_count": null,
   "id": "fcbe811a-8b49-4de8-a344-add69ae90c77",
   "metadata": {
    "vscode": {
     "languageId": "javascript"
    }
   },
   "outputs": [],
   "source": [
    "let a = 5\n",
    "b = ++a\n",
    "console.log(a) => 6\n",
    "console.log(b) => 6"
   ]
  },
  {
   "cell_type": "code",
   "execution_count": null,
   "id": "8d34b433-217a-4390-b5b8-9924c5c808fe",
   "metadata": {
    "vscode": {
     "languageId": "javascript"
    }
   },
   "outputs": [],
   "source": [
    "let a = 2\n",
    "b = --a\n",
    "console.log(a) => 1\n",
    "console.log(b) => 1"
   ]
  },
  {
   "cell_type": "code",
   "execution_count": null,
   "id": "10c7c702-6eec-4142-b55d-8d6867231a9d",
   "metadata": {
    "vscode": {
     "languageId": "javascript"
    }
   },
   "outputs": [],
   "source": [
    "let a = 5\n",
    "b = a--\n",
    "console.log(a) => 4\n",
    "console.log(b) => 5"
   ]
  },
  {
   "cell_type": "markdown",
   "id": "ad1e3fbb-da27-4bad-ac94-1dcd1df01f2e",
   "metadata": {},
   "source": [
    "# Closure "
   ]
  },
  {
   "cell_type": "markdown",
   "id": "5eaafe37-7479-4a2c-804a-90fd52845e25",
   "metadata": {},
   "source": [
    "Closure tab hota hai jab ek function apne outer function ki variables ko access karta hai, even jab outer function execute ho chuka hota hai.\n",
    "\n",
    "#### Closure ka basic structure:- \n",
    "\n",
    "Jab ek function doosre function ke andar defined hota hai aur us inner function ko outer function ki variables access karne ka access milta hai, to wo closure kehlaata hai."
   ]
  },
  {
   "cell_type": "code",
   "execution_count": null,
   "id": "42c2d5e0-3693-4665-bcd5-4065ffa336fb",
   "metadata": {
    "vscode": {
     "languageId": "javascript"
    }
   },
   "outputs": [],
   "source": [
    "function outerFunction() {\n",
    "  let outerVar = \"I am from outer function\";\n",
    "\n",
    "  // Inner function\n",
    "  function innerFunction() {\n",
    "    console.log(outerVar);  // Inner function can access outer function's variable\n",
    "  }\n",
    "\n",
    "  return innerFunction;  // Returning the inner function\n",
    "}\n",
    "\n",
    "const closureExample = outerFunction();  // outerFunction() is executed and returns innerFunction\n",
    "closureExample();  // Now, when we call closureExample(), it still remembers 'outerVar'\n",
    "\n",
    "\n",
    "// #Output:- I am from outer function"
   ]
  },
  {
   "cell_type": "markdown",
   "id": "33a75b6e-3e8e-4c17-8a09-7b1cee885003",
   "metadata": {},
   "source": [
    "outerFunction me ek variable outerVar hai.\n",
    "innerFunction ko outerFunction ke andar define kiya gaya hai, aur ye inner function outerVar ko access kar sakta hai.\n",
    "Jab outerFunction call hota hai, wo innerFunction ko return karta hai.\n",
    "closureExample() ko call karne par, inner function apni outer function (outerFunction) ki variable ko yaad rakhta hai, aur outerVar ko access kar leta hai, even though outer function already execute ho chuka hota hai."
   ]
  },
  {
   "cell_type": "markdown",
   "id": "c651b6b5-46da-48a9-8370-8d0ff35d8d5d",
   "metadata": {},
   "source": [
    "#### Closure ki Deep Explanation:\n",
    "\n",
    "##### Function Scope:\n",
    "Jab bhi aap ek function banate hain, us function ka apna ek local scope hota hai, jo uske andar ke variables ko define karta hai. Yeh variables function ke execution ke dauran available hote hain, lekin jab function execute ho jata hai toh yeh variables wapis accessible nahi hote.\n",
    "\n",
    "##### Lexical Scoping:\n",
    "JavaScript me lexical scoping ka concept hota hai, jiska matlab hai ki jab hum kisi function ko define karte hain, us function ka access un variables tak hota hai jo uske outer function ke scope me exist karte hain. Yeh concept closure me kaafi important hota hai.\n",
    "\n",
    "##### Closure: \n",
    "Jab ek inner function apne outer function ke variables ko access karta hai (even after the outer function has finished executing), to wo closure create hota hai. Inner function apne lexical scope ko \"remember\" karta hai, isliye usse outer function ke variables tak access milta hai, chahe outer function ka execution end ho chuka ho."
   ]
  },
  {
   "cell_type": "code",
   "execution_count": null,
   "id": "effd7ffc-d5de-4e9f-bd78-5c972cb65a22",
   "metadata": {
    "vscode": {
     "languageId": "javascript"
    }
   },
   "outputs": [],
   "source": [
    "function outerFunction(outerVariable) {\n",
    "  // Outer function ka variable\n",
    "  let outerVar = outerVariable;\n",
    "\n",
    "  return function innerFunction(innerVar) {\n",
    "    // Inner function ko outer function ka variable accessible hai\n",
    "    console.log(\"Outer Variable: \" + outerVar); // Access to outer function's variable\n",
    "    console.log(\"Inner Variable: \" + innerVar); // Inner function ka apna variable\n",
    "  };\n",
    "}\n",
    "\n",
    "const closureExample = outerFunction(\"Outer Function's Value\");\n",
    "closureExample(\"Inner Function's Value\");\n",
    "\n",
    "\n",
    "// # Outer Variable: Outer Function's Value\n",
    "// # Inner Variable: Inner Function's Value"
   ]
  },
  {
   "cell_type": "markdown",
   "id": "a71fd7a9-a39d-44be-ac6b-88a57307a1da",
   "metadata": {},
   "source": [
    "#### Explanation:\n",
    "Jab outerFunction ko call kiya jata hai, toh uska ek outerVar ban jata hai jo uske local scope mein hota hai.\n",
    "\n",
    "Phir outerFunction return karta hai ek innerFunction ko. Yeh inner function apne lexical scope ke through outerVar ko access kar sakta hai, chahe outerFunction ka execution complete ho gaya ho.\n",
    "\n",
    "Jab closureExample() ko call kiya jata hai, yeh innerFunction ko call karta hai, jo outerVar ko access karta hai."
   ]
  },
  {
   "cell_type": "markdown",
   "id": "49d5e24f-e0f0-44b1-be3d-382637fa5ff9",
   "metadata": {},
   "source": [
    "# Array.from()\n",
    "\n",
    "JavaScript mein ek built-in method hai jo ek array-like object (jaise ek iterable object ya ek array) ko actual array mein convert karta hai.\n",
    "\n",
    "Array.from() ka use zyada tar tab kiya jata hai jab aapko kisi aise object ko array mein convert karna ho, jo array jaisa ho ya iterable ho, lekin uska actual array ka type na ho. Is method ki madad se, aap us object ke saare elements ko ek naya array bana sakte hain."
   ]
  },
  {
   "cell_type": "code",
   "execution_count": null,
   "id": "7ba009a1-bf2c-4d82-8ab6-d38a1c2a4af0",
   "metadata": {
    "vscode": {
     "languageId": "javascript"
    }
   },
   "outputs": [],
   "source": [
    "// Syntax:-\n",
    "\n",
    "Array.from(arrayLike, mapFunction, thisArg);"
   ]
  },
  {
   "cell_type": "markdown",
   "id": "01eacf82-2384-46d8-8246-dc2321842af0",
   "metadata": {},
   "source": [
    "arrayLike: Ye wo object hota hai jo ek array jaisa hota hai (jaise arguments, NodeList, string, etc.).\n",
    "\n",
    "mapFunction (optional): Ye ek function hai jo har element ko transform karta hai jab array ban raha hota hai.\n",
    "\n",
    "thisArg (optional): Agar mapFunction diya gaya ho, toh ye value har call ke liye this context ke roop mein use hota hai."
   ]
  },
  {
   "cell_type": "markdown",
   "id": "2c7cbe20-2744-487d-b791-35b19d3bfb98",
   "metadata": {},
   "source": [
    "##### Array-Like Object to Array:\n",
    "\n",
    "function myFunction() {\n",
    "  console.log(arguments); // Arguments is array-like, not an actual array\n",
    "  let argsArray = Array.from(arguments);\n",
    "  console.log(argsArray); // Now it's an actual array!\n",
    "}\n",
    "\n",
    "myFunction(1, 2, 3, 4); \n",
    "// Output: [1, 2, 3, 4]\n",
    "\n",
    "Aapka arguments object ek array-like object hota hai, par uske paas array ke methods jaise push(), map(), etc. nahi hote. Is case mein Array.from() ka use kar ke hum arguments ko array mein convert kar sakte hain."
   ]
  },
  {
   "cell_type": "markdown",
   "id": "bd45405a-9e68-40a8-82ed-050b366ebd06",
   "metadata": {},
   "source": [
    "#### Converting Strings to Arrays:-\n",
    "\n",
    "let str = \"hello\";\n",
    "\n",
    "let strArray = Array.from(str);\n",
    "\n",
    "console.log(strArray); // [\"h\", \"e\", \"l\", \"l\", \"o\"]\n",
    "\n",
    "\n",
    "JavaScript mein strings ko array-like objects ke roop mein treat kiya jata hai, jisme har character ko ek index diya jata hai. Array.from() se hum easily string ko array mein convert kar sakte hain."
   ]
  },
  {
   "cell_type": "markdown",
   "id": "be5d6698-2eec-4672-a114-91407c95ef64",
   "metadata": {},
   "source": [
    "#### Using Map Function with Array.from():-\n",
    "\n",
    "let numbers = [1, 2, 3, 4];\n",
    "\n",
    "let doubled = Array.from(numbers, x => x * 2);\n",
    "\n",
    "console.log(doubled); // [2, 4, 6, 8]\n",
    "\n",
    "\n",
    "Agar aapko kisi array ke elements ko convert ya modify karna hai, toh Array.from() ke second argument mein ek map function bhi de sakte hain, jo har element ko transform karega."
   ]
  },
  {
   "cell_type": "markdown",
   "id": "8274730e-50f3-4341-8126-9c0863b7a7d1",
   "metadata": {},
   "source": [
    "#### Converting Sets to Arrays:-\n",
    "\n",
    "let mySet = new Set([10, 20, 30]);\n",
    "let arrFromSet = Array.from(mySet);\n",
    "console.log(arrFromSet); // [10, 20, 30]\n",
    "\n",
    "\n",
    "Sets me duplicate values nahi hote, aur wo bhi iterable object hote hain. Agar aapko set ko array mein convert karna ho, toh Array.from() ka use kar sakte hain."
   ]
  },
  {
   "cell_type": "code",
   "execution_count": null,
   "id": "1981c7c7-09d3-4a30-920c-4c68974609f6",
   "metadata": {},
   "outputs": [],
   "source": [
    "#### Array from Map:\n",
    "\n",
    "let myMap = new Map([[1, 'one'], [2, 'two'], [3, 'three']]);\n",
    "let arrFromMap = Array.from(myMap);\n",
    "console.log(arrFromMap); // [[1, 'one'], [2, 'two'], [3, 'three']]\n",
    "\n",
    "Agar aapke paas Map object hai aur aap usse array mein convert karna chahte hain, toh bhi Array.from() use kiya ja sakta hai."
   ]
  },
  {
   "cell_type": "markdown",
   "id": "c82b617c-7241-46f2-8165-53d0309b6ade",
   "metadata": {},
   "source": [
    "Summary:-\n",
    "\n",
    "Array.from() ko use karke aap array-like aur iterable objects ko real arrays mein convert kar sakte hain.\n",
    "    \n",
    "Aap array elements ko map function ke zariye transform bhi kar sakte hain.\n",
    "\n",
    "Ye method kaafi flexible hai aur aapke code ko zyada readable aur efficient bana sakta hai jab aapko array-like objects ke saath kaam karna ho."
   ]
  },
  {
   "cell_type": "markdown",
   "id": "690e1294-d304-4d9e-bc51-de6abee16f87",
   "metadata": {},
   "source": [
    "# ForEach Loop Function:- "
   ]
  },
  {
   "cell_type": "markdown",
   "id": "95d3eb3e-f4b8-4fd2-a8a1-94e8f3b044ae",
   "metadata": {},
   "source": [
    "forEach loop JavaScript mein ek array ke har element par function ko apply karne ka tareeqa hai. Ye ek method hai jo array objects par kaam karta hai aur array ke har item ke liye ek callback function execute karta hai."
   ]
  },
  {
   "cell_type": "code",
   "execution_count": null,
   "id": "83b68dba-3eb3-4b3d-9560-d4a1b2f81d1a",
   "metadata": {},
   "outputs": [],
   "source": [
    "#Stynax:-\n",
    "\n",
    "array.forEach(function(element, index, array) {\n",
    "  // yahan pe aap har element ke liye kuch code likhte hain\n",
    "});\n"
   ]
  },
  {
   "cell_type": "markdown",
   "id": "975d7534-67bd-4a4d-8152-90ef73ee0b84",
   "metadata": {},
   "source": [
    "element: Har ek element jo array mein hai.\n",
    "index: Har element ka index (position) array mein.\n",
    "array: Original array jo forEach method par apply ho raha hai."
   ]
  },
  {
   "cell_type": "code",
   "execution_count": null,
   "id": "5f95aabc-dec3-45d2-8f2a-70b30bd7774e",
   "metadata": {},
   "outputs": [],
   "source": [
    "let fruits = [\"Apple\", \"Banana\", \"Orange\"];\n",
    "\n",
    "fruits.forEach(function(fruit, index) {\n",
    "  console.log(index + 1 + \". \" + fruit);\n",
    "});\n",
    "\n",
    "#Output:- \n",
    "1. Apple\n",
    "2. Banana\n",
    "3. Orange"
   ]
  },
  {
   "cell_type": "markdown",
   "id": "decf87f1-31f2-43f4-9918-80b3e749159a",
   "metadata": {},
   "source": [
    "forEach loop break ya continue statements ko support nahi karta, yani agar aap loop ko rokna chahte hain ya skip karna chahte hain, to aapko for loop ya kisi aur method ka use karna padega.\n",
    "\n",
    "Ye method ek callback function ko accept karta hai, jisme aap apna logic define karte hain."
   ]
  },
  {
   "cell_type": "markdown",
   "id": "09ad81f3-f1f5-4cf0-8810-4e017099b551",
   "metadata": {},
   "source": [
    "# For Of Loop :-"
   ]
  },
  {
   "cell_type": "markdown",
   "id": "56a9ccdc-b08e-46a3-a8aa-b60f143b0397",
   "metadata": {},
   "source": [
    "JavaScript mein for...of loop ek tarika hai array ya kisi iterable object (jaise string, map, set) ke elements ko iterate karne ka. Iska use hum directly collection ke elements ko access karne ke liye karte hain bina index ka use kiye."
   ]
  },
  {
   "cell_type": "code",
   "execution_count": null,
   "id": "9b4611bc-0d61-40fa-ba61-2ec7873e3c88",
   "metadata": {},
   "outputs": [],
   "source": [
    "const fruits = [\"apple\", \"banana\", \"cherry\"];\n",
    "\n",
    "for (const fruit of fruits) {\n",
    "    console.log(fruit);\n",
    "}\n",
    "\n",
    "#Output:-\n",
    "apple\n",
    "banana\n",
    "cherry"
   ]
  },
  {
   "cell_type": "markdown",
   "id": "a7e973da-0052-493f-8ad7-38df79e09682",
   "metadata": {},
   "source": [
    "for...of loop iterable objects (arrays, strings, sets, etc.) ke upar kaam karta hai.\n",
    "    \n",
    "Isme index ki zarurat nahi hoti, bas element hi directly milta hai."
   ]
  },
  {
   "cell_type": "markdown",
   "id": "3d45ca6c-43b7-4098-b534-cefcd5ae8a5d",
   "metadata": {},
   "source": [
    "# Difference between For in loop and for...in Loop:"
   ]
  },
  {
   "cell_type": "markdown",
   "id": "1b5e9a5d-a09e-46d0-ba79-4ec6899f157a",
   "metadata": {},
   "source": [
    "for...in loop ko arrays ya objects mein indexes ya keys ko iterate karne ke liye use kiya jata hai, jabki for...of loop elements ko iterate karta hai.\n",
    "\n",
    "for...of loop mein aap break, continue, ya return ka bhi use kar sakte hain:\n",
    "\n",
    "for...of loop generally arrays ke liye efficient hota hai. Lekin, agar aapko index ke saath kaam karna ho ya performance critical code likhna ho, toh for loop ka use behtar ho sakta hai."
   ]
  },
  {
   "cell_type": "markdown",
   "id": "344f0d78-6e95-4680-94e2-cfd97e3fa78f",
   "metadata": {},
   "source": [
    "# For in Loop:-"
   ]
  },
  {
   "cell_type": "markdown",
   "id": "16469dcb-46c2-4594-8c03-b144d8035cfe",
   "metadata": {},
   "source": [
    "JavaScript me for...in loop ek special loop hai jo objects ke properties ya array ke indices par iterate karne ke liye use hota hai. Yeh loop kisi bhi object ya array ke through iterate karta hai."
   ]
  },
  {
   "cell_type": "markdown",
   "id": "32e0991b-20d2-42ab-b2b5-3145e4d6a065",
   "metadata": {},
   "source": [
    "##### Object ke properties par iterate karna:"
   ]
  },
  {
   "cell_type": "code",
   "execution_count": null,
   "id": "1d07a316-bfbd-4618-8114-c94d9555e6e7",
   "metadata": {},
   "outputs": [],
   "source": [
    "const person = {\n",
    "  name: 'Ali',\n",
    "  age: 25,\n",
    "  city: 'Karachi'\n",
    "};\n",
    "\n",
    "for (let key in person) {\n",
    "  console.log(key + ': ' + person[key]); // Prints property name and value\n",
    "}\n",
    "\n",
    "\n",
    "#Output:-\n",
    "\n",
    "name: Ali\n",
    "age: 25\n",
    "city: Karachi"
   ]
  },
  {
   "cell_type": "markdown",
   "id": "717af535-d31b-4091-9787-42136e06cf5f",
   "metadata": {},
   "source": [
    "#### Array ke indices par iterate karna:"
   ]
  },
  {
   "cell_type": "code",
   "execution_count": null,
   "id": "00e19c6f-c622-43ae-9352-01e549c153f7",
   "metadata": {},
   "outputs": [],
   "source": [
    "const numbers = [10, 20, 30, 40];\n",
    "\n",
    "for (let index in numbers) {\n",
    "  console.log(index + ': ' + numbers[index]); // Prints index and value\n",
    "}\n",
    "\n",
    "#Output:-\n",
    "0: 10\n",
    "1: 20\n",
    "2: 30\n",
    "3: 40"
   ]
  },
  {
   "cell_type": "markdown",
   "id": "858dd0e3-801c-47cf-a2e3-daadacb41ead",
   "metadata": {},
   "source": [
    "for...in loop objects ke enumerable properties ko iterate karta hai.\n",
    "    \n",
    "Agar aapko array ke elements par iterate karna ho toh for...in se bachna chahiye, kyunki yeh indices ko iterate karta hai, aur array ki length ke liye for loop ya forEach zyada suitable hai."
   ]
  },
  {
   "cell_type": "markdown",
   "id": "7fb4f2cd-ccb1-441f-8c79-2ddcd94bb26a",
   "metadata": {},
   "source": [
    "# Array Clone/Copy:-"
   ]
  },
  {
   "cell_type": "markdown",
   "id": "11edf1f3-1a2a-4358-b57b-d563bdfc9bf0",
   "metadata": {},
   "source": [
    "#### Spread Operator (...)"
   ]
  },
  {
   "cell_type": "code",
   "execution_count": null,
   "id": "02c0ff10-553f-42ed-87c8-c0cda8249320",
   "metadata": {},
   "outputs": [],
   "source": [
    "const originalArray = [1, 2, 3];\n",
    "const clonedArray = [...originalArray];\n",
    "\n",
    "console.log(clonedArray); // [1, 2, 3]\n"
   ]
  },
  {
   "cell_type": "markdown",
   "id": "177eb908-32f5-4c41-8e3d-06ba0cd913b5",
   "metadata": {},
   "source": [
    "#### Array.slice()"
   ]
  },
  {
   "cell_type": "code",
   "execution_count": null,
   "id": "9d6a2f77-a1dd-471b-bf20-65dfd20710be",
   "metadata": {},
   "outputs": [],
   "source": [
    "const originalArray = [1, 2, 3];\n",
    "const clonedArray = originalArray.slice();\n",
    "\n",
    "console.log(clonedArray); // [1, 2, 3]"
   ]
  },
  {
   "cell_type": "markdown",
   "id": "d3691d47-468c-481f-bab0-236d9650cd6e",
   "metadata": {},
   "source": [
    "#### Array.from()"
   ]
  },
  {
   "cell_type": "code",
   "execution_count": null,
   "id": "066720c3-9374-4bee-a8b1-bca2b2106a88",
   "metadata": {},
   "outputs": [],
   "source": [
    "const originalArray = [1, 2, 3];\n",
    "const clonedArray = Array.from(originalArray);\n",
    "\n",
    "console.log(clonedArray); // [1, 2, 3]"
   ]
  },
  {
   "cell_type": "markdown",
   "id": "67c17dfa-8481-4335-be55-4c3052a071c1",
   "metadata": {},
   "source": [
    "# Spread Operaters:-"
   ]
  },
  {
   "cell_type": "markdown",
   "id": "f4824ffe-26b5-41b8-b1a3-eb39d8917d0f",
   "metadata": {},
   "source": [
    "Spread operator ka use arrays, objects ya functions me elements ko expand karne, copy karne, ya merge karne ke liye kiya jata hai."
   ]
  },
  {
   "cell_type": "markdown",
   "id": "386a04d3-cde6-43c5-9e06-4f26aede6816",
   "metadata": {},
   "source": [
    "#### Arrays me Spread Operator:-"
   ]
  },
  {
   "cell_type": "markdown",
   "id": "cbce4870-53d0-4851-b404-dd52180a148c",
   "metadata": {},
   "source": [
    "Agar aapko ek array ke elements ko dusre array me copy karna ho ya unko expand karna ho to aap spread operator ka use karte hain.\n",
    "\n",
    "const arr1 = [1, 2, 3];\n",
    "const arr2 = [...arr1, 4, 5];\n",
    "\n",
    "console.log(arr2);  // Output: [1, 2, 3, 4, 5]"
   ]
  },
  {
   "cell_type": "markdown",
   "id": "1ba71df9-eaf5-40ba-80d1-6bf83542a0e7",
   "metadata": {},
   "source": [
    "#### Objects me Spread Operator"
   ]
  },
  {
   "cell_type": "code",
   "execution_count": null,
   "id": "d869d35f-e119-4bc7-b074-78c3f335a554",
   "metadata": {},
   "outputs": [],
   "source": [
    "Objects me bhi spread operator ka use properties ko copy karne ya merge karne ke liye kiya jata hai.\n",
    "\n",
    "const obj1 = { name: \"Ali\", age: 25 };\n",
    "const obj2 = { ...obj1, city: \"Karachi\" };\n",
    "\n",
    "console.log(obj2);  \n",
    "// Output: { name: \"Ali\", age: 25, city: \"Karachi\" }\n"
   ]
  },
  {
   "cell_type": "markdown",
   "id": "47b25df8-89f2-4076-84f2-93f9a38938b6",
   "metadata": {},
   "source": [
    "#### Function Arguments me Spread Operator"
   ]
  },
  {
   "cell_type": "markdown",
   "id": "1f9300f8-f8e1-460f-9702-def6bb16d701",
   "metadata": {},
   "source": [
    "Spread operator ko aap function calls me bhi use kar sakte hain jab aapko kisi array ya iterable ke elements ko individual arguments me convert karna ho.\n",
    "\n",
    "function sum(a, b, c) {\n",
    "  return a + b + c;\n",
    "}\n",
    "\n",
    "const numbers = [1, 2, 3];\n",
    "console.log(sum(...numbers));  // Output: 6\n"
   ]
  },
  {
   "cell_type": "markdown",
   "id": "47aa84ac-f8aa-452d-a214-674cc6c4ed27",
   "metadata": {},
   "source": [
    "# Destructuring of Array:-"
   ]
  },
  {
   "cell_type": "markdown",
   "id": "8a79c72a-8baa-492a-8119-6faefe99780d",
   "metadata": {},
   "source": [
    "Array destructuring ek feature hai jo JavaScript mein use hota hai, jisme aap ek array ke elements ko directly variable mein assign kar sakte hain, bina index ka use kiye. Yeh aapko code ko short aur clean banane mein madad karta hai.\n"
   ]
  },
  {
   "cell_type": "code",
   "execution_count": null,
   "id": "821f744d-aaf8-44b2-b596-445ef7572ecc",
   "metadata": {},
   "outputs": [],
   "source": [
    "const arr = [1, 2, 3];\n",
    "\n",
    "// Destructuring\n",
    "const [a, b, c] = arr;\n",
    "\n",
    "console.log(a); // 1\n",
    "console.log(b); // 2\n",
    "console.log(c); // 3\n"
   ]
  },
  {
   "cell_type": "markdown",
   "id": "8601a2f7-3c20-461e-be6e-66b912cd77bd",
   "metadata": {},
   "source": [
    "# Skipping Elements (Kuch elements ko skip karna)\n",
    "\n",
    "Agar aap kisi array ke kuch elements ko skip karna chahte ho, to aap bas un elements ke liye blank space chhod sakte ho. Isse aap sirf wahi values pick kar sakte ho jo aapko chahiye."
   ]
  },
  {
   "cell_type": "code",
   "execution_count": null,
   "id": "e305ec47-2678-4ad6-9816-02164c596ec0",
   "metadata": {},
   "outputs": [],
   "source": [
    "const arr = [10, 20, 30, 40, 50];\n",
    "\n",
    "// Skipping elements\n",
    "const [, , third, , fifth] = arr;\n",
    "\n",
    "console.log(third); // 30\n",
    "console.log(fifth); // 50"
   ]
  },
  {
   "cell_type": "markdown",
   "id": "9979a253-4881-4274-a4c6-6be9b16e904b",
   "metadata": {},
   "source": [
    "# Rest Operator with Destructuring\n",
    "\n",
    "Agar aapko kisi array ka kuch part destructure karna ho aur baaki elements ko ek array ke roop mein lena ho, to aap rest operator (...) ka use kar sakte ho. Yeh baaki ke elements ko ek naye array mein collect kar leta hai."
   ]
  },
  {
   "cell_type": "code",
   "execution_count": null,
   "id": "b75243ee-de1b-43c5-9530-2c2f81adb9f8",
   "metadata": {},
   "outputs": [],
   "source": [
    "const arr = [1, 2, 3, 4, 5];\n",
    "\n",
    "// Rest operator se baaki elements lena\n",
    "const [first, second, ...rest] = arr;\n",
    "\n",
    "console.log(first); // 1\n",
    "console.log(second); // 2\n",
    "console.log(rest); // [3, 4, 5]"
   ]
  },
  {
   "cell_type": "markdown",
   "id": "61f27ed2-adaa-41cc-85cb-e2c567ab0345",
   "metadata": {},
   "source": [
    "# Nested Destructuring\n",
    "\n",
    "Agar aapke paas nested arrays hain (array ke andar array), to aap unhe bhi destructure kar sakte ho."
   ]
  },
  {
   "cell_type": "code",
   "execution_count": null,
   "id": "a9453826-2721-49f6-8243-4ad7a2410852",
   "metadata": {},
   "outputs": [],
   "source": [
    "const arr = [1, [2, 3], 4];\n",
    "\n",
    "// Nested destructuring\n",
    "const [a, [b, c], d] = arr;\n",
    "\n",
    "console.log(a); // 1\n",
    "console.log(b); // 2\n",
    "console.log(c); // 3\n",
    "console.log(d); // 4"
   ]
  },
  {
   "cell_type": "markdown",
   "id": "60c5b690-6f93-4864-b50d-b9a802e7de8b",
   "metadata": {},
   "source": [
    "# Object's"
   ]
  },
  {
   "cell_type": "markdown",
   "id": "309fa1e7-a8af-4a48-9771-cbd93be7d1f9",
   "metadata": {},
   "source": [
    "### Object.entries()"
   ]
  },
  {
   "cell_type": "code",
   "execution_count": null,
   "id": "66c5a0ea-6610-4387-9875-da3c3da69f69",
   "metadata": {},
   "outputs": [],
   "source": [
    "const person = {\n",
    "  name: \"John\",\n",
    "  age: 30,\n",
    "  city: \"New York\"\n",
    "};\n",
    "\n",
    "for (const [key, value] of Object.entries(person)) {\n",
    "  console.log(`${key}: ${value}`);\n",
    "}"
   ]
  },
  {
   "cell_type": "code",
   "execution_count": null,
   "id": "d53ebf48-e6c4-40b2-a28c-2df557781808",
   "metadata": {},
   "outputs": [],
   "source": [
    "name: John\n",
    "age: 30\n",
    "city: New York"
   ]
  },
  {
   "cell_type": "markdown",
   "id": "e3996676-d685-4ee1-8a23-4b85f8250de4",
   "metadata": {},
   "source": [
    "### Object.keys()"
   ]
  },
  {
   "cell_type": "code",
   "execution_count": null,
   "id": "cb6c8d42-513f-457a-99bd-5638eec124b5",
   "metadata": {},
   "outputs": [],
   "source": [
    "const person = {\n",
    "  name: \"John\",\n",
    "  age: 30,\n",
    "  city: \"New York\"\n",
    "};\n",
    "\n",
    "for (const key of Object.keys(person)) {\n",
    "  console.log(`${key}: ${person[key]}`);\n",
    "}\n"
   ]
  },
  {
   "cell_type": "code",
   "execution_count": null,
   "id": "f5a7ce9a-1e07-40e8-8d6a-373321a0f420",
   "metadata": {},
   "outputs": [],
   "source": [
    "name: John\n",
    "age: 30\n",
    "city: New York"
   ]
  },
  {
   "cell_type": "markdown",
   "id": "c076ac7a-d4b5-4a22-9822-877812ff80c5",
   "metadata": {},
   "source": [
    "### Object.values()"
   ]
  },
  {
   "cell_type": "code",
   "execution_count": null,
   "id": "6beb4477-143f-47c8-9ab0-7d3690ce308b",
   "metadata": {},
   "outputs": [],
   "source": [
    "const person = {\n",
    "  name: \"John\",\n",
    "  age: 30,\n",
    "  city: \"New York\"\n",
    "};\n",
    "\n",
    "for (const value of Object.values(person)) {\n",
    "  console.log(value);\n",
    "}\n"
   ]
  },
  {
   "cell_type": "code",
   "execution_count": null,
   "id": "23180e02-cfd3-4c0d-b8a2-da22f8a5dee2",
   "metadata": {},
   "outputs": [],
   "source": [
    "John\n",
    "30\n",
    "New York"
   ]
  },
  {
   "cell_type": "markdown",
   "id": "f284ef2b-b370-4335-8e18-9aa855b67d5a",
   "metadata": {},
   "source": [
    "# Fat Arrow Fun and Simple Function Difference:-"
   ]
  },
  {
   "cell_type": "markdown",
   "id": "89c9b46c-b229-441b-9729-420b1ecf61f9",
   "metadata": {},
   "source": [
    "1. Syntax (Writing Style)"
   ]
  },
  {
   "cell_type": "markdown",
   "id": "338dfbd7-fe6b-4969-aaee-808881eff82e",
   "metadata": {},
   "source": [
    "2. this Keyword\n",
    "Arrow functions ka sabse bada difference unka this behavior hai. Arrow functions mein this ka value lexical hota hai, matlab yeh function ke surrounding context (scope) ke hisaab se decide hota hai.\n",
    "\n",
    "Arrow Function mein this parent context ka reference hota hai, jo function ke call hone ke waqt determine hota hai.\n",
    "Traditional Function mein this dynamic hota hai, jo function ko call karte waqt decide hota hai."
   ]
  },
  {
   "cell_type": "code",
   "execution_count": null,
   "id": "825cec16-90ab-4cf1-acbb-d59c285fa513",
   "metadata": {},
   "outputs": [],
   "source": [
    "const obj = {\n",
    "  value: 10,\n",
    "  arrowFunc: () => {\n",
    "    console.log(this.value); // Undefined, because 'this' points to the global object\n",
    "  },\n",
    "  traditionalFunc: function() {\n",
    "    console.log(this.value); // 10, because 'this' refers to the obj\n",
    "  }\n",
    "};\n",
    "\n",
    "obj.arrowFunc();\n",
    "obj.traditionalFunc();"
   ]
  },
  {
   "cell_type": "markdown",
   "id": "3eaac447-37fc-42c4-84d0-01c8ecd670d0",
   "metadata": {},
   "source": [
    "arrowFunc mein this.value undefined hoga, kyunki this parent context (global object) ki taraf point kar raha hai.\n",
    "\n",
    "traditionalFunc mein this.value 10 hoga, kyunki this obj ke andar point kar raha hai."
   ]
  },
  {
   "cell_type": "markdown",
   "id": "fa5e1cea-919c-4be9-b2d3-7878df637c5a",
   "metadata": {},
   "source": [
    "3. Constructor Function\n",
    "\n",
    "Arrow Function ko constructor function ki tarah use nahi kar sakte. Arrow function new keyword ke sath nahi chal sakte.\n",
    "\n",
    "Traditional Function ko aap constructor function ki tarah use kar sakte hain."
   ]
  },
  {
   "cell_type": "code",
   "execution_count": null,
   "id": "aed2e70c-2f30-4c5a-bf42-3c2f47ae13c8",
   "metadata": {},
   "outputs": [],
   "source": [
    "const Person = (name) => {\n",
    "  this.name = name;\n",
    "};\n",
    "\n",
    "const person1 = new Person('Ali'); // Error: Person is not a constructor\n",
    "=========================================================\n",
    "function Person(name) {\n",
    "  this.name = name;\n",
    "}\n",
    "\n",
    "const person1 = new Person('Ali'); // Works fine\n"
   ]
  },
  {
   "cell_type": "markdown",
   "id": "303c7121-e514-4e91-9e7f-45afad433980",
   "metadata": {},
   "source": [
    "4. Arguments Object\n",
    "Arrow Function mein arguments object available nahi hota. Agar aapko variable number of arguments ki zarurat hai toh traditional function mein arguments object ka use kiya ja sakta hai."
   ]
  },
  {
   "cell_type": "code",
   "execution_count": null,
   "id": "9adf4014-458f-4dec-8e2c-8f391ea0db15",
   "metadata": {},
   "outputs": [],
   "source": [
    "const arrowFunc = () => {\n",
    "  console.log(arguments); // Error: arguments is not defined\n",
    "};\n",
    "\n",
    "function traditionalFunc() {\n",
    "  console.log(arguments); // Works fine, shows passed arguments\n",
    "}\n",
    "\n",
    "arrowFunc(1, 2, 3);\n",
    "traditionalFunc(1, 2, 3);\n"
   ]
  },
  {
   "cell_type": "markdown",
   "id": "bf070e56-18fe-4c3d-aed1-7e0a9bbf52c4",
   "metadata": {},
   "source": [
    "4. Implicit Return"
   ]
  },
  {
   "cell_type": "markdown",
   "id": "2d17f13e-739f-4f6c-a034-1095670a4121",
   "metadata": {},
   "source": [
    "Arrow Function ka ek aur benefit yeh hai ke agar function sirf ek expression return karta ho, toh return likhne ki zarurat nahi hoti.\n",
    "\n",
    "const multiply = (a, b) => a * b; // Implicit return\n"
   ]
  },
  {
   "cell_type": "code",
   "execution_count": null,
   "id": "b1c33749-da3a-4480-8b19-35335c20f58f",
   "metadata": {},
   "outputs": [],
   "source": [
    "Traditional Function mein hamesha return statement likhna padta hai agar koi value return karni ho.\n",
    "\n",
    "function multiply(a, b) {\n",
    "  return a * b;\n",
    "}\n"
   ]
  },
  {
   "cell_type": "markdown",
   "id": "78fa870c-69b7-47b7-8d99-e8a13975489a",
   "metadata": {},
   "source": [
    "# Rest Parameter:-"
   ]
  },
  {
   "cell_type": "markdown",
   "id": "37728200-a984-4509-a42f-83be466f772b",
   "metadata": {},
   "source": [
    "Rest parameter JavaScript mein ek feature hai jo function ke argument ko ek array ke form mein collect karta hai, jisse hum kisi bhi number of arguments ko handle kar sakte hain.\n",
    "\n",
    "Jab hum kisi function ko define karte hain aur humein multiple arguments pass karne ka option dena hota hai, toh hum ... (three dots) ka use karte hain rest parameter ko define karte waqt. Isse function ke andar ek array create ho jaata hai jo sabhi extra arguments ko store karta hai jo function ko call karte waqt diye jaate hain."
   ]
  },
  {
   "cell_type": "code",
   "execution_count": null,
   "id": "eccd20cd-bae5-44f9-95af-44825a48e34b",
   "metadata": {},
   "outputs": [],
   "source": [
    "function addNumbers(...numbers) {\n",
    "  return numbers.reduce((sum, num) => sum + num, 0);\n",
    "}\n",
    "\n",
    "console.log(addNumbers(1, 2, 3, 4)); // Output: 10\n",
    "console.log(addNumbers(5, 10)); // Output: 15"
   ]
  },
  {
   "cell_type": "code",
   "execution_count": null,
   "id": "3688477f-c0b5-4754-894c-251b83af017d",
   "metadata": {},
   "outputs": [],
   "source": [
    "Rest parameter ko hamesha function ke last argument ke roop mein hona chahiye.\n",
    "Rest parameter ek array banata hai, jismein function ke baaki arguments store hote hain."
   ]
  },
  {
   "cell_type": "markdown",
   "id": "6cb6ca60-afb2-4ac5-9552-f30d8488a80d",
   "metadata": {},
   "source": [
    "# Map() Function:-"
   ]
  },
  {
   "cell_type": "markdown",
   "id": "b6cde8db-3d4d-41d8-ad27-e7468d6b9d36",
   "metadata": {},
   "source": [
    "JavaScript mein map() function ek array method hota hai jo kisi array ke har element par ek function apply karta hai aur ek naya array return karta hai. Ye function original array ko modify nahi karta."
   ]
  },
  {
   "cell_type": "code",
   "execution_count": null,
   "id": "47b0a3e1-138d-41fa-ae30-4556f89e62aa",
   "metadata": {},
   "outputs": [],
   "source": [
    "let newArray = array.map(function(currentValue, index, array) {\n",
    "  // Code to execute on each element\n",
    "  return newValue; // New value that will be in the new array\n",
    "});\n"
   ]
  },
  {
   "cell_type": "code",
   "execution_count": null,
   "id": "35dfed47-4fc0-4f5e-aa23-8d4ce48d5325",
   "metadata": {},
   "outputs": [],
   "source": [
    "currentValue current element hota hai jo array ka part hota hai.\n",
    "\n",
    "index element ka index hota hai (optional).\n",
    "\n",
    "array poora array hota hai (optional)."
   ]
  },
  {
   "cell_type": "code",
   "execution_count": null,
   "id": "6e150a12-0e7f-4920-916f-3987c1a31f49",
   "metadata": {},
   "outputs": [],
   "source": [
    "let numbers = [1, 2, 3, 4, 5];\n",
    "\n",
    "let doubled = numbers.map(function(num) {\n",
    "  return num * 2;\n",
    "});\n",
    "\n",
    "console.log(doubled); // Output: [2, 4, 6, 8, 10]\n"
   ]
  },
  {
   "cell_type": "markdown",
   "id": "90166d48-c314-456a-8857-70134252da8d",
   "metadata": {},
   "source": [
    "Haan, map() method JavaScript mein ek new array return karta hai. Ye original array ko modify nahi karta, balki usse ek naya array create karta hai jisme updated values hoti hain jo function ke through generate hoti hain."
   ]
  },
  {
   "cell_type": "code",
   "execution_count": null,
   "id": "60cd7547-3efd-48fc-b387-d53b8905dea2",
   "metadata": {},
   "outputs": [],
   "source": [
    "let numbers = [1, 2, 3, 4, 5];\n",
    "\n",
    "let doubled = numbers.map(function(num) {\n",
    "  return num * 2;\n",
    "});\n",
    "\n",
    "console.log(numbers);  // Output: [1, 2, 3, 4, 5] (original array unchanged)\n",
    "console.log(doubled);  // Output: [2, 4, 6, 8, 10] (new array)"
   ]
  },
  {
   "cell_type": "markdown",
   "id": "b6ce2f85-c7de-4616-8f46-3f8e3b61e368",
   "metadata": {},
   "source": [
    "# Filter Function:-"
   ]
  },
  {
   "cell_type": "markdown",
   "id": "56d3695c-faf8-402a-98ac-4f993f1d3f93",
   "metadata": {},
   "source": [
    "JavaScript mein filter() ek array method hai jo ek new array return karta hai jo un elements ko contain karta hai jo given condition ya callback function se pass hote hain."
   ]
  },
  {
   "cell_type": "code",
   "execution_count": null,
   "id": "a8844623-be16-4cfc-843c-bd4f91a8275e",
   "metadata": {},
   "outputs": [],
   "source": [
    "array.filter(function(element, index, array) {\n",
    "  // return condition for each element\n",
    "});"
   ]
  },
  {
   "cell_type": "code",
   "execution_count": null,
   "id": "81829a39-6ed9-4bbe-b05a-b5d5e7a5c19d",
   "metadata": {},
   "outputs": [],
   "source": [
    "element: Array ka current element jo function ko pass hota hai.\n",
    "\n",
    "index: Current element ka index.\n",
    "\n",
    "array: Poora array."
   ]
  },
  {
   "cell_type": "code",
   "execution_count": null,
   "id": "4fd3b444-4a16-4c17-b191-9636002be576",
   "metadata": {},
   "outputs": [],
   "source": [
    "//Example--01\n",
    "\n",
    "const numbers = [1, 2, 3, 4, 5];\n",
    "\n",
    "// Sabhi even numbers ko filter karna\n",
    "const evenNumbers = numbers.filter(function(num) {\n",
    "  return num % 2 === 0;  // Sirf even numbers ko return karo\n",
    "});\n",
    "\n",
    "console.log(evenNumbers);  // Output: [2, 4]\n"
   ]
  },
  {
   "cell_type": "code",
   "execution_count": null,
   "id": "7f2e1a12-f5b8-49fc-b4bf-d3ee56e17ee9",
   "metadata": {},
   "outputs": [],
   "source": [
    "//Example--02\n",
    "\n",
    "const evenNumbers = numbers.filter(num => num % 2 === 0);\n",
    "console.log(evenNumbers);  // Output: [2, 4]"
   ]
  },
  {
   "cell_type": "markdown",
   "id": "9cc69d87-95d3-461d-bdcc-b9e8e705942c",
   "metadata": {},
   "source": [
    "# Reduse Function:-"
   ]
  },
  {
   "cell_type": "markdown",
   "id": "7c5dee24-7a50-443b-9003-4323f2712c9b",
   "metadata": {},
   "source": [
    "JavaScript mein reduce() ek array method hota hai jo array ke elements ko ek single value mein reduce (combine) karta hai. Ye method array ke har element par ek callback function apply karta hai, jo accumulate karte hue result return karta hai."
   ]
  },
  {
   "cell_type": "code",
   "execution_count": null,
   "id": "2226854f-0893-40ac-8365-36bb6d7a3f7a",
   "metadata": {},
   "outputs": [],
   "source": [
    "array.reduce(callback(accumulator, currentValue, currentIndex, array), initialValue);"
   ]
  },
  {
   "cell_type": "markdown",
   "id": "8eb49ff9-cccf-4a6a-8124-2d9f1f2e308b",
   "metadata": {},
   "source": [
    "callback: Ye function jo har element ke liye call hota hai. Iske 4 parameters hote hain:\n",
    "\n",
    "accumulator: Ye wo value hoti hai jo har iteration ke baad update hoti hai.\n",
    "\n",
    "currentValue: Ye array ka current element hota hai.\n",
    "\n",
    "currentIndex (optional): Ye current element ka index hota hai.\n",
    "\n",
    "array (optional): Ye poora array hota hai jisme reduce method apply ho raha hai.\n",
    "\n",
    "initialValue (optional): Ye wo value hoti hai jo accumulator ko initial value ke taur par assign hoti hai. Agar ye provide nahi kiya jata, toh array ka pehla element initial value ke roop mein use hota hai."
   ]
  },
  {
   "cell_type": "code",
   "execution_count": null,
   "id": "3808ca30-d715-4186-b9c5-58cd36f9d32c",
   "metadata": {},
   "outputs": [],
   "source": [
    "let numbers = [1, 2, 3, 4, 5];\n",
    "\n",
    "let sum = numbers.reduce((accumulator, currentValue) => {\n",
    "  return accumulator + currentValue;\n",
    "}, 0); // 0 is the initial value\n",
    "\n",
    "console.log(sum);  // Output: 15\n"
   ]
  },
  {
   "cell_type": "markdown",
   "id": "c56b6856-c539-4291-885e-824f5ef48403",
   "metadata": {},
   "source": [
    "# Find Function:-"
   ]
  },
  {
   "cell_type": "markdown",
   "id": "e72b05a6-bddf-4386-8e2b-94efedd66322",
   "metadata": {},
   "source": [
    "In JavaScript, the find() function is an array method that allows you to search for an element in an array that satisfies a given condition (i.e., a predicate function). It returns the first element that meets the condition, or undefined if no element satisfies the condition."
   ]
  },
  {
   "cell_type": "code",
   "execution_count": null,
   "id": "5f1cecde-4bd6-491a-b0dd-52ba83c30802",
   "metadata": {},
   "outputs": [],
   "source": [
    "array.find(callback(element[, index[, array]])[, thisArg])"
   ]
  },
  {
   "cell_type": "raw",
   "id": "7d3afdc9-0e86-4de6-9a7a-ee7d77b25760",
   "metadata": {},
   "source": [
    "callback: A function that is called for every element in the array. It accepts three arguments:\n",
    "element: The current element being processed.\n",
    "index: The index of the current element (optional).\n",
    "array: The array that find() was called on (optional).\n",
    "thisArg: (Optional) A value to use as this when executing the callback."
   ]
  },
  {
   "cell_type": "code",
   "execution_count": null,
   "id": "7ed03687-2a29-4bf1-b634-186d63aa4c67",
   "metadata": {},
   "outputs": [],
   "source": [
    "//Example-01\n",
    "\n",
    "const people = [\n",
    "  { name: \"Alice\", age: 25 },\n",
    "  { name: \"Bob\", age: 30 },\n",
    "  { name: \"Charlie\", age: 35 }\n",
    "];\n",
    "\n",
    "const person = people.find(person => person.name === \"Bob\");\n",
    "\n",
    "console.log(person); // { name: \"Bob\", age: 30 }\n"
   ]
  },
  {
   "cell_type": "code",
   "execution_count": null,
   "id": "1088e1c5-f168-46b0-b125-f0df15448a28",
   "metadata": {},
   "outputs": [],
   "source": [
    "//Example --> 02\n",
    "\n",
    "const numbers = [1, 2, 3, 4];\n",
    "\n",
    "const result = numbers.find(num => num > 5);\n",
    "\n",
    "console.log(result); // undefined (since no number is greater than 5)\n"
   ]
  },
  {
   "cell_type": "raw",
   "id": "79e82097-d97a-465f-942e-8c0dd1012ba7",
   "metadata": {},
   "source": [
    "find() only returns the first element that matches the condition.\n",
    "If no match is found, it returns undefined.\n",
    "The method does not modify the original array."
   ]
  },
  {
   "cell_type": "markdown",
   "id": "f3e22011-13d0-49e8-9b19-4e334e253510",
   "metadata": {},
   "source": [
    "# Every() Method"
   ]
  },
  {
   "cell_type": "markdown",
   "id": "1d472b35-44ad-4131-b09c-6d9c5820d5d0",
   "metadata": {},
   "source": [
    "JavaScript mein every() method ek array method hai jo array ke har element ko ek specified test function ke saath check karta hai. Agar array ka har element us test ko pass kar leta hai, toh every() method true return karta hai. Agar koi bhi element test ko pass nahi karta hai, toh yeh false return karta hai."
   ]
  },
  {
   "cell_type": "code",
   "execution_count": null,
   "id": "33d835f4-cdb3-4482-89df-5a6e0ae5d3d5",
   "metadata": {},
   "outputs": [],
   "source": [
    "array.every(function(currentValue, index, array) {\n",
    "  // return true or false\n",
    "}, thisArg);"
   ]
  },
  {
   "cell_type": "markdown",
   "id": "d0a5563f-9bbf-414b-8fda-fa32678c9a22",
   "metadata": {},
   "source": [
    "function(currentValue, index, array): Ye ek callback function hai jo har element ke liye execute hota hai.\n",
    "\n",
    "currentValue: Array ka current element jo function ke saath pass kiya gaya hota hai.\n",
    "\n",
    "index (optional): Current element ka index.\n",
    "\n",
    "array (optional): Original array jo every() method par call kiya gaya tha.\n",
    "\n",
    "thisArg (optional): Agar aapko this ka specific value pass karni ho toh, isko use kar sakte ho."
   ]
  },
  {
   "cell_type": "code",
   "execution_count": null,
   "id": "afe5a3b3-f018-4857-920b-4d720db21a7c",
   "metadata": {},
   "outputs": [],
   "source": [
    "let numbers = [2, 4, 6, 8];\n",
    "\n",
    "let result = numbers.every(function(num) {\n",
    "  return num % 2 === 0; // Check if the number is even\n",
    "});\n",
    "\n",
    "console.log(result);  // Output: true\n"
   ]
  },
  {
   "cell_type": "code",
   "execution_count": null,
   "id": "cab8a87e-e3bb-411c-84cc-b8d375fd1590",
   "metadata": {},
   "outputs": [],
   "source": [
    "let numbers = [2, 4, 6, 7];\n",
    "\n",
    "let result = numbers.every(function(num) {\n",
    "  return num % 2 === 0; // Check if the number is even\n",
    "});\n",
    "\n",
    "console.log(result);  // Output: false\n"
   ]
  },
  {
   "cell_type": "markdown",
   "id": "d38753dd-9874-4274-8036-ab044f242b6a",
   "metadata": {},
   "source": [
    "every() method agar array ka har element condition ko satisfy karta hai toh true return karta hai, agar ek bhi element condition ko satisfy nahi karta, toh false return hota hai.\n",
    "\n",
    "Agar array empty hai, toh every() method automatically true return karega, kyunki condition ko kisi bhi element ko check nahi karna padta."
   ]
  },
  {
   "cell_type": "markdown",
   "id": "a1443a0c-e6e6-4f7b-9808-65f7f9c01d97",
   "metadata": {},
   "source": [
    "# Some() Method:-"
   ]
  },
  {
   "cell_type": "markdown",
   "id": "9c47cb1f-946c-4a6f-acac-220ceb0818fe",
   "metadata": {},
   "source": [
    "JavaScript mein some() method ek array method hai jo check karta hai ki array ke kisi bhi element ne condition ko satisfy kiya hai ya nahi. Agar array ka koi element specified condition ko meet karta hai, to yeh method true return karta hai, aur agar koi element match nahi karta to false return karta hai."
   ]
  },
  {
   "cell_type": "code",
   "execution_count": null,
   "id": "6599dd8f-260b-452d-b6bc-4a213af2e5bb",
   "metadata": {},
   "outputs": [],
   "source": [
    "array.some(callback(currentValue, index, array), thisArg);"
   ]
  },
  {
   "cell_type": "markdown",
   "id": "c56e415f-2eaf-46be-9d24-4d0971e4c86d",
   "metadata": {},
   "source": [
    "callback: Ek function jo har array element ke liye call hota hai. Is function ko 3 arguments milte hain:\n",
    "\n",
    "currentValue: Array ka current element.\n",
    "\n",
    "index: Current element ka index (optional).\n",
    "\n",
    "array: Pura array (optional).\n",
    "\n",
    "thisArg: Optional. Agar provided kiya jaye, to callback function ke liye this value ko set karta hai."
   ]
  },
  {
   "cell_type": "code",
   "execution_count": null,
   "id": "e916a2b3-7a77-4245-9d76-44260b4cf9b5",
   "metadata": {},
   "outputs": [],
   "source": [
    "let numbers = [1, 2, 3, 4, 5];\n",
    "\n",
    "let hasEven = numbers.some(function(num) {\n",
    "  return num % 2 === 0;  // Checking if any number is even\n",
    "});\n",
    "\n",
    "console.log(hasEven);  // Output: true, because 2 and 4 are even"
   ]
  },
  {
   "cell_type": "markdown",
   "id": "318e0003-72a8-4e2d-8a98-54136f222848",
   "metadata": {},
   "source": [
    "Is example mein, some() method check karta hai ki kya array ke kisi bhi element mein even number hai. Agar hai, to result true hoga.\n",
    "\n",
    "Agar array mein koi bhi element condition ko match nahi karta, to result false hoga."
   ]
  },
  {
   "cell_type": "code",
   "execution_count": null,
   "id": "3d197bdb-2c31-4555-ade0-da5d4a980f78",
   "metadata": {},
   "outputs": [],
   "source": [
    "let numbers = [1, 3, 5, 7];\n",
    "\n",
    "let hasEven = numbers.some(function(num) {\n",
    "  return num % 2 === 0;  // Checking if any number is even\n",
    "});\n",
    "\n",
    "console.log(hasEven);  // Output: false, because no even numbers\n"
   ]
  },
  {
   "cell_type": "markdown",
   "id": "4f044752-632f-4f69-94d8-241aae069662",
   "metadata": {},
   "source": [
    "# Fill Method :-"
   ]
  },
  {
   "cell_type": "markdown",
   "id": "af49b574-00a3-4b39-82bb-11cca4599c4c",
   "metadata": {},
   "source": [
    "JavaScript mein fill() ek array method hai jo ek array ko ek specific value se fill karta hai. Ye method ek array ko modify karta hai aur uske specified elements ko replace kar deta hai."
   ]
  },
  {
   "cell_type": "code",
   "execution_count": null,
   "id": "086691c7-8667-4e55-8cab-5730af5d5e9d",
   "metadata": {},
   "outputs": [],
   "source": [
    "array.fill(value, start, end)"
   ]
  },
  {
   "cell_type": "markdown",
   "id": "dee1a048-dd72-4dfd-90ef-5e1cd53e5128",
   "metadata": {},
   "source": [
    "value: Ye wo value hai jo aap array ke specified elements mein fill karna chahte hain.\n",
    "\n",
    "start (optional): Ye wo index hai jahan se fill karna start hoga. Agar specify na kiya gaya ho, to default value 0 hoti hai.\n",
    "\n",
    "end (optional): Ye wo index hai jahan tak fill karna hoga (excluding the end index). Agar specify na kiya gaya ho, to default value array ki length hoti hai."
   ]
  },
  {
   "cell_type": "code",
   "execution_count": null,
   "id": "bc584dcf-8631-4443-99bf-1558bdda653d",
   "metadata": {},
   "outputs": [],
   "source": [
    "let arr = [1, 2, 3, 4, 5];\n",
    "\n",
    "// Fill the array with 0 from index 2 to 4 (excluding 4)\n",
    "arr.fill(0, 2, 4);\n",
    "\n",
    "console.log(arr); // Output: [1, 2, 0, 0, 5]\n"
   ]
  },
  {
   "cell_type": "code",
   "execution_count": null,
   "id": "b3caf231-12fb-4ff7-9875-47fc8d208abd",
   "metadata": {},
   "outputs": [],
   "source": [
    "let arr = [1, 2, 3, 4, 5];\n",
    "\n",
    "// Fill the array with 10\n",
    "arr.fill(10);\n",
    "\n",
    "console.log(arr); // Output: [10, 10, 10, 10, 10]\n"
   ]
  },
  {
   "cell_type": "markdown",
   "id": "d147fca5-97e1-499b-8a80-f5dc8a2035fb",
   "metadata": {},
   "source": [
    "# Insert A Element in Array:-"
   ]
  },
  {
   "cell_type": "markdown",
   "id": "4afde065-9325-4b2c-a63c-eefb595265a0",
   "metadata": {},
   "source": [
    "#### Insert an element at the end of the array:"
   ]
  },
  {
   "cell_type": "code",
   "execution_count": null,
   "id": "8c883078-152a-4c92-9b8e-5de1bd6abb81",
   "metadata": {},
   "outputs": [],
   "source": [
    "let arr = [1, 2, 3];\n",
    "arr.push(4);  // Insert 4 at the end\n",
    "console.log(arr);  // Output: [1, 2, 3, 4]\n"
   ]
  },
  {
   "cell_type": "markdown",
   "id": "cc108abb-f86c-4cae-8d48-841d669e55f1",
   "metadata": {},
   "source": [
    "#### Insert an element at the beginning of the array:"
   ]
  },
  {
   "cell_type": "code",
   "execution_count": null,
   "id": "458fbeac-e454-453f-af93-69e8531ca363",
   "metadata": {},
   "outputs": [],
   "source": [
    "let arr = [1, 2, 3];\n",
    "arr.unshift(0);  // Insert 0 at the beginning\n",
    "console.log(arr);  // Output: [0, 1, 2, 3]\n"
   ]
  },
  {
   "cell_type": "markdown",
   "id": "667d7c5a-2b47-4537-bf5e-c14d7d440eb3",
   "metadata": {},
   "source": [
    "#### Insert an element at a specific index in the array:"
   ]
  },
  {
   "cell_type": "code",
   "execution_count": null,
   "id": "081e1136-b76f-4aaf-8ddb-86e0f41995da",
   "metadata": {},
   "outputs": [],
   "source": [
    "let arr = [1, 2, 4, 5];\n",
    "arr.splice(2, 0, 3);  // Insert 3 at index 2 (before the element 4)\n",
    "console.log(arr);  // Output: [1, 2, 3, 4, 5]\n"
   ]
  },
  {
   "cell_type": "markdown",
   "id": "d0d9ba44-eb23-4faa-8a38-1a375a1575e8",
   "metadata": {},
   "source": [
    "The first argument (2) is the index at which to start.\n",
    "The second argument (0) is the number of elements to remove (since we are just inserting, we remove 0 elements).\n",
    "The third argument (3) is the element to insert."
   ]
  },
  {
   "cell_type": "markdown",
   "id": "6e7a5067-b4a8-4be9-aa67-ad957cfd754e",
   "metadata": {},
   "source": [
    "# This Keyword:-"
   ]
  },
  {
   "cell_type": "markdown",
   "id": "9b47b742-4aa7-45f8-b154-aeda79f8628f",
   "metadata": {},
   "source": [
    "JavaScript mein this ek special keyword hota hai jo current execution context ya object ko refer karta hai. Yeh apne execution ke context ke hisaab se alag-alag behave karta hai."
   ]
  },
  {
   "cell_type": "markdown",
   "id": "b5716427-d423-4b93-9879-295daa6534f6",
   "metadata": {},
   "source": [
    "#### this ka behavior kis context mein hota hai:"
   ]
  },
  {
   "cell_type": "markdown",
   "id": "f125bb7f-2337-488b-9ab0-24663aef772d",
   "metadata": {},
   "source": [
    "Global context (outside any function): Agar aap this ko directly global scope mein use karte hain (jaise browser mein, jab koi function nahi chal raha hota), toh this window object ko refer karega."
   ]
  },
  {
   "cell_type": "code",
   "execution_count": null,
   "id": "779e9acb-cd48-449d-aea5-75d7104cb4cc",
   "metadata": {},
   "outputs": [],
   "source": [
    "console.log(this);  // In browser, this will refer to the window object"
   ]
  },
  {
   "cell_type": "markdown",
   "id": "7c1a2c3e-4fdd-4a5a-be03-c8b0ba660db5",
   "metadata": {},
   "source": [
    "Function context: Agar aap function ke andar this use karte hain, toh this uss function ke call karne wale context ko refer karega."
   ]
  },
  {
   "cell_type": "code",
   "execution_count": null,
   "id": "3fc95f1c-0201-4ff6-a68e-beef75788e3d",
   "metadata": {},
   "outputs": [],
   "source": [
    "function example() {\n",
    "    console.log(this);  // In non-strict mode, this refers to the global object (window in browsers)\n",
    "}\n",
    "example();\n"
   ]
  },
  {
   "cell_type": "markdown",
   "id": "c265c61f-9a42-42cb-9a24-e97fa84eb52a",
   "metadata": {},
   "source": [
    "Method context: Jab this ko object ke method ke andar use kiya jata hai, toh this uss object ko refer karta hai."
   ]
  },
  {
   "cell_type": "code",
   "execution_count": null,
   "id": "344c86dd-1b4a-4cd8-874f-ea46175df31b",
   "metadata": {},
   "outputs": [],
   "source": [
    "const obj = {\n",
    "    name: \"JavaScript\",\n",
    "    greet: function() {\n",
    "        console.log(this.name);  // 'this' refers to the obj object\n",
    "    }\n",
    "};\n",
    "obj.greet();  // Output: JavaScript\n"
   ]
  },
  {
   "cell_type": "markdown",
   "id": "5ba1bbbe-9378-4494-baa9-2643a17cecb1",
   "metadata": {},
   "source": [
    "Arrow functions: Arrow functions mein this ka behavior normal functions se thoda alag hota hai. Arrow function apna this inherit karta hai jo usse baahar ke context mein hota hai, iska apna this nahi hota."
   ]
  },
  {
   "cell_type": "code",
   "execution_count": null,
   "id": "9f75decc-f1a2-4f91-8c33-7f5603919b46",
   "metadata": {},
   "outputs": [],
   "source": [
    "const obj = {\n",
    "    name: \"JavaScript\",\n",
    "    greet: () => {\n",
    "        console.log(this.name);  // 'this' refers to the global context, not the obj object\n",
    "    }\n",
    "};\n",
    "obj.greet();  // Output will be undefined or error depending on context\n"
   ]
  },
  {
   "cell_type": "markdown",
   "id": "811227b9-204e-4910-9369-08bda5dce1d5",
   "metadata": {},
   "source": [
    "Constructor functions: Agar aap this ko constructor function mein use karte hain, toh this newly created object ko refer karta hai."
   ]
  },
  {
   "cell_type": "code",
   "execution_count": null,
   "id": "31f924ca-052b-4cbb-b231-fe8f853a67e9",
   "metadata": {},
   "outputs": [],
   "source": [
    "function Person(name) {\n",
    "    this.name = name;\n",
    "}\n",
    "const person1 = new Person(\"John\");\n",
    "console.log(person1.name);  // Output: John\n"
   ]
  },
  {
   "cell_type": "markdown",
   "id": "ae809f3b-09bb-4f40-833e-5ad54666edf4",
   "metadata": {},
   "source": [
    "#### Conclusion:\n",
    "\n",
    "this JavaScript mein ek dynamic keyword hai aur iske behavior ko samajhna zaroori hai, kyunki wo different contexts mein alag tareeke se behave karta hai. Yeh bahut powerful tool hai jab aap object-oriented programming ya functions ke saath kaam karte hain."
   ]
  },
  {
   "cell_type": "markdown",
   "id": "cebfe9b5-7a0f-40d8-9c22-ffaffa0c6724",
   "metadata": {},
   "source": [
    "# New KeyWord"
   ]
  },
  {
   "cell_type": "markdown",
   "id": "533962cb-06ab-43e0-a537-af73d7d2ff14",
   "metadata": {},
   "source": [
    "JavaScript mein new keyword ka use ek object ko create karne ke liye kiya jata hai, jab hum kisi class ya constructor function ka instance banana chahte hain.\n",
    "\n",
    "Jab aap new keyword ka use karte hain, to yeh kuch steps perform karta hai:\n",
    "\n",
    "1.Ek naya object banata hai.\n",
    "\n",
    "2.Us object ko constructor function ke context mein set karta hai.\n",
    "\n",
    "3.Agar constructor function mein return statement na ho, to by default this ko return karta hai jo object hai.\n",
    "\n",
    "4.Agar constructor function ke andar return value ho (for example, ek object), to wahi object return hota hai."
   ]
  },
  {
   "cell_type": "code",
   "execution_count": null,
   "id": "4143cfb1-ad51-4589-a31d-cd83f9d88ca3",
   "metadata": {},
   "outputs": [],
   "source": [
    "//Example---01\n",
    "\n",
    "\n",
    "function Person(name, age) {\n",
    "    this.name = name;\n",
    "    this.age = age;\n",
    "}\n",
    "\n",
    "let person1 = new Person('John', 30);\n",
    "console.log(person1.name); // Output: John\n",
    "console.log(person1.age);  // Output: 30\n",
    "\n",
    "\n",
    "//Example --02\n",
    "\n",
    "class Person {\n",
    "    constructor(name, age) {\n",
    "        this.name = name;\n",
    "        this.age = age;\n",
    "    }\n",
    "}\n",
    "\n",
    "let person1 = new Person('John', 30);\n",
    "console.log(person1.name); // Output: John\n"
   ]
  },
  {
   "cell_type": "markdown",
   "id": "3baf2acb-9716-42e5-b4f2-57898a58215c",
   "metadata": {},
   "source": [
    "## new Keyword ka Working:\n",
    "\n",
    "Jab aap new keyword ka use karte hain, to JavaScript kuch internal steps follow karta hai:\n",
    "\n",
    "#### Ek Naya Object Create Hota Hai:\n",
    "Jab aap new ke saath kisi constructor ko call karte hain, to JavaScript internally ek naya empty object banata hai.\n",
    "\n",
    "#### Constructor Function Ko Call Kiya Jata Hai:\n",
    "Us object ko this context ke saath constructor function mein pass kiya jata hai, jisse ki aap this ke through us object ke properties set kar sakein.\n",
    "\n",
    "#### Prototype Chain Setup Hoti Hai:\n",
    "JavaScript mein har object ka ek prototype hota hai, aur jab new keyword se object create hota hai, to us object ka prototype us constructor function ke prototype object se set hota hai. Iska matlab yeh hai ki us object ko constructor function ke prototype methods aur properties bhi milte hain.\n",
    "\n",
    "#### Return Statement:\n",
    "Agar aap constructor function mein explicitly koi value return nahi karte, to new keyword this ko return karta hai, jo ki created object hota hai. Agar constructor mein koi non-object return hota hai (for example, primitive types like string ya number), to woh ignore ho jata hai aur this object hi return hota hai."
   ]
  },
  {
   "cell_type": "markdown",
   "id": "42c43d45-a723-4506-9d5b-6c4b66dcb3ed",
   "metadata": {},
   "source": [
    "##Summary:\n",
    "\n",
    "new ek object create karta hai, usme constructor function ko run karta hai, aur object ko return karta hai.\n",
    "\n",
    "new keyword se object ko this context milta hai, jisse us object ki properties set hoti hain.\n",
    "\n",
    "new se ek class ya constructor function ka instance banaya jata hai, jo methods aur properties ko inherit karne mein madad karta hai."
   ]
  },
  {
   "cell_type": "markdown",
   "id": "695f6899-06bd-4174-8479-67bffc86830d",
   "metadata": {},
   "source": [
    "# DOM (Document Object Model)"
   ]
  },
  {
   "cell_type": "markdown",
   "id": "0b796adb-f1f4-4c28-8828-a9c11281c104",
   "metadata": {},
   "source": [
    "DOM ka matlab hai Document Object Model. Ye ek programming interface hota hai jo web pages ko manipulate karne ke liye use hota hai. Jab aap ek webpage ko browser mein dekhte hain, to us page ka HTML code ek structure ke roop mein DOM ke through browser mein load hota hai.\n",
    "\n",
    "DOM ek tree structure mein hota hai, jisme har element (jaise paragraphs, images, links, etc.) ek node hota hai. Aap JavaScript ya kisi aur programming language ka istemal karke DOM ko modify kar sakte hain, jaise content ko change karna, elements ko add ya remove karna, ya kisi element ko style dena.\n",
    "\n",
    "Example: Jab aap JavaScript se kisi button ko click karne par kisi text ko change karte hain, to aap actually DOM ko modify kar rahe hote hain."
   ]
  },
  {
   "cell_type": "markdown",
   "id": "e70357f8-c885-488f-acd9-8ebc36f88e17",
   "metadata": {},
   "source": [
    "DOM ka main kaam: DOM ek tree-like structure mein hota hai, jisme har element (jaise paragraphs, headings, images, links, etc.) ek node ke roop mein represent hota hai. Is model ki madad se developers web page ke content aur structure ko dynamically manipulate kar sakte hain."
   ]
  },
  {
   "cell_type": "markdown",
   "id": "3f585f29-f71d-405c-9c0b-8c98cdc439bc",
   "metadata": {},
   "source": [
    "#### DOM ko use karne ki zarurat kyu hoti hai?\n",
    "\n",
    "1. Dynamic Content Changes: DOM ka use isliye hota hai taaki aap dynamically webpage ka content change kar sakein bina page ko dobara se reload kiye. Jaise, kisi button ko click karne par content change karna, ya kisi input field mein entered value ko instantly process karna.\n",
    "\n",
    "2. Event Handling: DOM events ko handle karne ke liye use kiya jata hai, jaise button click, mouse hover, form submission, etc. JavaScript ka use karke hum in events ko handle karte hain aur uske response mein page ka content update karte hain.\n",
    "\n",
    "3. Interactive Features: Agar aapko webpage mein interactive elements add karne hain, jaise sliders, pop-ups, or animations, to DOM ke zariye aap easily in elements ko manipulate kar sakte hain.\n",
    "\n",
    "4. CSS Styling: DOM ka use CSS ke saath combine karke elements ki style ko change karne ke liye bhi hota hai. Aap JavaScript se DOM ko modify karke kisi element ki styling (color, size, position, etc.) ko dynamically update kar sakte hain."
   ]
  },
  {
   "cell_type": "markdown",
   "id": "10f042f8-418c-4330-a4ec-e5e9bf4c1996",
   "metadata": {},
   "source": [
    "# innerHTML and innerText me kya diff ha?\n"
   ]
  },
  {
   "cell_type": "markdown",
   "id": "673a8b52-5b71-41c6-bf50-79f69f91104f",
   "metadata": {},
   "source": [
    "### innerHTML:-\n",
    "\n",
    "Purpose: Yeh property element ke andar ka HTML content ko access ya modify karne ke liye use hoti hai.\n",
    "\n",
    "Kaise kaam karti hai: Agar aap innerHTML ko read karte hain, toh yeh element ke andar ka saara HTML content (tags ke sath) return karta hai. Agar aap innerHTML ko set karte hain, toh aap us element ke content ko HTML format me update karte hain."
   ]
  },
  {
   "cell_type": "code",
   "execution_count": null,
   "id": "6118be99-9083-4a24-8615-fbcdfd41ce9d",
   "metadata": {},
   "outputs": [],
   "source": [
    "<div id=\"example\"><p>Hello <b>World</b></p></div>\n",
    "<script>\n",
    "  let divContent = document.getElementById(\"example\").innerHTML;\n",
    "  console.log(divContent); // Outputs: <p>Hello <b>World</b></p>\n",
    "</script>\n"
   ]
  },
  {
   "cell_type": "markdown",
   "id": "d387deab-75fa-4caf-9596-b67e7ba6be6e",
   "metadata": {},
   "source": [
    "#### innerText:-\n",
    "\n",
    "Purpose: Yeh property element ke visible text content ko access ya modify karne ke liye use hoti hai. Yeh text ko sirf plain text ke roop me return karta hai, aur kisi bhi HTML tags ko ignore karta hai.\n",
    "\n",
    "Kaise kaam karti hai: Agar aap innerText ko read karte hain, toh yeh sirf visible text ko return karega, bina HTML tags ke. Agar aap innerText ko set karte hain, toh aap plain text update kar rahe hote hain, aur existing HTML tags ko remove kar dete hain."
   ]
  },
  {
   "cell_type": "code",
   "execution_count": null,
   "id": "f916780b-b056-47a1-addc-a3eea14eb107",
   "metadata": {},
   "outputs": [],
   "source": [
    "<div id=\"example\"><p>Hello <b>World</b></p></div>\n",
    "<script>\n",
    "  let divText = document.getElementById(\"example\").innerText;\n",
    "  console.log(divText); // Outputs: Hello World\n",
    "</script>"
   ]
  },
  {
   "cell_type": "markdown",
   "id": "6abe32e1-e72f-4faa-9762-585a8d2d39da",
   "metadata": {},
   "source": [
    "# getAtteribute and getAtteributeNode me kya dif ha?"
   ]
  },
  {
   "cell_type": "markdown",
   "id": "ede762c2-496b-410d-bffa-49b97c5f6ada",
   "metadata": {},
   "source": [
    "## getAttribute():\n",
    "Ye method kisi element ka attribute value return karta hai.\n",
    "\n",
    "Jab aap getAttribute() ka use karte hain, toh ye sirf attribute ki value ko return karta hai (agar attribute exist karta hai).\n",
    "\n",
    "Agar attribute exist nahi karta, toh ye null return karta hai."
   ]
  },
  {
   "cell_type": "code",
   "execution_count": null,
   "id": "b4424c8e-8dfe-480d-9ea2-6c6e17e1165c",
   "metadata": {},
   "outputs": [],
   "source": [
    "const element = document.getElementById('myElement');\n",
    "let value = element.getAttribute('class'); // \"myClass\""
   ]
  },
  {
   "cell_type": "markdown",
   "id": "4a10bc30-2b17-409b-9d28-05a119d0d424",
   "metadata": {},
   "source": [
    "## getAttributeNode():\n",
    "\n",
    "Ye method attribute ka node return karta hai, na ke uski sirf value.\n",
    "    \n",
    "Iska return value ek Attr object hota hai, jisme name (attribute ka naam) aur value (attribute ki value) dono properties hoti hain.\n",
    "\n",
    "Agar attribute exist nahi karta, toh null return hota hai."
   ]
  },
  {
   "cell_type": "code",
   "execution_count": null,
   "id": "50305596-bfa6-48ff-9f62-93083f43cc7e",
   "metadata": {},
   "outputs": [],
   "source": [
    "const element = document.getElementById('myElement');\n",
    "let attributeNode = element.getAttributeNode('class'); \n",
    "console.log(attributeNode.name);  // \"class\"\n",
    "console.log(attributeNode.value); // \"myClass\""
   ]
  },
  {
   "cell_type": "markdown",
   "id": "8d830b25-13cc-4a24-b612-8a66091b23fd",
   "metadata": {},
   "source": [
    "### Key Difference:\n",
    "\n",
    "getAttribute() sirf attribute ki value ko return karta hai, jabki getAttributeNode() ek node return karta hai, jisme attribute ka naam aur value dono hote hain.\n",
    "\n",
    "### When to use which?\n",
    "\n",
    "1. Agar aapko sirf attribute ki value chahiye, toh getAttribute() use karein.\n",
    "\n",
    "2. Agar aapko attribute ka name ya kisi aur specific property ki zaroorat ho, toh getAttributeNode() use karein."
   ]
  },
  {
   "cell_type": "markdown",
   "id": "6e3a19ab-0415-447b-a9de-63a64934ab92",
   "metadata": {},
   "source": [
    "# SetAtteributes "
   ]
  },
  {
   "cell_type": "markdown",
   "id": "711bdf01-22f1-4be7-80a1-3527c960028b",
   "metadata": {},
   "source": [
    "DOM (Document Object Model) mein, setAttribute ek method hota hai jo kisi element ki attribute ko set (ya update) karne ke liye use kiya jata hai. Iska use hum tab karte hain jab humein kisi HTML element (jaise <div>, <img>, <input>, etc.) ka attribute change karna ho."
   ]
  },
  {
   "cell_type": "code",
   "execution_count": null,
   "id": "9f81d175-44fe-4bb5-a07f-2e82796a1eb6",
   "metadata": {},
   "outputs": [],
   "source": [
    "#Syntax:-\n",
    "element.setAttribute(attributeName, value);"
   ]
  },
  {
   "cell_type": "markdown",
   "id": "0976c635-7322-4b24-92e3-a8a9e2547faa",
   "metadata": {},
   "source": [
    "attributeName: Ye wo attribute ka naam hota hai jo aap set karna chahte hain, jaise \"src\", \"href\", \"class\", etc.\n",
    "\n",
    "value: Ye wo value hoti hai jo aap attribute ko dena chahte hain."
   ]
  },
  {
   "cell_type": "markdown",
   "id": "b9eace1a-05bd-4746-a635-3772fa95132a",
   "metadata": {},
   "source": [
    "# Remove attribute"
   ]
  },
  {
   "cell_type": "markdown",
   "id": "80ab04c5-0ab4-483e-bc88-a404d8bfae06",
   "metadata": {},
   "source": [
    "Remove attribute\" ka matlab hota hai kisi object ya element ka koi specific attribute ya property hata dena. Ye term zyada tar programming, web development, ya data manipulation mein use hoti hai.\n",
    "\n",
    "For example, agar aap HTML mein kisi element (jaise <div> ya <img>) se koi attribute (jaise class, src, id, etc.) remove karna chahte hain, to aap JavaScript mein removeAttribute() method ka use karte hain."
   ]
  },
  {
   "cell_type": "code",
   "execution_count": null,
   "id": "57dd1692-373a-4867-a0f0-f77638ef9ab3",
   "metadata": {},
   "outputs": [],
   "source": [
    "#Syntax\n",
    "document.getElementById(\"myImage\").removeAttribute(\"src\");"
   ]
  },
  {
   "cell_type": "markdown",
   "id": "54dc6d2f-8832-48fd-93ed-e5ccd7d3a864",
   "metadata": {},
   "source": [
    "Is code mein, \"src\" attribute ko myImage id wale image element se remove kiya gaya hai.\n",
    "\n",
    "Is tarah se, aap kisi bhi element se unwanted attributes ko hata sakte hain."
   ]
  },
  {
   "cell_type": "markdown",
   "id": "e42cc94e-d0ed-4fb1-8f9b-111912dcc868",
   "metadata": {},
   "source": [
    "removeAttribute() method koi value return nahi karta. Ye method sirf attribute ko remove karne ka kaam karta hai aur uska koi return value nahi hota.\n",
    "\n",
    "Matlab agar aap removeAttribute() ko call karte hain, to wo attribute ko element se hata deta hai, lekin aapko koi value (jaise true ya false) return nahi hoti."
   ]
  },
  {
   "cell_type": "code",
   "execution_count": null,
   "id": "72f3d401-e791-40d6-9fb5-30b229da9179",
   "metadata": {},
   "outputs": [],
   "source": [
    "let element = document.getElementById(\"myImage\");\n",
    "let result = element.removeAttribute(\"src\");\n",
    "\n",
    "console.log(result); // undefined (kuch return nahi hota)"
   ]
  },
  {
   "cell_type": "markdown",
   "id": "4ea3be4f-511f-4826-b9cb-bdeda209acaf",
   "metadata": {},
   "source": [
    "Is example mein, result ki value undefined hogi kyunki removeAttribute() method koi value return nahi karta. Wo sirf element se attribute ko hata deta hai"
   ]
  },
  {
   "cell_type": "markdown",
   "id": "b58f8e4a-cf08-4f00-a2be-d3ee0814e631",
   "metadata": {},
   "source": [
    "# QuerySelecter and QuerySelecterAll"
   ]
  },
  {
   "cell_type": "markdown",
   "id": "4ea42faa-c222-4556-9ac2-ecf4cd4a79a7",
   "metadata": {},
   "source": [
    "querySelector aur querySelectorAll dono methods hain jo JavaScript mein use hoti hain, lekin in dono mein ek important difference hota hai:"
   ]
  },
  {
   "cell_type": "markdown",
   "id": "0179ad18-e1a2-4036-b2ea-3239565688cc",
   "metadata": {},
   "source": [
    "## querySelector:\n",
    "\n",
    "Ye method pehli matching element ko select karta hai jo given CSS selector se match karta hai.\n",
    "    \n",
    "Agar multiple elements match karte hain, to querySelector sirf pehla element return karega."
   ]
  },
  {
   "cell_type": "code",
   "execution_count": null,
   "id": "3798a185-a480-4096-aebc-2b596675aa85",
   "metadata": {},
   "outputs": [],
   "source": [
    "const element = document.querySelector('.my-class');"
   ]
  },
  {
   "cell_type": "markdown",
   "id": "d69f7975-fba1-454f-afd1-83ac9532b085",
   "metadata": {},
   "source": [
    "### querySelectorAll:\n",
    "\n",
    "Ye method sabhi elements ko return karta hai jo given CSS selector se match karte hain.\n",
    "\n",
    "Ye ek NodeList return karta hai jo selected elements ka collection hota hai."
   ]
  },
  {
   "cell_type": "code",
   "execution_count": null,
   "id": "9979d0ff-1a38-4c1b-a716-eccb8d1465a5",
   "metadata": {},
   "outputs": [],
   "source": [
    "const elements = document.querySelectorAll('.my-class');"
   ]
  },
  {
   "cell_type": "markdown",
   "id": "ec885616-d837-4971-9477-9071215410c8",
   "metadata": {},
   "source": [
    "Ye code sabhi elements ko select karega jinka class my-class ho, aur wo elements ek NodeList mein honge."
   ]
  },
  {
   "cell_type": "markdown",
   "id": "a44f77bd-937d-42b5-817c-152a8de3fd6a",
   "metadata": {},
   "source": [
    "### Summary:\n",
    "\n",
    "querySelector: Pehla matching element return karta hai.\n",
    "\n",
    "querySelectorAll: Sabhi matching elements ko return karta hai (NodeList mein)."
   ]
  },
  {
   "cell_type": "markdown",
   "id": "8a87107d-b0d2-458b-8f55-94f32804beef",
   "metadata": {},
   "source": [
    "# eventListener "
   ]
  },
  {
   "cell_type": "markdown",
   "id": "5fe3c1dd-9d73-4c68-8d4e-ef3d9cad45be",
   "metadata": {},
   "source": [
    "JavaScript mein, eventListener ek method hota hai jo kisi bhi DOM element ko kisi specific event (jaise ki click, hover, key press, etc.) ke liye listen karne ka tareeqa deta hai. Matlab, jab bhi wo event us element par hota hai, tab ek specified function ya action execute hota hai.\n",
    "\n",
    "eventListener ko use karte waqt, hum ek event type specify karte hain (jaise \"click\", \"keypress\", \"load\", etc.) aur ek callback function jo tab execute hoga jab wo event trigger ho."
   ]
  },
  {
   "cell_type": "code",
   "execution_count": null,
   "id": "0b78b966-442d-4c1f-bdc5-63d126b89180",
   "metadata": {},
   "outputs": [],
   "source": [
    "element.addEventListener('event_type', function() {\n",
    "    // Callback function code\n",
    "});"
   ]
  },
  {
   "cell_type": "markdown",
   "id": "8a2fbbf3-450a-4229-a7c0-a91815b35e0b",
   "metadata": {},
   "source": [
    "Agar aap chahte hain ke jab user kisi button ko click kare to ek message show ho, to aap kuch is tarah se eventListener use karenge:"
   ]
  },
  {
   "cell_type": "code",
   "execution_count": null,
   "id": "8d8c1fd1-22c6-496f-8dcb-3ef81351e812",
   "metadata": {},
   "outputs": [],
   "source": [
    "// HTML element\n",
    "<button id=\"myButton\">Click Me</button>\n",
    "\n",
    "// JavaScript code\n",
    "let button = document.getElementById('myButton');\n",
    "\n",
    "button.addEventListener('click', function() {\n",
    "    alert('Button clicked!');\n",
    "});\n"
   ]
  },
  {
   "cell_type": "markdown",
   "id": "d81dfa4e-0fd5-43e3-80dd-1523d38ec17d",
   "metadata": {},
   "source": [
    "addEventListener event ko handle karta hai.\n",
    "\n",
    "event_type wo event hota hai jo trigger hoga (jaise \"click\", \"mouseover\", etc.).\n",
    "\n",
    "callback function wo function hai jo execute hoga jab event occur kare."
   ]
  },
  {
   "cell_type": "markdown",
   "id": "e707cd8e-1460-4f43-b039-5cd56603922c",
   "metadata": {},
   "source": [
    "# addeventlistener and removeeventlistener diff?\n"
   ]
  },
  {
   "cell_type": "markdown",
   "id": "c4529a64-85af-415b-8bd2-e00372fce5f3",
   "metadata": {},
   "source": [
    "### addEventListener:\n",
    "\n",
    "Iska use kisi element par event listener ko add karne ke liye kiya jata hai.\n",
    "\n",
    "Jaise agar aap chahte hain ke jab user kisi button ko click kare, to ek function call ho, to aap addEventListener ka use karenge."
   ]
  },
  {
   "cell_type": "code",
   "execution_count": null,
   "id": "30be5018-f914-4435-a814-0588b22c18df",
   "metadata": {},
   "outputs": [],
   "source": [
    "const button = document.querySelector('button');\n",
    "button.addEventListener('click', function() {\n",
    "  alert('Button clicked!');\n",
    "});\n"
   ]
  },
  {
   "cell_type": "markdown",
   "id": "845a35b7-cf8d-498f-987c-f4997c799969",
   "metadata": {},
   "source": [
    "### removeEventListener:\n",
    "\n",
    "Iska use kisi pehle se added event listener ko remove karne ke liye kiya jata hai.\n",
    "\n",
    "Ye method tab use hota hai jab aap kisi event listener ko hataana chahte hain, taake wo future me trigger na ho.\n",
    "\n",
    "Isme ek zaroori baat hai: jab aap removeEventListener use karte hain, to aapko wahi function reference dena padta hai jo addEventListener me use kiya gaya ho. Agar aap anonymous function (jo directly likha ho) use kar rahe hain, to wo remove nahi hoga."
   ]
  },
  {
   "cell_type": "code",
   "execution_count": null,
   "id": "cb1a1815-9a9e-447b-8895-22d25cd19df4",
   "metadata": {},
   "outputs": [],
   "source": [
    "const button = document.querySelector('button');\n",
    "function handleClick() {\n",
    "  alert('Button clicked!');\n",
    "}\n",
    "button.addEventListener('click', handleClick);\n",
    "\n",
    "// Later in the code\n",
    "button.removeEventListener('click', handleClick);\n"
   ]
  },
  {
   "cell_type": "markdown",
   "id": "1122946a-ba2e-49c0-9f24-f7e2522c48e6",
   "metadata": {},
   "source": [
    "# setTimeOut and ClearTimeOut me kya Diff ha?\n"
   ]
  },
  {
   "cell_type": "markdown",
   "id": "1f6629ff-1c2d-479b-ad43-31bd9b9cf1e4",
   "metadata": {},
   "source": [
    "### setTimeout:\n",
    "\n",
    "Is function ka use ek specific time ke baad koi code execute karne ke liye kiya jata hai.\n",
    "\n",
    "Ye function ek \"timeout\" set karta hai, jo ek time interval ke baad execute hota hai."
   ]
  },
  {
   "cell_type": "code",
   "execution_count": null,
   "id": "b7e9b546-db2d-439f-a848-00d97118d4f5",
   "metadata": {},
   "outputs": [],
   "source": [
    "setTimeout(function() {\n",
    "  console.log(\"This will run after 3 seconds\");\n",
    "}, 3000);\n"
   ]
  },
  {
   "cell_type": "markdown",
   "id": "60f8feeb-3772-4864-bb0f-21b5864469eb",
   "metadata": {},
   "source": [
    "### clearTimeout:\n",
    "\n",
    "Jab aapko setTimeout ko cancel karna ho, tab clearTimeout ka use kiya jata hai.\n",
    "\n",
    "Ye function ek timeout ko cancel karta hai, agar wo timeout ab tak execute nahi hua ho.\n",
    "\n",
    "Aapko setTimeout ke return value ko clearTimeout mein pass karna padta hai, jo timeout ko cancel karne ka kaam karta hai."
   ]
  },
  {
   "cell_type": "code",
   "execution_count": null,
   "id": "83ddb283-454a-4f4b-ac68-931a7110da42",
   "metadata": {},
   "outputs": [],
   "source": [
    "var timeoutId = setTimeout(function() {\n",
    "  console.log(\"This won't run if cleared\");\n",
    "}, 3000);\n",
    "\n",
    "// Ab timeout ko cancel karte hain\n",
    "clearTimeout(timeoutId);\n"
   ]
  },
  {
   "cell_type": "markdown",
   "id": "559c39c1-dde5-4341-8e80-720ce7dd8003",
   "metadata": {},
   "source": [
    "setTimeout: Kisi code ko specific time ke baad execute karne ke liye use hota hai.\n",
    "\n",
    "clearTimeout: Ek already set ki gayi timeout ko cancel karne ke liye use hota hai."
   ]
  },
  {
   "cell_type": "markdown",
   "id": "6a698b01-20af-4c96-a2f3-2142929ca1ef",
   "metadata": {},
   "source": [
    "# SetInterval and ClearInterval"
   ]
  },
  {
   "cell_type": "markdown",
   "id": "c514a92d-c9ce-4222-b2c2-78c3a3cfd584",
   "metadata": {},
   "source": [
    "### setInterval():\n",
    "\n",
    "Ye function ek specific task ko regular interval par execute karta hai.\n",
    "\n",
    "Iska syntax kuch is tarah hota hai:"
   ]
  },
  {
   "cell_type": "code",
   "execution_count": null,
   "id": "d1ac085e-03d2-4100-910f-52be4d9ec165",
   "metadata": {},
   "outputs": [],
   "source": [
    "setInterval(function, interval);"
   ]
  },
  {
   "cell_type": "markdown",
   "id": "a26daa53-9cc0-4d4d-b1a7-36d286daad71",
   "metadata": {},
   "source": [
    "function: Ye wo function hai jo aap ko execute karna hai.\n",
    "\n",
    "interval: Ye wo time (in milliseconds) hai jo aap chahte hain ki function execute hone se pehle gap ho."
   ]
  },
  {
   "cell_type": "code",
   "execution_count": null,
   "id": "67bcd927-96ea-44a4-b92b-e178b46b06dc",
   "metadata": {},
   "outputs": [],
   "source": [
    "setInterval(() => {\n",
    "    console.log(\"This will print every 2 seconds\");\n",
    "}, 2000); // 2000 milliseconds = 2 seconds\n"
   ]
  },
  {
   "cell_type": "markdown",
   "id": "62e6684d-354a-4b59-9426-b974905fd895",
   "metadata": {},
   "source": [
    "### clearInterval():\n",
    "Ye function ek active setInterval ko stop karta hai.\n",
    "\n",
    "Jab aapko interval ko rokna ho, to aap clearInterval() ka use karte hain.\n",
    "\n",
    "setInterval jab call hota hai, to wo ek ID return karta hai, jisse aap interval ko clear kar sakte hain.\n",
    "\n",
    "Iska syntax kuch is tarah hota hai:"
   ]
  },
  {
   "cell_type": "code",
   "execution_count": null,
   "id": "7baac101-0904-4519-b0aa-255bb47a018e",
   "metadata": {},
   "outputs": [],
   "source": [
    "clearInterval(intervalID);"
   ]
  },
  {
   "cell_type": "code",
   "execution_count": null,
   "id": "af8e1e14-5be0-40ed-b868-fb3355631afb",
   "metadata": {},
   "outputs": [],
   "source": [
    "const intervalID = setInterval(() => {\n",
    "    console.log(\"This will print every 2 seconds\");\n",
    "}, 2000);\n",
    "\n",
    "// Stop the interval after 5 seconds\n",
    "setTimeout(() => {\n",
    "    clearInterval(intervalID);\n",
    "    console.log(\"Interval has been cleared\");\n",
    "}, 5000);\n"
   ]
  },
  {
   "cell_type": "markdown",
   "id": "61555c48-263b-4b9d-8906-3c125e0ddff1",
   "metadata": {},
   "source": [
    "Is example mein, setInterval() har 2 second baad console.log() print karega, lekin 5 second ke baad clearInterval() use karke interval ko stop kar diya jayega."
   ]
  },
  {
   "cell_type": "markdown",
   "id": "249582b6-4298-43d2-b9d7-98cd063d0d27",
   "metadata": {},
   "source": [
    "setInterval(): Task ko regular interval pe repeat karta hai.\n",
    "    \n",
    "clearInterval(): Interval ko stop karta hai jo setInterval() ke through start kiya gaya tha."
   ]
  },
  {
   "cell_type": "markdown",
   "id": "1e79dc5a-b885-4d01-a123-50e5227cc23b",
   "metadata": {},
   "source": [
    "## Key Points:\n",
    "\n",
    "#### Return Value of setInterval():\n",
    "\n",
    "Jab aap setInterval() function call karte hain, to wo ek unique interval ID return karta hai. Is ID ko aapko use karna hota hai jab aap interval ko clearInterval() ke zariye stop karte hain.\n",
    "\n",
    "Ye interval ID har ek interval call ke liye alag hota hai.\n",
    "\n",
    "#### clearInterval() ko Galat Use Karna:\n",
    "\n",
    "Agar aap galat ID use karte hain clearInterval() mein, to wo koi effect nahi karega. Isliye ensure karein ki aap correct interval ID pass kar rahe hain.\n",
    "\n",
    "Agar interval ki zaroorat nahi hai ya jab aap usse stop karna chahte hain, to hamesha clearInterval() ka use karein."
   ]
  },
  {
   "cell_type": "markdown",
   "id": "90cce217-a14f-4e08-a885-c9c92432e2d1",
   "metadata": {},
   "source": [
    "# CallBack Function:-"
   ]
  },
  {
   "cell_type": "markdown",
   "id": "90116eee-e2d7-45f2-8d3f-c13e93eba72f",
   "metadata": {},
   "source": [
    "JavaScript mein callback function ek aisa function hota hai jo kisi doosre function ke argument ke roop mein pass kiya jata hai, aur doosra function jab apna kaam complete karta hai, tab wo callback function ko call karta hai.\n",
    "\n",
    "Simple shabdon mein, jab ek function kisi dusre function ko as an argument deta hai, to usse hum callback function kehte hain. Callback function ka use hum usually asynchronous operations jaise ki data fetch karne ya event handling mein karte hain.\n",
    "\n",
    "Callback functions ka use hum asynchronous code ko handle karne ke liye karte hain, taaki ek kaam complete hone par doosra kaam execute ho sake."
   ]
  },
  {
   "cell_type": "code",
   "execution_count": null,
   "id": "418a7f5d-ad38-4b4e-bcf4-aedc9be5ce73",
   "metadata": {},
   "outputs": [],
   "source": [
    "function greet(name) {\n",
    "    console.log(\"Hello \" + name);\n",
    "}\n",
    "\n",
    "function processUserInput(callback) {\n",
    "    var name = \"Alice\";\n",
    "    callback(name);  // Callback function ko call kiya\n",
    "}\n",
    "\n",
    "processUserInput(greet);  // greet function ko callback ke roop mein pass kiya\n"
   ]
  },
  {
   "cell_type": "markdown",
   "id": "075cb94f-522a-4ce2-a985-cb921d7fc385",
   "metadata": {},
   "source": [
    "Is example mein, processUserInput function ko greet function ko callback ke roop mein pass kiya gaya hai. Jab processUserInput apna kaam complete karta hai (yaha pe name set karne ka), tab wo greet function ko call karta hai."
   ]
  },
  {
   "cell_type": "code",
   "execution_count": null,
   "id": "de77c78d-c566-491e-9d06-d6fbdd11b793",
   "metadata": {},
   "outputs": [],
   "source": [
    "function fetchData(callback) {\n",
    "    setTimeout(() => {\n",
    "        let data = \"Data fetched\";\n",
    "        callback(data);  // Asynchronous kaam complete hone par callback function ko call kiya\n",
    "    }, 2000);\n",
    "}\n",
    "\n",
    "fetchData(function(result) {\n",
    "    console.log(result);  // \"Data fetched\" output hoga\n",
    "});\n"
   ]
  },
  {
   "cell_type": "markdown",
   "id": "59d8036c-23b6-4d99-94c0-ee1d73726d42",
   "metadata": {},
   "source": [
    "# Callback Hell"
   ]
  },
  {
   "cell_type": "markdown",
   "id": "2db2b537-3fa8-401f-9444-e0f0e08b4e0a",
   "metadata": {},
   "source": [
    "Callback Hell (or Pyramid of Doom) ek term hai jo JavaScript me tab use hoti hai jab aap bohot zyada nested callbacks use karte hain, jiski wajah se code ka structure complex aur difficult to maintain ho jata hai.\n",
    "\n",
    "JavaScript me asynchronous programming kaafi common hai, aur callback functions ka use uss waqt hota hai jab aapko kisi task ke complete hone ke baad next task perform karna ho. Jab aap multiple asynchronous tasks ko ek ke baad ek execute karte hain aur har ek task ke liye callback function ka use karte hain, toh code ka structure itna nested ho jata hai ki wo samajhna mushkil ho jata hai."
   ]
  },
  {
   "cell_type": "code",
   "execution_count": null,
   "id": "bdc5efb2-4d2d-4562-a8a6-947a9b9f035e",
   "metadata": {},
   "outputs": [],
   "source": [
    "doSomething(function(result1) {\n",
    "    doSomethingElse(result1, function(result2) {\n",
    "        doThirdThing(result2, function(result3) {\n",
    "            doFourthThing(result3, function(result4) {\n",
    "                // And so on...\n",
    "                console.log(result4);\n",
    "            });\n",
    "        });\n",
    "    });\n",
    "});\n"
   ]
  },
  {
   "cell_type": "markdown",
   "id": "370d68cb-7b77-4a5c-8fa2-46dcec9071b0",
   "metadata": {},
   "source": [
    "## Callback Hell ke issues:\n",
    "\n",
    "### Readability: \n",
    "Code samajhna mushkil hota hai jab callbacks deeply nested ho.\n",
    "\n",
    "### Maintainability: \n",
    "Agar code me koi bug ho ya aapko kuch modify karna ho, toh changes karna bohot tough hota hai.\n",
    "\n",
    "### Error Handling: \n",
    "Error handling bhi complex ho jati hai jab har nested callback ke andar alag error handling ki zaroorat padti hai."
   ]
  },
  {
   "cell_type": "markdown",
   "id": "dc4bb4e6-b92c-499d-8bc0-9578c9e04930",
   "metadata": {},
   "source": [
    "### Callback Hell ka solution"
   ]
  },
  {
   "cell_type": "markdown",
   "id": "4c34d943-9070-4d14-b77a-1b886533e56e",
   "metadata": {},
   "source": [
    "### Promises:\n",
    "Promises ka use karke aap callback hell ko avoid kar sakte hain. Promises ko then() aur catch() ke saath use karke, aap asynchronous code ko chain kar sakte hain."
   ]
  },
  {
   "cell_type": "code",
   "execution_count": null,
   "id": "3f427246-9dc3-4f0e-8197-23f0a02cf8be",
   "metadata": {},
   "outputs": [],
   "source": [
    "doSomething()\n",
    "    .then(result1 => doSomethingElse(result1))\n",
    "    .then(result2 => doThirdThing(result2))\n",
    "    .then(result3 => doFourthThing(result3))\n",
    "    .then(result4 => console.log(result4))\n",
    "    .catch(error => console.error(error));\n"
   ]
  },
  {
   "cell_type": "markdown",
   "id": "55fdf291-c297-42d9-a3c4-73a67e76d65c",
   "metadata": {},
   "source": [
    "### Async/Await: \n",
    "Async/await syntax ka use karke asynchronous code ko synchronous jaisa likha ja sakta hai, jisse code zyada readable aur maintainable ho jata hai."
   ]
  },
  {
   "cell_type": "code",
   "execution_count": null,
   "id": "a69d726d-ac9f-4ef5-a444-30c3f63a5af7",
   "metadata": {},
   "outputs": [],
   "source": [
    "async function executeTasks() {\n",
    "    try {\n",
    "        const result1 = await doSomething();\n",
    "        const result2 = await doSomethingElse(result1);\n",
    "        const result3 = await doThirdThing(result2);\n",
    "        const result4 = await doFourthThing(result3);\n",
    "        console.log(result4);\n",
    "    } catch (error) {\n",
    "        console.error(error);\n",
    "    }\n",
    "}\n"
   ]
  },
  {
   "cell_type": "markdown",
   "id": "e0ee1081-169b-44a2-afea-c346807b6181",
   "metadata": {},
   "source": [
    "# Promise"
   ]
  },
  {
   "cell_type": "markdown",
   "id": "35c300d2-1d17-441b-a61f-5534bd241d65",
   "metadata": {},
   "source": [
    "JavaScript mein Promise ek object hota hai jo asynchronously kaam karta hai, yani ki ek future value ko represent karta hai jo abhi available nahi hai lekin future mein milne wali hai.\n",
    "\n",
    "Promise ka basic concept yeh hai:-\n",
    "\n",
    "Pending: Jab promise abhi resolve ya reject nahi hota, tab wo pending state mein hota hai.\n",
    "\n",
    "Resolved (Fulfilled): Jab promise successfully complete ho jata hai, to wo resolved state mein chala jata hai.\n",
    "\n",
    "Rejected: Agar promise kisi error ya failure ki wajah se fail ho jata hai, to wo rejected state mein chala jata hai."
   ]
  },
  {
   "cell_type": "code",
   "execution_count": null,
   "id": "d8b31904-5ce0-475a-a6e9-b17993246a8e",
   "metadata": {},
   "outputs": [],
   "source": [
    "let myPromise = new Promise((resolve, reject) => {\n",
    "    let success = true;  // yeh condition change ho sakti hai\n",
    "\n",
    "    if(success) {\n",
    "        resolve(\"Operation was successful!\");\n",
    "    } else {\n",
    "        reject(\"Operation failed!\");\n",
    "    }\n",
    "});\n",
    "\n",
    "myPromise\n",
    "    .then((result) => {\n",
    "        console.log(result);  // Agar promise resolve ho gaya\n",
    "    })\n",
    "    .catch((error) => {\n",
    "        console.log(error);  // Agar promise reject ho gaya\n",
    "    });\n"
   ]
  },
  {
   "cell_type": "markdown",
   "id": "8aef02f6-36f1-430e-9ce9-2b81217026c8",
   "metadata": {},
   "source": [
    "new Promise() constructor ke andar ek function hota hai jo resolve ya reject ko call karta hai.\n",
    "\n",
    ".then() method ko use karke hum result ko handle karte hain jab promise resolve hota hai.\n",
    "\n",
    ".catch() method ko use karke hum errors ko handle karte hain jab promise reject hota hai."
   ]
  },
  {
   "cell_type": "markdown",
   "id": "96a37844-ef8a-4566-a29f-41e715ed215b",
   "metadata": {},
   "source": [
    "# Promise Chaining "
   ]
  },
  {
   "cell_type": "markdown",
   "id": "e535e6d9-e65d-4217-ba7f-b8eae790c34f",
   "metadata": {},
   "source": [
    "Promise Chaining ka matlab hota hai ek promise ke result ko use karte hue doosre promise ko sequentially execute karna. Isme ek promise ka result, dusre promise ko handle karne mein use hota hai, aur is tarah se promises ko chain kiya jaata hai.\n",
    "\n",
    "Jab aap .then() method ko call karte ho, to wo ek naya promise return karta hai, jo aap chain kar sakte ho. Isse aap ek promise ke result ke basis par agle steps ko execute kar sakte ho."
   ]
  },
  {
   "cell_type": "code",
   "execution_count": null,
   "id": "a326c505-da29-4f62-95cf-63784f6d000b",
   "metadata": {},
   "outputs": [],
   "source": [
    "let myPromise = new Promise((resolve, reject) => {\n",
    "    let success = true;\n",
    "\n",
    "    if(success) {\n",
    "        resolve(\"First operation was successful!\");\n",
    "    } else {\n",
    "        reject(\"First operation failed!\");\n",
    "    }\n",
    "});\n",
    "\n",
    "myPromise\n",
    "    .then((result) => {\n",
    "        console.log(result);  // \"First operation was successful!\"\n",
    "        return \"Second operation is starting\";  // Yeh return hoga aur next .then() mein pass hoga\n",
    "    })\n",
    "    .then((message) => {\n",
    "        console.log(message);  // \"Second operation is starting\"\n",
    "        return \"Third operation is starting\";  // Yeh bhi return hoga\n",
    "    })\n",
    "    .then((finalMessage) => {\n",
    "        console.log(finalMessage);  // \"Third operation is starting\"\n",
    "    })\n",
    "    .catch((error) => {\n",
    "        console.log(error);  // Agar koi error aata hai toh catch block handle karega\n",
    "    });\n"
   ]
  },
  {
   "cell_type": "markdown",
   "id": "dbcd9f3c-58f7-4d6e-9f25-bc37cfaee8a2",
   "metadata": {},
   "source": [
    "First then(): Agar first promise resolve ho jata hai, to first then() ka callback execute hota hai. Isme hum ek message return karte hain.\n",
    "    \n",
    "Second then(): Jo message first then() se return hota hai, wo second then() ko milta hai aur next operation handle hota hai.\n",
    "\n",
    "Third then(): Ye sequence continue hota hai, aur last then() ka result show hota hai."
   ]
  },
  {
   "cell_type": "markdown",
   "id": "e6d0e710-319f-4cea-a4ef-d927cf6a814a",
   "metadata": {},
   "source": [
    "Sequential Execution: Aap asynchronous operations ko ek sequence mein execute kar sakte hain.\n",
    "\n",
    "Error Handling: Agar kisi bhi promise mein error aata hai, to wo .catch() ke through handle kiya jaata hai."
   ]
  },
  {
   "cell_type": "markdown",
   "id": "22990e3c-ddff-4b78-b7d8-052b9aec6636",
   "metadata": {},
   "source": [
    "# Async and Await "
   ]
  },
  {
   "cell_type": "markdown",
   "id": "e949b9e9-238b-4414-940d-e657f6879ea0",
   "metadata": {},
   "source": [
    "JavaScript me async aur await asynchronous programming ko handle karne ke liye use hote hain. Inka use aise cases me hota hai jahan hume code ko ek time par chalana hota hai, lekin kisi task ko complete hone me thoda waqt lagta hai, jaise kisi API se data fetch karna ya kisi file ko read karna."
   ]
  },
  {
   "cell_type": "markdown",
   "id": "703852ad-b9a8-4e20-bf5c-a927329bdb04",
   "metadata": {},
   "source": [
    "#### async:\n",
    "async ek keyword hai jo function ke aage lagaya jata hai, isse function ko asynchronous bana diya jata hai. Jab aap kisi function ko async banate hain, to us function ke andar aap await ka use kar sakte hain, aur wo promise ko handle kar sakega."
   ]
  },
  {
   "cell_type": "code",
   "execution_count": null,
   "id": "3666da04-0a3b-4fa2-a010-552336132e21",
   "metadata": {},
   "outputs": [],
   "source": [
    "async function myFunction() {\n",
    "  // Code here runs asynchronously\n",
    "}"
   ]
  },
  {
   "cell_type": "markdown",
   "id": "03634cf7-7177-450b-8f32-07a312e4fe68",
   "metadata": {},
   "source": [
    "### await:\n",
    "await ko aap sirf async function ke andar hi use kar sakte hain. Iska kaam hota hai kisi asynchronous operation ko wait karna jab tak wo complete na ho jaye, aur uske baad aage ka code execute hota hai."
   ]
  },
  {
   "cell_type": "code",
   "execution_count": null,
   "id": "0e328d6e-7b00-49aa-bb98-44b93eb0b8c6",
   "metadata": {},
   "outputs": [],
   "source": [
    "async function getData() {\n",
    "  let response = await fetch('https://api.example.com/data');\n",
    "  let data = await response.json();\n",
    "  console.log(data);\n",
    "}\n"
   ]
  },
  {
   "cell_type": "markdown",
   "id": "506ca345-b4f0-4a4a-9ee4-14d522bc683d",
   "metadata": {},
   "source": [
    "### async aur await ka fayda:\n",
    "\n",
    "Code ko clean aur readable banaata hai: Traditional promise chaining ke comparison me, async/await ka use karna zyada readable aur samajhne me asaan hota hai.\n",
    "\n",
    "Error handling: try/catch blocks ka use karke errors ko easily handle kiya ja sakta hai."
   ]
  },
  {
   "cell_type": "code",
   "execution_count": null,
   "id": "0835c294-ae13-4b89-bae7-086b717089e5",
   "metadata": {},
   "outputs": [],
   "source": [
    "async function fetchData() {\n",
    "  try {\n",
    "    let response = await fetch('https://api.example.com/data');\n",
    "    if (!response.ok) throw new Error('Network response was not ok');\n",
    "    let data = await response.json();\n",
    "    console.log(data);\n",
    "  } catch (error) {\n",
    "    console.log('Error:', error);\n",
    "  }\n",
    "}\n"
   ]
  },
  {
   "cell_type": "markdown",
   "id": "21fde005-6a14-4a77-a6db-0b2a0813145b",
   "metadata": {},
   "source": [
    "async function ko asynchronous banaata hai.\n",
    "\n",
    "await kisi promise ka result lene ke liye wait karta hai, lekin code execution ko block nahi karta (event loop ko free rakhta hai)."
   ]
  },
  {
   "cell_type": "markdown",
   "id": "2755c400-b7fc-4306-bcd3-685e4a0738ed",
   "metadata": {},
   "source": [
    "# self-invoked function"
   ]
  },
  {
   "cell_type": "markdown",
   "id": "a82b1415-1500-41b5-aed8-13758046fa6b",
   "metadata": {},
   "source": [
    "A self-invoked function in JavaScript, also known as an Immediately Invoked Function Expression (IIFE), is a function that is defined and executed immediately after its creation."
   ]
  },
  {
   "cell_type": "code",
   "execution_count": null,
   "id": "0758a88e-a097-4dfd-a12d-27f585d4266f",
   "metadata": {},
   "outputs": [],
   "source": [
    "(function() {\n",
    "  console.log(\"This is a self-invoked function!\");\n",
    "})();"
   ]
  },
  {
   "cell_type": "markdown",
   "id": "e5093408-ccb3-4369-aa7f-76c51435bcdf",
   "metadata": {},
   "source": [
    "# event bubbling"
   ]
  },
  {
   "cell_type": "markdown",
   "id": "3abf2320-c1bd-4859-aa83-a3deee33f3b7",
   "metadata": {},
   "source": [
    "JavaScript me event bubbling ek event propagation mechanism hai jisme event sabse pehle child element pe trigger hota hai aur phir parent elements ki taraf propagate (bubble) karta hai. Iska matlab hai ki jab koi event (jaise click, mouseover, etc.) kisi element par hota hai, to wo pehle us element ko handle karega, phir us element ke parent ko, phir uske parent ko, aur aise hi ye parent elements ki chain me upar ki taraf jaata hai, jab tak ki DOM tree ke root element tak nahi pahuch jata."
   ]
  },
  {
   "cell_type": "markdown",
   "id": "fe2cfc00-8b1b-4836-bcc6-9a9f5ef00a72",
   "metadata": {},
   "source": [
    "# Event Bubbling ka Example\n",
    "\n",
    "Maan lijiye, ek {button} element hai jo ek {div} element ke andar hai. Agar dono par click event listeners hain, to jab aap {button} ko click karenge, pehle wo button ka click event trigger hoga, phir wo event {div} ke click listener ko bhi trigger karega (agar uspar bhi event listener set ho)."
   ]
  },
  {
   "cell_type": "code",
   "execution_count": null,
   "id": "4d89c622-f648-40bd-8e92-b03ba6750e20",
   "metadata": {},
   "outputs": [],
   "source": [
    "<div id=\"parent\">\n",
    "  <button id=\"child\">Click Me!</button>\n",
    "</div>\n",
    "\n",
    "<script>\n",
    "  // Parent div pe event listener\n",
    "  document.getElementById(\"parent\").addEventListener(\"click\", function() {\n",
    "    alert(\"Parent clicked!\");\n",
    "  });\n",
    "\n",
    "  // Child button pe event listener\n",
    "  document.getElementById(\"child\").addEventListener(\"click\", function(event) {\n",
    "    alert(\"Button clicked!\");\n",
    "    // event.stopPropagation(); // Isse event bubbling stop ho jayegi\n",
    "  });\n",
    "</script>\n"
   ]
  },
  {
   "cell_type": "markdown",
   "id": "aec1ac9c-6c90-42bd-a5bc-77e5e8236911",
   "metadata": {},
   "source": [
    "Pehle \"Button clicked!\" alert show hoga.\n",
    "\n",
    "Phir \"Parent clicked!\" alert bhi show hoga, kyunki event bubbling ke through parent element ko bhi trigger kiya jaata hai.\n",
    "\n",
    "Agar aap chahte hain ke event bubbling na ho, to aap event.stopPropagation() ka use kar sakte hain, jo event ko propagate hone se rok dega."
   ]
  },
  {
   "cell_type": "markdown",
   "id": "73489732-8ad8-468f-af14-12bebc641da3",
   "metadata": {},
   "source": [
    "##### Summary:\n",
    "\n",
    "Event bubbling ek default behavior hai jisme event child se parent element tak propagate hota hai.\n",
    "\n",
    "Aap is behavior ko stopPropagation() se rok sakte hain."
   ]
  },
  {
   "cell_type": "markdown",
   "id": "fcca0ce0-3916-4aa0-9fcc-b2275f453088",
   "metadata": {},
   "source": [
    "# Event Delegation"
   ]
  },
  {
   "cell_type": "markdown",
   "id": "0468cbfe-ac49-4c96-afdf-1289467ef0fb",
   "metadata": {},
   "source": [
    "JavaScript mein event delegation ek technique hai jisme hum ek parent element pe event listener lagate hain, aur uske child elements pe hone wale events ko handle karte hain. Isse hum directly child elements pe event listener apply karne ki bajaye, parent element pe event listener laga kar code ko zyada efficient aur maintainable bana sakte hain."
   ]
  },
  {
   "cell_type": "markdown",
   "id": "223ea05c-34a2-4fb5-a6f3-d003e917d874",
   "metadata": {},
   "source": [
    "### Event Delegation ka kaam kaise karta hai?\n",
    "Jab hum kisi event ko handle karte hain, jaise click ya hover, toh normally hum har ek child element par event listener laga dete hain. Lekin jab humare paas bohot saare child elements hoon, toh yeh approach inefficient ho sakti hai.\n",
    "\n",
    "Event delegation mein, hum parent element par ek event listener lagate hain, aur jab koi child element trigger hota hai, toh event parent element tak bubble hota hai. Iske baad, hum event target ko check karte hain aur appropriate action perform karte hain."
   ]
  },
  {
   "cell_type": "code",
   "execution_count": null,
   "id": "d4b954ed-92e8-4884-9850-ad1f9823d969",
   "metadata": {},
   "outputs": [],
   "source": [
    "document.querySelector('.list').addEventListener('click', function(event) {\n",
    "  if (event.target && event.target.matches('li.list-item')) {\n",
    "    console.log('Item clicked: ', event.target.textContent);\n",
    "  }\n",
    "});\n"
   ]
  },
  {
   "cell_type": "markdown",
   "id": "8f6c5eff-9e26-40ef-808e-96815737871f",
   "metadata": {},
   "source": [
    "Is case mein, humne .list (parent element) pe ek event listener laga diya hai. Jab bhi koi click event kisi child .list-item par hoga, toh wo event .list par bubble ho kar aayega aur hum event target ko check kar ke uss item ka action perform karenge."
   ]
  },
  {
   "cell_type": "markdown",
   "id": "79637087-b2aa-45bc-a3d7-f44b37e14d68",
   "metadata": {},
   "source": [
    "### Benefits of Event Delegation:\n",
    "\n",
    "Performance Improve hoti hai: Agar bohot saare child elements hain, toh parent element pe ek hi listener hona chahiye, jisse memory usage aur processing time kam hota hai.\n",
    "\n",
    "Dynamic content handle kar sakte hain: Agar list mein elements dynamically add ya remove ho rahe hain, toh aapko har time individual event listener add/remove nahi karni padti.\n",
    "\n",
    "Code cleaner aur maintainable hota hai: Aapko bar-bar child elements pe event listener nahi lagana padta, bas parent pe ek listener laga kar kaam ho jata hai.\n",
    "\n",
    "Memory Efficiency: Aapko har child element par alag se event listener lagane ki zarurat nahi hai. Sirf ek parent element pe listener laga ke saare child elements handle kiye jaa sakte hain.\n",
    "\n",
    "Dynamic Content Support: Agar dynamically koi new li item add hota hai, toh aapko uss pe event listener manually add karne ki zarurat nahi hoti. Parent listener automatically new item ko handle karega.\n",
    "\n",
    "Code Simplification: Code zyada clean aur maintainable ho jata hai, especially jab large DOM structures ho."
   ]
  },
  {
   "cell_type": "markdown",
   "id": "7735e196-b682-4a6d-b43a-5efd2928006d",
   "metadata": {},
   "source": [
    "### Jab Kabhi Event Delegation Use Karna:\n",
    "\n",
    "Multiple child elements hain jin par aapko ek hi type ka event handle karna ho.\n",
    "\n",
    "Agar aapke elements dynamically create hote hain ya remove hote hain.\n",
    "\n",
    "Performance ko improve karna ho, especially jab large DOM tree ho."
   ]
  },
  {
   "cell_type": "code",
   "execution_count": null,
   "id": "a25fcc75-d300-4295-9078-4fbf45f2e88b",
   "metadata": {},
   "outputs": [],
   "source": [
    "document.getElementById('item-list').addEventListener('click', function(event) {\n",
    "  // Check if the clicked element is a list item\n",
    "  if (event.target && event.target.matches('li.list-item')) {\n",
    "    alert(event.target.textContent); // Show the clicked item\n",
    "  }\n",
    "});\n"
   ]
  },
  {
   "cell_type": "markdown",
   "id": "5cb07397-b10e-473d-9928-1940faa9fe07",
   "metadata": {},
   "source": [
    "Event Trigger: Jab bhi li element pe click hota hai, toh click event us li element pe trigger hota hai.\n",
    "\n",
    "Event Bubbling: Click event li element se parent element ul tak bubble karta hai. Agar ul element pe event listener laga ho, toh wo parent listener handle karega.\n",
    "\n",
    "Event Target Matching: Hum event.target ka use karte hain, jo bataata hai ki event kis specific element pe hua. Hum event.target.matches('li.list-item') se ensure karte hain ki event sirf li element pe trigger ho raha ho."
   ]
  },
  {
   "cell_type": "markdown",
   "id": "1586a6ea-9b9a-464e-a6bf-afc176ca975c",
   "metadata": {},
   "source": [
    "# Event bubbling"
   ]
  },
  {
   "cell_type": "markdown",
   "id": "04064f03-860b-4701-9e63-d7c9dfb97023",
   "metadata": {},
   "source": [
    "Event bubbling JavaScript me ek concept hai jisme ek event (jaise click, keypress, etc.) ek child element se parent element tak propagate hota hai. Iska matlab hai ke jab koi event kisi child element par trigger hota hai, to wo parent elements ko bhi notify karta hai, jab tak wo root element tak na pahuch jaye.\n",
    "\n",
    "Yeh process is tarah kaam karta hai:\n",
    "\n",
    "Jab koi event child element par hota hai (jaise ek button par click), wo sabse pehle us child element par execute hota hai.\n",
    "\n",
    "Phir event parent element (jaise div, body, etc.) par propagate hota hai aur wahan bhi execute hota hai.\n",
    "\n",
    "Yeh process parent element se root tak chalti rehti hai."
   ]
  },
  {
   "cell_type": "code",
   "execution_count": null,
   "id": "d13d4cc3-2e6b-4a84-a8c0-a3cef678ae6c",
   "metadata": {},
   "outputs": [],
   "source": [
    "<!DOCTYPE html>\n",
    "<html lang=\"en\">\n",
    "<head>\n",
    "  <meta charset=\"UTF-8\">\n",
    "  <meta name=\"viewport\" content=\"width=device-width, initial-scale=1.0\">\n",
    "  <title>Event Bubbling Example</title>\n",
    "</head>\n",
    "<body>\n",
    "  <div id=\"parent\" style=\"padding: 20px; background-color: lightblue;\">\n",
    "    <button id=\"child\">Click Me</button>\n",
    "  </div>\n",
    "\n",
    "  <script>\n",
    "    // Parent element par event listener\n",
    "    document.getElementById('parent').addEventListener('click', function() {\n",
    "      alert('Parent clicked');\n",
    "    });\n",
    "\n",
    "    // Child element par event listener\n",
    "    document.getElementById('child').addEventListener('click', function(event) {\n",
    "      alert('Child clicked');\n",
    "      // Event ko stop karne ke liye\n",
    "      event.stopPropagation(); // Agar yeh line remove kar den, to bubbling continue rahegi\n",
    "    });\n",
    "  </script>\n",
    "</body>\n",
    "</html>\n"
   ]
  },
  {
   "cell_type": "markdown",
   "id": "41f771f2-ea7a-487b-960e-3f12f65485eb",
   "metadata": {},
   "source": [
    "Is example mein kya ho raha hai:\n",
    "\n",
    "Agar aap \"Click Me\" button par click karte hain, to pehle child element (button) ka click event trigger hota hai aur Child clicked ka alert dikhai deta hai.\n",
    "\n",
    "Phir, agar event.stopPropagation() remove kar diya jaye to, event bubbling continue hoga aur parent element ka event listener bhi trigger hoga, aur Parent clicked ka alert dikhega."
   ]
  },
  {
   "cell_type": "markdown",
   "id": "cc9887f2-dc34-4d47-b61f-398c334bfd93",
   "metadata": {},
   "source": [
    "Event Bubbling ko rokna:\n",
    "\n",
    "Agar aap nahi chahte ke event parent elements tak propagate ho, to aap event.stopPropagation() ka use kar sakte hain, jo event ko bubble hone se rok dega."
   ]
  },
  {
   "cell_type": "code",
   "execution_count": null,
   "id": "602d9d53-b402-4001-9967-5c21ccaa21a5",
   "metadata": {},
   "outputs": [],
   "source": []
  },
  {
   "cell_type": "code",
   "execution_count": null,
   "id": "bac0c436-55a0-4c6d-8cf9-bfb48abc437c",
   "metadata": {},
   "outputs": [],
   "source": []
  },
  {
   "cell_type": "code",
   "execution_count": null,
   "id": "99b484eb-61e0-4ef4-bb9a-45fdf053ad1c",
   "metadata": {},
   "outputs": [],
   "source": []
  },
  {
   "cell_type": "code",
   "execution_count": null,
   "id": "62585032-7fac-4ada-aa56-300efe262b77",
   "metadata": {},
   "outputs": [],
   "source": []
  }
 ],
 "metadata": {
  "kernelspec": {
   "display_name": "Python 3 (ipykernel)",
   "language": "python",
   "name": "python3"
  },
  "language_info": {
   "codemirror_mode": {
    "name": "ipython",
    "version": 3
   },
   "file_extension": ".py",
   "mimetype": "text/x-python",
   "name": "python",
   "nbconvert_exporter": "python",
   "pygments_lexer": "ipython3",
   "version": "3.12.6"
  }
 },
 "nbformat": 4,
 "nbformat_minor": 5
}
