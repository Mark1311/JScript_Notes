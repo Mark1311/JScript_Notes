{
 "cells": [
  {
   "cell_type": "markdown",
   "id": "cadd5d48-dc59-432f-84d4-ca7e64b2132b",
   "metadata": {},
   "source": [
    "# Js 100 Question"
   ]
  },
  {
   "cell_type": "code",
   "execution_count": null,
   "id": "3da3b142-598e-4110-882b-6c5c3f7488d5",
   "metadata": {},
   "outputs": [],
   "source": [
    "let a = []\n",
    "let b = []\n",
    "\n",
    "print(a == b) # False\n",
    "print(a === b) # False\n",
    "\n",
    "Bcz's actual memory location are diff of both variable's."
   ]
  },
  {
   "cell_type": "code",
   "execution_count": null,
   "id": "a37aa175-655b-4128-9ccf-930225aa5e8a",
   "metadata": {},
   "outputs": [],
   "source": [
    "let a = []\n",
    "let b = a\n",
    "\n",
    "print(a == b) # False\n",
    "print(a === b) # True\n",
    "\n",
    "Bcz's both variables has located on same memory. var b is directly reference to var a."
   ]
  },
  {
   "cell_type": "code",
   "execution_count": null,
   "id": "c93db8af-3c29-445a-9375-ef9c60ba2c44",
   "metadata": {},
   "outputs": [],
   "source": [
    "let a = [20]\n",
    "let b = [20]\n",
    "print(a[0] == b[0]) # True\n",
    "print(a[0] === b[0]) # True\n",
    "\n",
    "locaion memory compare nhi ho rhi ha direct value compare ho rhi ha yaha."
   ]
  },
  {
   "cell_type": "code",
   "execution_count": null,
   "id": "c01a7775-9137-42c5-ab38-bd00141ea902",
   "metadata": {},
   "outputs": [],
   "source": [
    "console.log(typeof NaN)\n",
    "#output ==> Number"
   ]
  },
  {
   "cell_type": "code",
   "execution_count": null,
   "id": "c6b75a05-8e89-422e-9221-6de3d90450fd",
   "metadata": {},
   "outputs": [],
   "source": [
    "let data = {name:\"bittu\"}\n",
    "console.log(delete data.name) # True\n",
    "ye batata ha ki data delete hua ha ya nhi.\n",
    "\n",
    "console.log(delete data) # False.\n",
    "data ko directly delete nhi kr shkte ha."
   ]
  },
  {
   "cell_type": "code",
   "execution_count": null,
   "id": "0f9f4e0a-f1e1-47e7-88b8-6af1ef559a98",
   "metadata": {},
   "outputs": [],
   "source": [
    "let data = {name: bittu, age : 25}\n",
    "let {name} data\n",
    "let {age} = data\n",
    "\n",
    "console.log(name) # bittu\n",
    "console.log(age) # 25"
   ]
  },
  {
   "cell_type": "code",
   "execution_count": null,
   "id": "77ccb63a-e56c-4bdb-8b10-2381cffa9b68",
   "metadata": {},
   "outputs": [],
   "source": [
    "let data = {name: bittu, age : 25}\n",
    "let ingo = {add: delhi}\n",
    "console.log(data, ...info)\n",
    "# {data: {name: bittu, age : 25}, add: \"delhi\"}"
   ]
  },
  {
   "cell_type": "code",
   "execution_count": null,
   "id": "e17c9cf2-54b8-414a-90e8-996239d46d90",
   "metadata": {},
   "outputs": [],
   "source": [
    "let data = {name: bittu, age : 25}\n",
    "let ingo = {add: delhi}\n",
    "console.log(...data, ...info)\n",
    "# {name: bittu, age : 25, add: \"delhi\"}"
   ]
  },
  {
   "cell_type": "code",
   "execution_count": null,
   "id": "7dad848a-4128-4c83-b7c2-aa8b326f8817",
   "metadata": {},
   "outputs": [],
   "source": [
    "console.log(isNaN (\"String\")) # True\n",
    "console.log(isNaN (34)) # False"
   ]
  },
  {
   "cell_type": "code",
   "execution_count": null,
   "id": "aa30d1ec-4b60-43e3-9338-2b8fd2fe0989",
   "metadata": {},
   "outputs": [],
   "source": [
    "let data = \"True\"\n",
    "console.log(!data) # False"
   ]
  },
  {
   "cell_type": "code",
   "execution_count": null,
   "id": "09a33677-3b8c-4eff-b87f-6ffb19ce5797",
   "metadata": {},
   "outputs": [],
   "source": [
    "let data = 'true'\n",
    "console.log(!!data) # True"
   ]
  },
  {
   "cell_type": "code",
   "execution_count": null,
   "id": "4db2f898-6b1c-4d4c-abdb-b5b141e16268",
   "metadata": {},
   "outputs": [],
   "source": [
    "let data = [\"anil\", \"pet\", \"det\"]\n",
    "delete data[1]\n",
    "console.log(data)\n",
    "# [anil, empty, det]"
   ]
  },
  {
   "cell_type": "code",
   "execution_count": null,
   "id": "9af5fe93-c3c8-49d1-a7f1-3bde7dfda203",
   "metadata": {},
   "outputs": [],
   "source": [
    "let a = 30\n",
    "let A = 300\n",
    "console.log(a) # 30\n",
    "console.log(A) # 300"
   ]
  },
  {
   "cell_type": "code",
   "execution_count": null,
   "id": "098a26ec-7094-40ab-b9a4-71a649941c4d",
   "metadata": {},
   "outputs": [],
   "source": [
    "let a = \"like\"\n",
    "let b = 'like'\n",
    "print(a === b) # True"
   ]
  },
  {
   "cell_type": "code",
   "execution_count": null,
   "id": "06da3718-e7a1-4fb4-b77a-12f9c8583fd3",
   "metadata": {},
   "outputs": [],
   "source": [
    "let a = 1\n",
    "let b = 2\n",
    "print(--b === a) # True"
   ]
  },
  {
   "cell_type": "code",
   "execution_count": null,
   "id": "e7bf3a84-695a-445e-a21c-2e9f988ba7b7",
   "metadata": {},
   "outputs": [],
   "source": [
    "a = 1\n",
    "b = 1\n",
    "c = 2\n",
    "print(a === b ===-c)\n",
    "# True"
   ]
  },
  {
   "cell_type": "code",
   "execution_count": null,
   "id": "dfc9ae5b-e299-4575-b41f-9de729996a27",
   "metadata": {},
   "outputs": [],
   "source": [
    "console.log(a)\n",
    "var a\n",
    "# Undefind"
   ]
  },
  {
   "cell_type": "code",
   "execution_count": null,
   "id": "27c98860-239b-416c-a2c7-f2d6f2057e7f",
   "metadata": {},
   "outputs": [],
   "source": [
    "console.log(b)\n",
    "# not defind"
   ]
  },
  {
   "cell_type": "code",
   "execution_count": null,
   "id": "52f58e50-019d-45a7-9e93-3fa086f884df",
   "metadata": {},
   "outputs": [],
   "source": [
    "for(var i =0, i<3, i++){\n",
    "    console.log(i)\n",
    "}\n",
    "# output:-  3\n",
    "            3\n",
    "            3"
   ]
  },
  {
   "cell_type": "code",
   "execution_count": null,
   "id": "3e85a185-6d21-4188-ae9b-76bc09e3736a",
   "metadata": {},
   "outputs": [],
   "source": [
    "for(let i =0, i<3, i++){\n",
    "    console.log(i)\n",
    "}\n",
    "# output:-  0\n",
    "            1\n",
    "            2"
   ]
  },
  {
   "cell_type": "code",
   "execution_count": null,
   "id": "9f57ed52-85cd-4bc3-8d5f-59ab6c6854ca",
   "metadata": {},
   "outputs": [],
   "source": [
    "console.log(typeof +ture)\n",
    "# Number"
   ]
  },
  {
   "cell_type": "code",
   "execution_count": null,
   "id": "7a5c9359-19ff-4e74-9eda-7327bb08b1a9",
   "metadata": {},
   "outputs": [],
   "source": [
    "console.log(! \" string\") #False\n",
    "console.log(typeof (\"bittu\")) #string"
   ]
  },
  {
   "cell_type": "code",
   "execution_count": null,
   "id": "723dd539-90f0-44aa-a093-1a38fe656860",
   "metadata": {},
   "outputs": [],
   "source": [
    "let c = {name : \"bittu\"}\n",
    "let d\n",
    "d = c\n",
    "c.name = \"anil\"\n",
    "console.log(d.name) # anil"
   ]
  },
  {
   "cell_type": "code",
   "execution_count": null,
   "id": "91bc17d3-167f-4141-849d-7361f316acfe",
   "metadata": {},
   "outputs": [],
   "source": [
    "var x;\n",
    "var x = 10\n",
    "print(x) #10"
   ]
  },
  {
   "cell_type": "code",
   "execution_count": null,
   "id": "d40b1d95-8caf-4e97-a9c5-0bcb3ca40ffa",
   "metadata": {},
   "outputs": [],
   "source": [
    "var x;\n",
    "let x = 10\n",
    "print(x) #error"
   ]
  },
  {
   "cell_type": "code",
   "execution_count": null,
   "id": "45a5f452-89d5-4f24-b45f-1a4e5be52102",
   "metadata": {},
   "outputs": [],
   "source": [
    "let a = 3\n",
    "let b = new Number(3)\n",
    "console.log(a == b) #True\n",
    "console.log(a === b) # False"
   ]
  },
  {
   "cell_type": "code",
   "execution_count": null,
   "id": "7bbc0708-daea-4257-a2ed-714447b921e9",
   "metadata": {},
   "outputs": [],
   "source": [
    "function sum(a, b){\n",
    "    return a+b;\n",
    "}\n",
    "console.log(sum(1, \"2\"))\n",
    "# 12"
   ]
  },
  {
   "cell_type": "code",
   "execution_count": null,
   "id": "a31b1317-b3aa-4fd2-bba5-3b8699160650",
   "metadata": {},
   "outputs": [],
   "source": [
    "let a = 2\n",
    "print(a++) # 2\n",
    "print(++a) # 3\n",
    "print(a) # 2"
   ]
  },
  {
   "cell_type": "code",
   "execution_count": null,
   "id": "fa40f064-367f-47e1-a6db-1558c7b7cd93",
   "metadata": {},
   "outputs": [],
   "source": [
    "console.log(typeof typeof 1)\n",
    "# String\n",
    "console.log(typeof 1)\n",
    "# Number"
   ]
  },
  {
   "cell_type": "code",
   "execution_count": null,
   "id": "faf7330f-1379-451b-9ce1-2356cceb8c6c",
   "metadata": {},
   "outputs": [],
   "source": [
    "const a = [1,2,3]\n",
    "a[6] =12\n",
    "console.log(a)\n",
    "# [1,2,3, empty, empty, empty, 6]"
   ]
  },
  {
   "cell_type": "code",
   "execution_count": null,
   "id": "f4976b62-78dd-4963-8070-dc2977a49dc6",
   "metadata": {},
   "outputs": [],
   "source": [
    "const a = [1,2,3]\n",
    "a[9] =a\n",
    "console.log(a)\n",
    "# <ref *1> [ 1, 2, 3, <6 empty items>, [Circular *1] ]\n",
    "# Infinity position tkk array runn hoga."
   ]
  },
  {
   "cell_type": "code",
   "execution_count": null,
   "id": "c0e78009-a497-4a41-85d1-80994abd5367",
   "metadata": {},
   "outputs": [],
   "source": [
    "console.log(!! null) # False\n",
    "console.log(!! \"\") #False\n",
    "console.log(!! 1) True"
   ]
  },
  {
   "cell_type": "code",
   "execution_count": null,
   "id": "56c83d5e-6b84-4a25-a36d-047f4f4d6e3d",
   "metadata": {},
   "outputs": [],
   "source": [
    "console.log([...\"bittu\"])\n",
    "# [b,i,t,t,u]"
   ]
  },
  {
   "cell_type": "code",
   "execution_count": null,
   "id": "2c481ed2-5e54-472d-a318-78ab7d3082d1",
   "metadata": {},
   "outputs": [],
   "source": [
    "let data = 1+2+\"3\"\n",
    "typeof data\n",
    "# String\n",
    "# 33"
   ]
  },
  {
   "cell_type": "code",
   "execution_count": null,
   "id": "93d8f2a2-3312-4d2b-be8c-fe7865f82f2b",
   "metadata": {},
   "outputs": [],
   "source": [
    "print(3+4++\"5\")\n",
    "# 12\n",
    "# Number"
   ]
  },
  {
   "cell_type": "code",
   "execution_count": null,
   "id": "f56a4137-96ec-479a-b4b1-9019c2d8e403",
   "metadata": {},
   "outputs": [],
   "source": [
    "print([]===[])\n",
    "# False"
   ]
  },
  {
   "cell_type": "code",
   "execution_count": null,
   "id": "2f5b1181-9479-4181-80dc-c44c7a73bb62",
   "metadata": {},
   "outputs": [],
   "source": [
    "console.log(!true - true)\n",
    "# -1"
   ]
  },
  {
   "cell_type": "code",
   "execution_count": null,
   "id": "fe6df024-2f9f-4716-a72b-5dc17929d4f4",
   "metadata": {},
   "outputs": [],
   "source": [
    "console.log(true + +\"10\")\n",
    "# 11"
   ]
  },
  {
   "cell_type": "markdown",
   "id": "1591cccd-844d-4b87-9d61-4c8c96309e71",
   "metadata": {},
   "source": [
    "# Convert String to Array"
   ]
  },
  {
   "cell_type": "code",
   "execution_count": null,
   "id": "ae61e247-1102-4634-97a1-096b60c44e9c",
   "metadata": {},
   "outputs": [],
   "source": [
    "console.log(str.split())\n",
    "console.log([str])\n",
    "console.log([...str])\n",
    "console.log(str.split(''))"
   ]
  },
  {
   "cell_type": "code",
   "execution_count": null,
   "id": "0f67c754-add5-4494-84f8-e51f92635393",
   "metadata": {},
   "outputs": [],
   "source": [
    "# Replace Char.\n",
    "\n",
    "console.log(str.replace(\"H\",\"Z\"))"
   ]
  },
  {
   "cell_type": "code",
   "execution_count": null,
   "id": "035a200b-dbf5-48a4-927c-456e89e84ff7",
   "metadata": {},
   "outputs": [],
   "source": [
    "# Remove Last Char.\n",
    "console.log(Str.Substring(0, Str.length -1))"
   ]
  },
  {
   "cell_type": "code",
   "execution_count": null,
   "id": "a58eb82d-28ce-4c50-a52f-a25dafca901e",
   "metadata": {},
   "outputs": [],
   "source": [
    "# Substring Create:-\n",
    "console.log(Str.Substring(Staring Index, Ending Index))"
   ]
  },
  {
   "cell_type": "markdown",
   "id": "f6e740ce-f86d-447c-ab7d-c7edc3d92c6e",
   "metadata": {},
   "source": [
    "Note:- Undefinde is take the memory but not defind is not take memory."
   ]
  },
  {
   "cell_type": "markdown",
   "id": "5efecb44-4d3f-4942-8bd7-e20ec535fc33",
   "metadata": {},
   "source": [
    "# Diff between Function and Method."
   ]
  },
  {
   "cell_type": "markdown",
   "id": "87afb3ee-7024-4c75-a2d7-e6540fc5374b",
   "metadata": {},
   "source": [
    "### Function:- "
   ]
  },
  {
   "cell_type": "code",
   "execution_count": null,
   "id": "dc4493be-3cb4-4b4a-9a8d-ed8ce7d16782",
   "metadata": {},
   "outputs": [],
   "source": [
    "1. A block of Code.\n",
    "\n",
    "2. Call directly.\n",
    "\n",
    "3. invoked => ()\n",
    "\n",
    "4. function live on its own."
   ]
  },
  {
   "cell_type": "markdown",
   "id": "16ecfd49-5ecb-4deb-b2bd-2bbc34fa79bb",
   "metadata": {},
   "source": [
    "# Methods"
   ]
  },
  {
   "cell_type": "code",
   "execution_count": null,
   "id": "91f38909-e72e-4941-8b4f-036408d714dc",
   "metadata": {},
   "outputs": [],
   "source": [
    "1. An obj property that has a fun value.\n",
    "\n",
    "2. obj = {methodName : fun(){\n",
    "    \n",
    "}}\n",
    "\n",
    "obj.methodName()\n",
    "\n",
    "3. Called using obj Name with . (dot Notation).\n",
    "\n",
    "4. Function Assiocated with an obj property."
   ]
  },
  {
   "cell_type": "markdown",
   "id": "c14e6ba5-c9d5-40b2-b805-47da84ad8e94",
   "metadata": {},
   "source": [
    "# Event propagation"
   ]
  },
  {
   "cell_type": "markdown",
   "id": "87c99d6a-6599-404c-bdc7-3d4fb0153bfc",
   "metadata": {},
   "source": [
    "Event propagation web development me ek process hai jisme events, jaise ki click, keypress, ya mouseover, ek HTML element se dusre element tak propagate karte hain. Ye process do tariko se hoti hai: Bubbling aur Capturing.\n",
    "\n",
    "## Event Bubbling:\n",
    "\n",
    "Jab ek event ek element pe trigger hota hai, to wo pehle us element ko affect karta hai jahan event hua, phir wo us element ke parent ko affect karta hai, aur aise hi ye chain me propagate hota rehta hai jab tak root element tak nahi pahuchta.\n",
    "    \n",
    "### Example: \n",
    "Agar ek button ke click event ko ek div ke andar wrap kiya gaya ho, to pehle button ka event handle hoga, phir div ka event, aur phir uske parent elements tak propagate karega.\n",
    "\n",
    "## Event Capturing (Phase):\n",
    "\n",
    "Capturing me, event sabse pehle document ke root element se start hota hai, aur phir wo target element tak propagate karta hai.\n",
    "    \n",
    "### Example: \n",
    "    \n",
    "Agar ek event div ke andar trigger hota hai, to wo pehle parent elements ko affect karega, aur phir target element tak pahuchta hai.\n",
    "\n",
    "### Stop Propagation:\n",
    "Agar aap nahi chahte ke event propagate ho, to aap event.stopPropagation() use kar sakte hain. Isse event ka propagation ruk jata hai aur wo sirf usi element tak limited rahata hai jahan wo trigger hua tha.\n",
    "\n",
    "### Practical Use:\n",
    "Event propagation ka istemal aap event delegation me karte hain, jisme aap parent element pe event listener laga kar child elements ke events handle karte hain, jo ki dynamically generate hote hain.\n",
    "\n",
    "Kuch is tarah se event propagation ko samjha ja sakta hai!"
   ]
  },
  {
   "cell_type": "code",
   "execution_count": null,
   "id": "5d2cbcda-364b-4c3c-a113-d67f47109e8d",
   "metadata": {},
   "outputs": [],
   "source": []
  },
  {
   "cell_type": "code",
   "execution_count": null,
   "id": "2de84181-4c30-4447-8ecb-f08dd98df031",
   "metadata": {},
   "outputs": [],
   "source": []
  },
  {
   "cell_type": "code",
   "execution_count": null,
   "id": "a3b025f7-ec79-438a-9bbb-196a4701012f",
   "metadata": {},
   "outputs": [],
   "source": []
  },
  {
   "cell_type": "code",
   "execution_count": null,
   "id": "979ea77a-1ee5-4106-8dd5-429e84393aab",
   "metadata": {},
   "outputs": [],
   "source": []
  },
  {
   "cell_type": "code",
   "execution_count": null,
   "id": "ef1705ba-9884-410e-b6c1-6d634d541752",
   "metadata": {},
   "outputs": [],
   "source": []
  },
  {
   "cell_type": "code",
   "execution_count": null,
   "id": "d966e5a9-a8f0-48a2-b310-20d7086ab148",
   "metadata": {},
   "outputs": [],
   "source": []
  },
  {
   "cell_type": "code",
   "execution_count": null,
   "id": "51c4bc55-d076-43f5-9e7b-8659259efbd1",
   "metadata": {},
   "outputs": [],
   "source": []
  },
  {
   "cell_type": "code",
   "execution_count": null,
   "id": "cac46962-d0bd-4a42-b4d4-4a3984a1bb72",
   "metadata": {},
   "outputs": [],
   "source": []
  },
  {
   "cell_type": "code",
   "execution_count": null,
   "id": "426e603b-d7ce-4ff9-a3ab-942b1059e64b",
   "metadata": {},
   "outputs": [],
   "source": []
  },
  {
   "cell_type": "code",
   "execution_count": null,
   "id": "1044a9b0-35a9-4308-9897-ae3154d230e7",
   "metadata": {},
   "outputs": [],
   "source": []
  },
  {
   "cell_type": "code",
   "execution_count": null,
   "id": "e02545e3-613c-468f-945f-726f04df69d1",
   "metadata": {},
   "outputs": [],
   "source": []
  },
  {
   "cell_type": "code",
   "execution_count": null,
   "id": "199cabe5-9109-4b31-a40e-0d9c2327538b",
   "metadata": {},
   "outputs": [],
   "source": []
  },
  {
   "cell_type": "code",
   "execution_count": null,
   "id": "15d1d43b-8d4f-42a9-bbca-62249d915c1c",
   "metadata": {},
   "outputs": [],
   "source": []
  },
  {
   "cell_type": "code",
   "execution_count": null,
   "id": "abd05690-f849-4aa3-b933-5b83968e55c3",
   "metadata": {},
   "outputs": [],
   "source": []
  },
  {
   "cell_type": "code",
   "execution_count": null,
   "id": "8c1d4bea-cfc6-449f-a1a1-c98dbf16c274",
   "metadata": {},
   "outputs": [],
   "source": []
  },
  {
   "cell_type": "code",
   "execution_count": null,
   "id": "31fc58c2-28ba-450c-94b0-61f62c923299",
   "metadata": {},
   "outputs": [],
   "source": []
  },
  {
   "cell_type": "code",
   "execution_count": null,
   "id": "094dd6c3-a60b-4305-aad9-349c5893ae95",
   "metadata": {},
   "outputs": [],
   "source": []
  },
  {
   "cell_type": "code",
   "execution_count": null,
   "id": "054d0c2f-b87f-49d4-b691-7f97f759e4fa",
   "metadata": {},
   "outputs": [],
   "source": []
  },
  {
   "cell_type": "code",
   "execution_count": null,
   "id": "bb04eacb-0de1-417f-b823-14ee6ecd9fe0",
   "metadata": {},
   "outputs": [],
   "source": []
  },
  {
   "cell_type": "code",
   "execution_count": null,
   "id": "4ca4b371-9e90-4fdb-a8a7-0f81f31f8a9c",
   "metadata": {},
   "outputs": [],
   "source": []
  },
  {
   "cell_type": "code",
   "execution_count": null,
   "id": "b125fda7-ea3f-4ab4-9ab0-1ac2cf460b33",
   "metadata": {},
   "outputs": [],
   "source": []
  },
  {
   "cell_type": "code",
   "execution_count": null,
   "id": "e5686430-c172-494f-8e5d-51a49e5deba5",
   "metadata": {},
   "outputs": [],
   "source": []
  },
  {
   "cell_type": "code",
   "execution_count": null,
   "id": "0e305f7e-c517-42b6-9c04-6cde8215c24a",
   "metadata": {},
   "outputs": [],
   "source": []
  },
  {
   "cell_type": "code",
   "execution_count": null,
   "id": "215ac305-9344-47f9-915b-d665017cb6e1",
   "metadata": {},
   "outputs": [],
   "source": []
  },
  {
   "cell_type": "code",
   "execution_count": null,
   "id": "f2b50f85-3b83-4d2b-887c-ca52bea15873",
   "metadata": {},
   "outputs": [],
   "source": []
  },
  {
   "cell_type": "code",
   "execution_count": null,
   "id": "168b1d71-ffdd-4874-bb01-283c33e14514",
   "metadata": {},
   "outputs": [],
   "source": []
  },
  {
   "cell_type": "code",
   "execution_count": null,
   "id": "993a9b78-b54a-4453-85fa-2dc7dc22fc9e",
   "metadata": {},
   "outputs": [],
   "source": []
  },
  {
   "cell_type": "code",
   "execution_count": null,
   "id": "0378b31f-c02d-44a4-85fe-f34101b9441b",
   "metadata": {},
   "outputs": [],
   "source": []
  },
  {
   "cell_type": "code",
   "execution_count": null,
   "id": "82a8915c-8820-4cdc-a591-8e5645d78ef6",
   "metadata": {},
   "outputs": [],
   "source": []
  },
  {
   "cell_type": "code",
   "execution_count": null,
   "id": "304935ff-4eba-4621-98f4-be015abcbea5",
   "metadata": {},
   "outputs": [],
   "source": []
  },
  {
   "cell_type": "code",
   "execution_count": null,
   "id": "547e8974-10dd-4643-bc2f-d08c6f251af3",
   "metadata": {},
   "outputs": [],
   "source": []
  },
  {
   "cell_type": "code",
   "execution_count": null,
   "id": "a08de0f3-5498-4c2d-8e75-1152279e7b13",
   "metadata": {},
   "outputs": [],
   "source": []
  },
  {
   "cell_type": "code",
   "execution_count": null,
   "id": "0a02aefe-0754-4dc6-b16f-3d1f622cba68",
   "metadata": {},
   "outputs": [],
   "source": []
  },
  {
   "cell_type": "code",
   "execution_count": null,
   "id": "b7ca7d23-7a6c-4c28-be8c-5491c5d205cb",
   "metadata": {},
   "outputs": [],
   "source": []
  },
  {
   "cell_type": "code",
   "execution_count": null,
   "id": "e9dcd9b0-781f-4437-bc1d-cba176653f01",
   "metadata": {},
   "outputs": [],
   "source": []
  },
  {
   "cell_type": "code",
   "execution_count": null,
   "id": "d7442847-082b-4ac8-8822-0ca9af499c24",
   "metadata": {},
   "outputs": [],
   "source": []
  },
  {
   "cell_type": "code",
   "execution_count": null,
   "id": "9bf0a15e-3c6b-458a-bf39-9749526dc85d",
   "metadata": {},
   "outputs": [],
   "source": []
  },
  {
   "cell_type": "code",
   "execution_count": null,
   "id": "5bb97c95-a1af-43c6-9039-c00040faa9b6",
   "metadata": {},
   "outputs": [],
   "source": []
  },
  {
   "cell_type": "code",
   "execution_count": null,
   "id": "c43ce912-f6fb-4f75-8f32-5ad55237a4ec",
   "metadata": {},
   "outputs": [],
   "source": []
  }
 ],
 "metadata": {
  "kernelspec": {
   "display_name": "Python 3 (ipykernel)",
   "language": "python",
   "name": "python3"
  },
  "language_info": {
   "codemirror_mode": {
    "name": "ipython",
    "version": 3
   },
   "file_extension": ".py",
   "mimetype": "text/x-python",
   "name": "python",
   "nbconvert_exporter": "python",
   "pygments_lexer": "ipython3",
   "version": "3.12.6"
  }
 },
 "nbformat": 4,
 "nbformat_minor": 5
}
